{
 "cells": [
  {
   "cell_type": "code",
   "execution_count": 36,
   "metadata": {},
   "outputs": [],
   "source": [
    "#Importing the required libraries\n",
    "from selenium import webdriver\n",
    "from selenium.webdriver.chrome.service import Service\n",
    "from selenium.webdriver.common.by import By\n",
    "from selenium.webdriver.support.ui import WebDriverWait\n",
    "from selenium.webdriver.support import expected_conditions as EC\n",
    "from selenium.webdriver.support.ui import Select\n",
    "import pandas as pd\n",
    "from webdriver_manager.chrome import ChromeDriverManager\n"
   ]
  },
  {
   "cell_type": "code",
   "execution_count": 37,
   "metadata": {},
   "outputs": [],
   "source": [
    "# Setup Chrome WebDriver\n",
    "service = Service(ChromeDriverManager().install())\n",
    "options = webdriver.ChromeOptions()\n",
    "options.headless = True  # Enable headless mode\n",
    "driver = webdriver.Chrome(service=service, options=options)\n",
    "driver.get(\"https://www.sharesansar.com/index-history-data\")\n"
   ]
  },
  {
   "cell_type": "code",
   "execution_count": 38,
   "metadata": {},
   "outputs": [],
   "source": [
    "# Function to clear and input date\n",
    "def set_date(input_id, date_value):\n",
    "    element = WebDriverWait(driver, 10).until(EC.element_to_be_clickable((By.ID, input_id)))\n",
    "    element.clear()\n",
    "    element.send_keys(date_value)\n",
    "    \n",
    "    # Set date range\n",
    "set_date(\"fromDate\", \"2023-01-01\")\n",
    "set_date(\"toDate\", \"2023-12-31\")\n"
   ]
  },
  {
   "cell_type": "code",
   "execution_count": 39,
   "metadata": {},
   "outputs": [],
   "source": [
    "# Clicking the search button\n",
    "search_button = WebDriverWait(driver, 10).until(EC.element_to_be_clickable((By.ID, \"btn_indxhis_submit\")))\n",
    "search_button.click()\n"
   ]
  },
  {
   "cell_type": "code",
   "execution_count": 40,
   "metadata": {},
   "outputs": [],
   "source": [
    "# Wait for the search results to be visible\n",
    "WebDriverWait(driver, 10).until(EC.visibility_of_element_located((By.ID, \"myTable\")))\n",
    "\n",
    "# Select number of rows to display per page (50 in this case)\n",
    "select = Select(WebDriverWait(driver, 10).until(EC.element_to_be_clickable((By.NAME, \"myTable_length\"))))\n",
    "select.select_by_value('50')  # Changes the dropdown to show 50 entries per page"
   ]
  },
  {
   "cell_type": "code",
   "execution_count": 41,
   "metadata": {},
   "outputs": [
    {
     "ename": "StaleElementReferenceException",
     "evalue": "Message: stale element reference: stale element not found in the current frame\n  (Session info: chrome=124.0.6367.119); For documentation on this error, please visit: https://www.selenium.dev/documentation/webdriver/troubleshooting/errors#stale-element-reference-exception\nStacktrace:\n\tGetHandleVerifier [0x0056C113+48259]\n\t(No symbol) [0x004FCA41]\n\t(No symbol) [0x003F0A17]\n\t(No symbol) [0x003F5B58]\n\t(No symbol) [0x003F7652]\n\t(No symbol) [0x003F76D0]\n\t(No symbol) [0x0042BEF1]\n\t(No symbol) [0x00450D9C]\n\t(No symbol) [0x00426E25]\n\t(No symbol) [0x00451034]\n\t(No symbol) [0x00469B9C]\n\t(No symbol) [0x00450B36]\n\t(No symbol) [0x0042570D]\n\t(No symbol) [0x004262CD]\n\tGetHandleVerifier [0x00826533+2908323]\n\tGetHandleVerifier [0x00863B4B+3159739]\n\tGetHandleVerifier [0x0060505B+674763]\n\tGetHandleVerifier [0x0060B21C+699788]\n\t(No symbol) [0x00506244]\n\t(No symbol) [0x00502298]\n\t(No symbol) [0x0050242C]\n\t(No symbol) [0x004F4BB0]\n\tBaseThreadInitThunk [0x762B7BA9+25]\n\tRtlInitializeExceptionChain [0x76FDBE3B+107]\n\tRtlClearBits [0x76FDBDBF+191]\n",
     "output_type": "error",
     "traceback": [
      "\u001b[1;31m---------------------------------------------------------------------------\u001b[0m",
      "\u001b[1;31mStaleElementReferenceException\u001b[0m            Traceback (most recent call last)",
      "Cell \u001b[1;32mIn[41], line 9\u001b[0m\n\u001b[0;32m      7\u001b[0m \u001b[38;5;28;01mfor\u001b[39;00m row \u001b[38;5;129;01min\u001b[39;00m rows:\n\u001b[0;32m      8\u001b[0m     cols \u001b[38;5;241m=\u001b[39m row\u001b[38;5;241m.\u001b[39mfind_elements(By\u001b[38;5;241m.\u001b[39mTAG_NAME, \u001b[38;5;124m'\u001b[39m\u001b[38;5;124mtd\u001b[39m\u001b[38;5;124m'\u001b[39m)\n\u001b[1;32m----> 9\u001b[0m     data\u001b[38;5;241m.\u001b[39mappend([\u001b[43mcol\u001b[49m\u001b[38;5;241;43m.\u001b[39;49m\u001b[43mtext\u001b[49m \u001b[38;5;28;01mfor\u001b[39;00m col \u001b[38;5;129;01min\u001b[39;00m cols])\n\u001b[0;32m     11\u001b[0m     \u001b[38;5;66;03m# Check if the next button is enabled and clickable\u001b[39;00m\n\u001b[0;32m     12\u001b[0m     next_button \u001b[38;5;241m=\u001b[39m WebDriverWait(driver, \u001b[38;5;241m10\u001b[39m)\u001b[38;5;241m.\u001b[39muntil(\n\u001b[0;32m     13\u001b[0m         EC\u001b[38;5;241m.\u001b[39melement_to_be_clickable((By\u001b[38;5;241m.\u001b[39mID, \u001b[38;5;124m\"\u001b[39m\u001b[38;5;124mmyTable_next\u001b[39m\u001b[38;5;124m\"\u001b[39m))\n\u001b[0;32m     14\u001b[0m     )\n",
      "File \u001b[1;32mc:\\Users\\hp\\gitdemo\\DataScienceAZ\\venv\\Lib\\site-packages\\selenium\\webdriver\\remote\\webelement.py:90\u001b[0m, in \u001b[0;36mWebElement.text\u001b[1;34m(self)\u001b[0m\n\u001b[0;32m     87\u001b[0m \u001b[38;5;129m@property\u001b[39m\n\u001b[0;32m     88\u001b[0m \u001b[38;5;28;01mdef\u001b[39;00m \u001b[38;5;21mtext\u001b[39m(\u001b[38;5;28mself\u001b[39m) \u001b[38;5;241m-\u001b[39m\u001b[38;5;241m>\u001b[39m \u001b[38;5;28mstr\u001b[39m:\n\u001b[0;32m     89\u001b[0m \u001b[38;5;250m    \u001b[39m\u001b[38;5;124;03m\"\"\"The text of the element.\"\"\"\u001b[39;00m\n\u001b[1;32m---> 90\u001b[0m     \u001b[38;5;28;01mreturn\u001b[39;00m \u001b[38;5;28;43mself\u001b[39;49m\u001b[38;5;241;43m.\u001b[39;49m\u001b[43m_execute\u001b[49m\u001b[43m(\u001b[49m\u001b[43mCommand\u001b[49m\u001b[38;5;241;43m.\u001b[39;49m\u001b[43mGET_ELEMENT_TEXT\u001b[49m\u001b[43m)\u001b[49m[\u001b[38;5;124m\"\u001b[39m\u001b[38;5;124mvalue\u001b[39m\u001b[38;5;124m\"\u001b[39m]\n",
      "File \u001b[1;32mc:\\Users\\hp\\gitdemo\\DataScienceAZ\\venv\\Lib\\site-packages\\selenium\\webdriver\\remote\\webelement.py:395\u001b[0m, in \u001b[0;36mWebElement._execute\u001b[1;34m(self, command, params)\u001b[0m\n\u001b[0;32m    393\u001b[0m     params \u001b[38;5;241m=\u001b[39m {}\n\u001b[0;32m    394\u001b[0m params[\u001b[38;5;124m\"\u001b[39m\u001b[38;5;124mid\u001b[39m\u001b[38;5;124m\"\u001b[39m] \u001b[38;5;241m=\u001b[39m \u001b[38;5;28mself\u001b[39m\u001b[38;5;241m.\u001b[39m_id\n\u001b[1;32m--> 395\u001b[0m \u001b[38;5;28;01mreturn\u001b[39;00m \u001b[38;5;28;43mself\u001b[39;49m\u001b[38;5;241;43m.\u001b[39;49m\u001b[43m_parent\u001b[49m\u001b[38;5;241;43m.\u001b[39;49m\u001b[43mexecute\u001b[49m\u001b[43m(\u001b[49m\u001b[43mcommand\u001b[49m\u001b[43m,\u001b[49m\u001b[43m \u001b[49m\u001b[43mparams\u001b[49m\u001b[43m)\u001b[49m\n",
      "File \u001b[1;32mc:\\Users\\hp\\gitdemo\\DataScienceAZ\\venv\\Lib\\site-packages\\selenium\\webdriver\\remote\\webdriver.py:347\u001b[0m, in \u001b[0;36mWebDriver.execute\u001b[1;34m(self, driver_command, params)\u001b[0m\n\u001b[0;32m    345\u001b[0m response \u001b[38;5;241m=\u001b[39m \u001b[38;5;28mself\u001b[39m\u001b[38;5;241m.\u001b[39mcommand_executor\u001b[38;5;241m.\u001b[39mexecute(driver_command, params)\n\u001b[0;32m    346\u001b[0m \u001b[38;5;28;01mif\u001b[39;00m response:\n\u001b[1;32m--> 347\u001b[0m     \u001b[38;5;28;43mself\u001b[39;49m\u001b[38;5;241;43m.\u001b[39;49m\u001b[43merror_handler\u001b[49m\u001b[38;5;241;43m.\u001b[39;49m\u001b[43mcheck_response\u001b[49m\u001b[43m(\u001b[49m\u001b[43mresponse\u001b[49m\u001b[43m)\u001b[49m\n\u001b[0;32m    348\u001b[0m     response[\u001b[38;5;124m\"\u001b[39m\u001b[38;5;124mvalue\u001b[39m\u001b[38;5;124m\"\u001b[39m] \u001b[38;5;241m=\u001b[39m \u001b[38;5;28mself\u001b[39m\u001b[38;5;241m.\u001b[39m_unwrap_value(response\u001b[38;5;241m.\u001b[39mget(\u001b[38;5;124m\"\u001b[39m\u001b[38;5;124mvalue\u001b[39m\u001b[38;5;124m\"\u001b[39m, \u001b[38;5;28;01mNone\u001b[39;00m))\n\u001b[0;32m    349\u001b[0m     \u001b[38;5;28;01mreturn\u001b[39;00m response\n",
      "File \u001b[1;32mc:\\Users\\hp\\gitdemo\\DataScienceAZ\\venv\\Lib\\site-packages\\selenium\\webdriver\\remote\\errorhandler.py:229\u001b[0m, in \u001b[0;36mErrorHandler.check_response\u001b[1;34m(self, response)\u001b[0m\n\u001b[0;32m    227\u001b[0m         alert_text \u001b[38;5;241m=\u001b[39m value[\u001b[38;5;124m\"\u001b[39m\u001b[38;5;124malert\u001b[39m\u001b[38;5;124m\"\u001b[39m]\u001b[38;5;241m.\u001b[39mget(\u001b[38;5;124m\"\u001b[39m\u001b[38;5;124mtext\u001b[39m\u001b[38;5;124m\"\u001b[39m)\n\u001b[0;32m    228\u001b[0m     \u001b[38;5;28;01mraise\u001b[39;00m exception_class(message, screen, stacktrace, alert_text)  \u001b[38;5;66;03m# type: ignore[call-arg]  # mypy is not smart enough here\u001b[39;00m\n\u001b[1;32m--> 229\u001b[0m \u001b[38;5;28;01mraise\u001b[39;00m exception_class(message, screen, stacktrace)\n",
      "\u001b[1;31mStaleElementReferenceException\u001b[0m: Message: stale element reference: stale element not found in the current frame\n  (Session info: chrome=124.0.6367.119); For documentation on this error, please visit: https://www.selenium.dev/documentation/webdriver/troubleshooting/errors#stale-element-reference-exception\nStacktrace:\n\tGetHandleVerifier [0x0056C113+48259]\n\t(No symbol) [0x004FCA41]\n\t(No symbol) [0x003F0A17]\n\t(No symbol) [0x003F5B58]\n\t(No symbol) [0x003F7652]\n\t(No symbol) [0x003F76D0]\n\t(No symbol) [0x0042BEF1]\n\t(No symbol) [0x00450D9C]\n\t(No symbol) [0x00426E25]\n\t(No symbol) [0x00451034]\n\t(No symbol) [0x00469B9C]\n\t(No symbol) [0x00450B36]\n\t(No symbol) [0x0042570D]\n\t(No symbol) [0x004262CD]\n\tGetHandleVerifier [0x00826533+2908323]\n\tGetHandleVerifier [0x00863B4B+3159739]\n\tGetHandleVerifier [0x0060505B+674763]\n\tGetHandleVerifier [0x0060B21C+699788]\n\t(No symbol) [0x00506244]\n\t(No symbol) [0x00502298]\n\t(No symbol) [0x0050242C]\n\t(No symbol) [0x004F4BB0]\n\tBaseThreadInitThunk [0x762B7BA9+25]\n\tRtlInitializeExceptionChain [0x76FDBE3B+107]\n\tRtlClearBits [0x76FDBDBF+191]\n"
     ]
    }
   ],
   "source": [
    "# Collect data\n",
    "data = []\n",
    "while True:\n",
    "    rows = WebDriverWait(driver, 10).until(\n",
    "        EC.presence_of_all_elements_located((By.CSS_SELECTOR, \"#myTable tbody tr\"))\n",
    "    )\n",
    "    for row in rows:\n",
    "        cols = row.find_elements(By.TAG_NAME, 'td')\n",
    "        data.append([col.text for col in cols])\n",
    "\n",
    "        # Check if the next button is enabled and clickable\n",
    "        next_button = WebDriverWait(driver, 10).until(\n",
    "            EC.element_to_be_clickable((By.ID, \"myTable_next\"))\n",
    "        )\n",
    "        if \"disabled\" in next_button.get_attribute(\"class\"):\n",
    "            break  # Exit loop if 'Next' button is disabled (last page)\n",
    "        next_button.click()\n",
    "        # Re-locate the elements inside the loop to avoid stale element reference error\n",
    "        rows = WebDriverWait(driver, 10).until(\n",
    "            EC.presence_of_all_elements_located((By.CSS_SELECTOR, \"#myTable tbody tr\"))\n",
    "        )\n"
   ]
  },
  {
   "cell_type": "code",
   "execution_count": null,
   "metadata": {},
   "outputs": [],
   "source": []
  }
 ],
 "metadata": {
  "kernelspec": {
   "display_name": "Python 3",
   "language": "python",
   "name": "python3"
  },
  "language_info": {
   "codemirror_mode": {
    "name": "ipython",
    "version": 3
   },
   "file_extension": ".py",
   "mimetype": "text/x-python",
   "name": "python",
   "nbconvert_exporter": "python",
   "pygments_lexer": "ipython3",
   "version": "3.12.2"
  }
 },
 "nbformat": 4,
 "nbformat_minor": 2
}
