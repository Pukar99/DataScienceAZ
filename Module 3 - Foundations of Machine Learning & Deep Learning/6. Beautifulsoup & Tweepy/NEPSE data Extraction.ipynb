{
 "cells": [
  {
   "cell_type": "code",
   "execution_count": 8,
   "metadata": {},
   "outputs": [
    {
     "name": "stdout",
     "output_type": "stream",
     "text": [
      "Reached the last page or encountered an error: Message: \n",
      "\n",
      "  S.N.      Open      High       Low     Close  Change Per Change (%)  \\\n",
      "0    1  1,980.22  1,980.22  1,952.96  1,958.75  -15.62          -0.79   \n",
      "1    2  1,998.44  1,998.52  1,970.23  1,974.37  -24.58          -1.23   \n",
      "2    3  2,025.78  2,025.78  1,995.84  1,998.96   -7.31          -0.36   \n",
      "3    4  1,991.10  2,016.57  1,979.36  2,006.28   25.93           1.30   \n",
      "4    5  1,990.31  1,990.31  1,974.93  1,980.34    0.07           0.00   \n",
      "\n",
      "           Turnover        Date  \n",
      "0  2,891,319,979.87  2024-05-06  \n",
      "1  3,795,748,296.38  2024-05-05  \n",
      "2  4,133,362,726.23  2024-05-02  \n",
      "3  4,800,044,601.66  2024-04-30  \n",
      "4  2,959,458,501.43  2024-04-29  \n"
     ]
    }
   ],
   "source": [
    "from selenium import webdriver\n",
    "from selenium.webdriver.chrome.service import Service\n",
    "from webdriver_manager.chrome import ChromeDriverManager\n",
    "from selenium.webdriver.common.by import By\n",
    "from selenium.webdriver.support.ui import WebDriverWait\n",
    "from selenium.webdriver.support import expected_conditions as EC\n",
    "import pandas as pd\n",
    "\n",
    "# Setup Chrome WebDriver\n",
    "service = Service(ChromeDriverManager().install())\n",
    "options = webdriver.ChromeOptions()\n",
    "options.headless = True  # Enable headless mode\n",
    "driver = webdriver.Chrome(service=service, options=options)\n",
    "driver.get(\"https://www.sharesansar.com/index-history-data\")\n",
    "\n",
    "# Wait for the table to be visible\n",
    "WebDriverWait(driver, 10).until(\n",
    "    EC.visibility_of_element_located((By.ID, \"myTable\"))\n",
    ")\n",
    "\n",
    "# Collect data\n",
    "data = []\n",
    "while True:\n",
    "    rows = WebDriverWait(driver, 10).until(\n",
    "        EC.presence_of_all_elements_located((By.CSS_SELECTOR, \"#myTable tbody tr\"))\n",
    "    )\n",
    "    for row in rows:\n",
    "        cols = row.find_elements(By.TAG_NAME, 'td')\n",
    "        data.append([col.text for col in cols])\n",
    "    try:\n",
    "        next_button = WebDriverWait(driver, 5).until(\n",
    "            EC.element_to_be_clickable((By.LINK_TEXT, 'Next'))\n",
    "        )\n",
    "        next_button.click()\n",
    "        # Ensure the table refreshes\n",
    "        WebDriverWait(driver, 10).until(\n",
    "            EC.staleness_of(rows[0])\n",
    "        )\n",
    "    except Exception as e:\n",
    "        print(\"Reached the last page or encountered an error:\", str(e))\n",
    "        break\n",
    "\n",
    "# Close the driver\n",
    "driver.quit()\n",
    "\n",
    "# Create a DataFrame\n",
    "df = pd.DataFrame(data, columns=[\"S.N.\", \"Open\", \"High\", \"Low\", \"Close\", \"Change\", \"Per Change (%)\", \"Turnover\", \"Date\"])\n",
    "print(df.head())\n"
   ]
  },
  {
   "cell_type": "code",
   "execution_count": 9,
   "metadata": {},
   "outputs": [
    {
     "data": {
      "text/plain": [
       "(17, 9)"
      ]
     },
     "execution_count": 9,
     "metadata": {},
     "output_type": "execute_result"
    }
   ],
   "source": [
    "df.shape"
   ]
  },
  {
   "cell_type": "code",
   "execution_count": 19,
   "metadata": {},
   "outputs": [
    {
     "name": "stdout",
     "output_type": "stream",
     "text": [
      "Reached the last page or encountered an error: Message: stale element reference: stale element not found in the current frame\n",
      "  (Session info: chrome=124.0.6367.119); For documentation on this error, please visit: https://www.selenium.dev/documentation/webdriver/troubleshooting/errors#stale-element-reference-exception\n",
      "Stacktrace:\n",
      "\tGetHandleVerifier [0x0117C113+48259]\n",
      "\t(No symbol) [0x0110CA41]\n",
      "\t(No symbol) [0x01000A17]\n",
      "\t(No symbol) [0x01005B58]\n",
      "\t(No symbol) [0x01007652]\n",
      "\t(No symbol) [0x010076D0]\n",
      "\t(No symbol) [0x0103BEF1]\n",
      "\t(No symbol) [0x01060D9C]\n",
      "\t(No symbol) [0x01036E25]\n",
      "\t(No symbol) [0x01061034]\n",
      "\t(No symbol) [0x01079B9C]\n",
      "\t(No symbol) [0x01060B36]\n",
      "\t(No symbol) [0x0103570D]\n",
      "\t(No symbol) [0x010362CD]\n",
      "\tGetHandleVerifier [0x01436533+2908323]\n",
      "\tGetHandleVerifier [0x01473B4B+3159739]\n",
      "\tGetHandleVerifier [0x0121505B+674763]\n",
      "\tGetHandleVerifier [0x0121B21C+699788]\n",
      "\t(No symbol) [0x01116244]\n",
      "\t(No symbol) [0x01112298]\n",
      "\t(No symbol) [0x0111242C]\n",
      "\t(No symbol) [0x01104BB0]\n",
      "\tBaseThreadInitThunk [0x766B7BA9+25]\n",
      "\tRtlInitializeExceptionChain [0x77BFBE3B+107]\n",
      "\tRtlClearBits [0x77BFBDBF+191]\n",
      "\n",
      "Empty DataFrame\n",
      "Columns: [S.N., Open, High, Low, Close, Change, Per Change (%), Turnover, Date]\n",
      "Index: []\n"
     ]
    }
   ],
   "source": [
    "from selenium import webdriver\n",
    "from selenium.webdriver.chrome.service import Service\n",
    "from webdriver_manager.chrome import ChromeDriverManager\n",
    "from selenium.webdriver.common.by import By\n",
    "from selenium.webdriver.support.ui import WebDriverWait\n",
    "from selenium.webdriver.support import expected_conditions as EC\n",
    "import pandas as pd\n",
    "\n",
    "# Setup Chrome WebDriver\n",
    "service = Service(ChromeDriverManager().install())\n",
    "options = webdriver.ChromeOptions()\n",
    "options.headless = True  # Enable headless mode\n",
    "driver = webdriver.Chrome(service=service, options=options)\n",
    "driver.get(\"https://www.sharesansar.com/index-history-data\")\n",
    "\n",
    "# Set date inputs and click the search button\n",
    "WebDriverWait(driver, 10).until(EC.visibility_of_element_located((By.ID, \"fromDate\"))).send_keys(\"2010-01-01\")\n",
    "driver.find_element(By.ID, \"toDate\").send_keys(\"2012-01-01\")\n",
    "driver.find_element(By.ID, \"btn_indxhis_submit\").click()\n",
    "\n",
    "# Collect data\n",
    "data = []\n",
    "while True:\n",
    "    try:\n",
    "        # Wait for the rows to be visible and stable\n",
    "        rows = WebDriverWait(driver, 10).until(\n",
    "            EC.presence_of_all_elements_located((By.CSS_SELECTOR, \"#myTable tbody tr\"))\n",
    "        )\n",
    "        for row in rows:\n",
    "            cols = row.find_elements(By.TAG_NAME, 'td')\n",
    "            data.append([col.text for col in cols])\n",
    "        \n",
    "        # Navigate to the next page if available\n",
    "        next_button = WebDriverWait(driver, 5).until(\n",
    "            EC.element_to_be_clickable((By.ID, 'myTable_next'))\n",
    "        )\n",
    "        if \"disabled\" in next_button.get_attribute(\"class\"):\n",
    "            break\n",
    "        next_button.click()\n",
    "        WebDriverWait(driver, 10).until(EC.staleness_of(rows[0]))\n",
    "    except Exception as e:\n",
    "        print(\"Reached the last page or encountered an error:\", str(e))\n",
    "        break\n",
    "\n",
    "# Close the driver\n",
    "driver.quit()\n",
    "\n",
    "# Create a DataFrame and print\n",
    "df = pd.DataFrame(data, columns=[\"S.N.\", \"Open\", \"High\", \"Low\", \"Close\", \"Change\", \"Per Change (%)\", \"Turnover\", \"Date\"])\n",
    "print(df.head())\n"
   ]
  },
  {
   "cell_type": "code",
   "execution_count": 20,
   "metadata": {},
   "outputs": [
    {
     "data": {
      "text/plain": [
       "<bound method DataFrame.info of Empty DataFrame\n",
       "Columns: [S.N., Open, High, Low, Close, Change, Per Change (%), Turnover, Date]\n",
       "Index: []>"
      ]
     },
     "execution_count": 20,
     "metadata": {},
     "output_type": "execute_result"
    }
   ],
   "source": [
    "df.info"
   ]
  },
  {
   "cell_type": "code",
   "execution_count": 21,
   "metadata": {},
   "outputs": [
    {
     "data": {
      "text/plain": [
       "(0, 9)"
      ]
     },
     "execution_count": 21,
     "metadata": {},
     "output_type": "execute_result"
    }
   ],
   "source": [
    "df.shape"
   ]
  },
  {
   "cell_type": "code",
   "execution_count": null,
   "metadata": {},
   "outputs": [],
   "source": []
  }
 ],
 "metadata": {
  "kernelspec": {
   "display_name": "Python 3",
   "language": "python",
   "name": "python3"
  },
  "language_info": {
   "codemirror_mode": {
    "name": "ipython",
    "version": 3
   },
   "file_extension": ".py",
   "mimetype": "text/x-python",
   "name": "python",
   "nbconvert_exporter": "python",
   "pygments_lexer": "ipython3",
   "version": "3.12.2"
  }
 },
 "nbformat": 4,
 "nbformat_minor": 2
}
