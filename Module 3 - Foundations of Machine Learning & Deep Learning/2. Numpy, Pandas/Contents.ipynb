{
 "cells": [
  {
   "cell_type": "code",
   "execution_count": null,
   "metadata": {},
   "outputs": [],
   "source": [
    "# Numpy and Pandas from basics to advanced\n",
    "\n",
    "# Numpy\n",
    "# Numpy is a library for the Python programming language, adding support for large, multi-dimensional arrays and matrices, along with a large collection of high-level mathematical functions to operate on these arrays.\n",
    "\n",
    "# Pandas\n",
    "# Pandas is a software library written for the Python programming language for data manipulation and analysis. In particular, it offers data structures and operations for manipulating numerical tables and time series.\n",
    "\n",
    "# Numpy and Pandas are the most popular libraries for data manipulation and analysis in Python.\n",
    "\n"
   ]
  },
  {
   "cell_type": "code",
   "execution_count": null,
   "metadata": {},
   "outputs": [],
   "source": [
    "# Numpy\n",
    "# Numpy is a library for the Python programming language, adding support for large, multi-dimensional arrays and matrices, along with a large collection of high-level mathematical functions to operate on these arrays.\n",
    "# Contents of Numpy\n",
    "# 1. Introduction to Numpy\n",
    "# 2. Numpy Array\n",
    "# 3. Numpy Array Operations\n",
    "# 4. Numpy Array Slicing\n",
    "# 5. Numpy Array Iteration\n",
    "# 6. Numpy Array Join\n",
    "# 7. Numpy Array Split\n",
    "# 8. Numpy Array Search\n",
    "# 9. Numpy Array Sort\n",
    "# 10. Numpy Array Filter\n",
    "# 11. Numpy Random\n",
    "# 12. Numpy Math Functions\n",
    "# 13. Numpy Statistics\n",
    "# 14. Numpy Constants\n",
    "# 15. Numpy Datatypes\n",
    "# 16. Numpy Copy vs View\n",
    "# 17. Numpy Matrix Library\n",
    "# 18. Numpy Linear Algebra\n",
    "# 19. Numpy Polynomial\n",
    "# 20. Numpy String Functions\n",
    "# 21. Numpy DateTime\n",
    "# 22. Numpy IO\n",
    "# 23. Numpy Images\n",
    "# 24. Numpy Applications\n",
    "# 25. Numpy Quiz\n",
    "# 26. Numpy Exercises\n",
    "# 27. Numpy Examples\n",
    "\n",
    "# Pandas\n",
    "# Pandas is a software library written for the Python programming language for data manipulation and analysis. In particular, it offers data structures and operations for manipulating numerical tables and time series.\n",
    "# Contents of Pandas\n",
    "# 1. Introduction to Pandas\n",
    "# 2. Pandas Series\n",
    "# 3. Pandas DataFrame\n",
    "# 4. Pandas Indexing\n",
    "# 5. Pandas GroupBy\n",
    "# 6. Pandas Missing Data\n",
    "# 7. Pandas Concatenation\n",
    "# 8. Pandas Merging\n",
    "# 9. Pandas Join\n",
    "# 10. Pandas Iteration\n",
    "# 11. Pandas Sorting\n",
    "# 12. Pandas Aggregating\n",
    "# 13. Pandas Cleaning\n",
    "# 14. Pandas Input and Output\n",
    "# 15. Pandas Options and Settings\n",
    "# 16. Pandas Style\n",
    "# 17. Pandas Reindexing\n",
    "# 18. Pandas Date Functionality\n",
    "# 19. Pandas TimeDelta\n",
    "# 20. Pandas Categorical Data\n",
    "# 21. Pandas Visualization\n",
    "# 22. Pandas Time Series\n",
    "# 23. Pandas Time Period\n",
    "# 24. Pandas Window Functions\n",
    "# 25. Pandas Resampling\n",
    "# 26. Pandas Scaling\n",
    "# 27. Pandas Serialization\n",
    "# 28. Pandas Getting Data In/Out\n",
    "# 29. Pandas Comparison with SQL\n",
    "# 30. Pandas Examples\n",
    "# 31. Pandas Quiz\n",
    "\n",
    "# Numpy and Pandas are the most popular libraries for data manipulation and analysis in Python.\n",
    "\n"
   ]
  },
  {
   "cell_type": "code",
   "execution_count": 1,
   "metadata": {},
   "outputs": [
    {
     "name": "stdout",
     "output_type": "stream",
     "text": [
      "[1 2 3 4 5]\n"
     ]
    }
   ],
   "source": [
    "# 1. Introduction to Numpy\n",
    "# Numpy is a library for the Python programming language, adding support for large, multi-dimensional arrays and matrices, along with a large collection of high-level mathematical functions to operate on these arrays.\n",
    "\n",
    "\n",
    "# 2. Numpy Array\n",
    "# Numpy Array is a grid of values, all of the same type, and is indexed by a tuple of nonnegative integers. The number of dimensions is the rank of the array; the shape of an array is a tuple of integers giving the size of the array along each dimension.\n",
    "# We can initialize numpy arrays from nested Python lists and access elements using square brackets.\n",
    "\n",
    "# Example\n",
    "# Create a NumPy array from a list\n",
    "import numpy as np\n",
    "arr = np.array([1, 2, 3, 4, 5])\n",
    "print(arr)\n",
    "# Output: [1 2 3 4 5]"
   ]
  },
  {
   "cell_type": "code",
   "execution_count": 2,
   "metadata": {},
   "outputs": [
    {
     "name": "stdout",
     "output_type": "stream",
     "text": [
      "[ 7  9 11 13 15]\n",
      "[-5 -5 -5 -5 -5]\n",
      "[ 6 14 24 36 50]\n",
      "[0.16666667 0.28571429 0.375      0.44444444 0.5       ]\n"
     ]
    }
   ],
   "source": [
    "# 3. Numpy Array Operations\n",
    "# Numpy Array Operations include basic operations like addition, subtraction, multiplication, and division. We can perform these operations only on arrays of the same shape.\n",
    "\n",
    "# Example\n",
    "# Perform basic operations on NumPy arrays\n",
    "import numpy as np\n",
    "arr1 = np.array([1, 2, 3, 4, 5])\n",
    "arr2 = np.array([6, 7, 8, 9, 10])\n",
    "print(arr1 + arr2)\n",
    "print(arr1 - arr2)\n",
    "print(arr1 * arr2)\n",
    "print(arr1 / arr2)\n",
    "# Output:\n",
    "# [ 7  9 11 13 15]\n",
    "# [-5 -5 -5 -5 -5]\n",
    "# [ 6 14 24 36 50]\n",
    "# [0.16666667 0.28571429 0.375 0.44444444 0.5]\n"
   ]
  },
  {
   "cell_type": "code",
   "execution_count": 6,
   "metadata": {},
   "outputs": [
    {
     "name": "stdout",
     "output_type": "stream",
     "text": [
      "[ 2  4  7  9 10]\n",
      "[2 3 4]\n",
      "[1, 2, 3, 4, 5, 6, 7, 8, 9, 10]\n",
      "[2, 3, 4]\n",
      "<class 'numpy.ndarray'>\n",
      "<class 'list'>\n"
     ]
    }
   ],
   "source": [
    "# 4. Numpy Array Slicing\n",
    "# Numpy Array Slicing is the process of extracting a subset of elements from an array. We can slice arrays using the colon (:) operator.\n",
    "\n",
    "# Example\n",
    "# Slice NumPy arrays\n",
    "import numpy as np\n",
    "arr = np.array([1, 2, 3, 4, 5])\n",
    "arr2 = np.array([1,2,4,5,5])\n",
    "arr3 = arr+arr2\n",
    "print(arr3)\n",
    "print(arr[1:4])\n",
    "# Output: [2 3 4]\n",
    "\n",
    "list1 = [1, 2, 3, 4, 5]\n",
    "list2 = [6, 7, 8, 9, 10]\n",
    "list3 = list1 + list2\n",
    "print(list3)\n",
    "print(list1[1:4])\n",
    "# Output: [2, 3, 4]\n",
    "\n",
    "print(type(arr[1:4]))\n",
    "print(type(list1[1:4]))\n"
   ]
  },
  {
   "cell_type": "code",
   "execution_count": 7,
   "metadata": {},
   "outputs": [
    {
     "name": "stdout",
     "output_type": "stream",
     "text": [
      "1\n",
      "<class 'NoneType'>\n",
      "2\n",
      "<class 'NoneType'>\n",
      "3\n",
      "<class 'NoneType'>\n",
      "4\n",
      "<class 'NoneType'>\n",
      "5\n",
      "<class 'NoneType'>\n"
     ]
    }
   ],
   "source": [
    "# 5. Numpy Array Iteration\n",
    "# Numpy Array Iteration is the process of accessing each element in an array. We can use loops to iterate over NumPy arrays.\n",
    "\n",
    "# Example\n",
    "# Iterate over NumPy arrays\n",
    "import numpy as np\n",
    "arr = np.array([1, 2, 3, 4, 5])\n",
    "for x in arr:\n",
    "    print(type(print(x)))\n",
    "# Output:\n",
    "# 1\n",
    "# 2\n",
    "# 3\n",
    "# 4\n",
    "# 5\n"
   ]
  },
  {
   "cell_type": "code",
   "execution_count": 17,
   "metadata": {},
   "outputs": [
    {
     "name": "stdout",
     "output_type": "stream",
     "text": [
      "[1, 2, 3, 2, 5, 6]\n",
      "None\n",
      "[1 2 3 4 5 6]\n",
      "21\n"
     ]
    }
   ],
   "source": [
    "# 6. Numpy Array Join\n",
    "# Numpy Array Join is the process of combining two or more arrays into a single array. We can use the concatenate() function to join arrays.\n",
    "\n",
    "# Example\n",
    "# Join NumPy arrays\n",
    "import numpy as np\n",
    "arr1 = np.array([1, 2, 3])\n",
    "arr2 = np.array([4, 5, 6])\n",
    "\n",
    "list1 = [1, 2, 3]\n",
    "list2 = [2, 5, 6]\n",
    "list3 = list1 + list2\n",
    "print(list3)\n",
    "list4 = list1.append(list2)\n",
    "print(list4)\n",
    "arr3 = np.concatenate((arr1, arr2))\n",
    "arr4 = np.sum((arr1, arr2))\n",
    "print(arr3)\n",
    "print(arr4)\n",
    "# Output: [1 2 3 4 5 6]"
   ]
  },
  {
   "cell_type": "code",
   "execution_count": 18,
   "metadata": {},
   "outputs": [
    {
     "name": "stdout",
     "output_type": "stream",
     "text": [
      "[array([1, 2]), array([3, 4]), array([5, 6])]\n"
     ]
    }
   ],
   "source": [
    "# 7. Numpy Array Split\n",
    "# Numpy Array Split is the process of dividing an array into multiple sub-arrays. We can use the split() function to split arrays.\n",
    "\n",
    "# Example\n",
    "# Split NumPy arrays\n",
    "import numpy as np\n",
    "arr = np.array([1, 2, 3, 4, 5, 6])\n",
    "newarr = np.split(arr, 3)\n",
    "print(newarr)\n",
    "# Output: [array([1, 2]), array([3, 4]), array([5, 6])]\n",
    "\n"
   ]
  },
  {
   "cell_type": "code",
   "execution_count": null,
   "metadata": {},
   "outputs": [],
   "source": []
  }
 ],
 "metadata": {
  "kernelspec": {
   "display_name": "Python 3",
   "language": "python",
   "name": "python3"
  },
  "language_info": {
   "codemirror_mode": {
    "name": "ipython",
    "version": 3
   },
   "file_extension": ".py",
   "mimetype": "text/x-python",
   "name": "python",
   "nbconvert_exporter": "python",
   "pygments_lexer": "ipython3",
   "version": "3.12.2"
  }
 },
 "nbformat": 4,
 "nbformat_minor": 2
}
