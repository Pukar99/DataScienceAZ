{
 "cells": [
  {
   "cell_type": "code",
   "execution_count": null,
   "metadata": {},
   "outputs": [],
   "source": [
    "# Numpy and Pandas from basics to advanced\n",
    "\n",
    "# Numpy\n",
    "# Numpy is a library for the Python programming language, adding support for large, multi-dimensional arrays and matrices, along with a large collection of high-level mathematical functions to operate on these arrays.\n",
    "\n",
    "# Pandas\n",
    "# Pandas is a software library written for the Python programming language for data manipulation and analysis. In particular, it offers data structures and operations for manipulating numerical tables and time series.\n",
    "\n",
    "# Numpy and Pandas are the most popular libraries for data manipulation and analysis in Python.\n",
    "\n"
   ]
  },
  {
   "cell_type": "code",
   "execution_count": null,
   "metadata": {},
   "outputs": [],
   "source": [
    "# Numpy\n",
    "# Numpy is a library for the Python programming language, adding support for large, multi-dimensional arrays and matrices, along with a large collection of high-level mathematical functions to operate on these arrays.\n",
    "# Contents of Numpy\n",
    "# 1. Introduction to Numpy\n",
    "# 2. Numpy Array\n",
    "# 3. Numpy Array Operations\n",
    "# 4. Numpy Array Slicing\n",
    "# 5. Numpy Array Iteration\n",
    "# 6. Numpy Array Join\n",
    "# 7. Numpy Array Split\n",
    "# 8. Numpy Array Search\n",
    "# 9. Numpy Array Sort\n",
    "# 10. Numpy Array Filter\n",
    "# 11. Numpy Random\n",
    "# 12. Numpy Math Functions\n",
    "# 13. Numpy Statistics\n",
    "# 14. Numpy Constants\n",
    "# 15. Numpy Datatypes\n",
    "# 16. Numpy Copy vs View\n",
    "# 17. Numpy Matrix Library\n",
    "# 18. Numpy Linear Algebra\n",
    "# 19. Numpy Polynomial\n",
    "# 20. Numpy String Functions\n",
    "# 21. Numpy DateTime\n",
    "# 22. Numpy IO\n",
    "# 23. Numpy Images\n",
    "# 24. Numpy Applications\n",
    "# 25. Numpy Quiz\n",
    "# 26. Numpy Exercises\n",
    "# 27. Numpy Examples\n",
    "\n",
    "# Pandas\n",
    "# Pandas is a software library written for the Python programming language for data manipulation and analysis. In particular, it offers data structures and operations for manipulating numerical tables and time series.\n",
    "# Contents of Pandas\n",
    "# 1. Introduction to Pandas\n",
    "# 2. Pandas Series\n",
    "# 3. Pandas DataFrame\n",
    "# 4. Pandas Indexing\n",
    "# 5. Pandas GroupBy\n",
    "# 6. Pandas Missing Data\n",
    "# 7. Pandas Concatenation\n",
    "# 8. Pandas Merging\n",
    "# 9. Pandas Join\n",
    "# 10. Pandas Iteration\n",
    "# 11. Pandas Sorting\n",
    "# 12. Pandas Aggregating\n",
    "# 13. Pandas Cleaning\n",
    "# 14. Pandas Input and Output\n",
    "# 15. Pandas Options and Settings\n",
    "# 16. Pandas Style\n",
    "# 17. Pandas Reindexing\n",
    "# 18. Pandas Date Functionality\n",
    "# 19. Pandas TimeDelta\n",
    "# 20. Pandas Categorical Data\n",
    "# 21. Pandas Visualization\n",
    "# 22. Pandas Time Series\n",
    "# 23. Pandas Time Period\n",
    "# 24. Pandas Window Functions\n",
    "# 25. Pandas Resampling\n",
    "# 26. Pandas Scaling\n",
    "# 27. Pandas Serialization\n",
    "# 28. Pandas Getting Data In/Out\n",
    "# 29. Pandas Comparison with SQL\n",
    "# 30. Pandas Examples\n",
    "# 31. Pandas Quiz\n",
    "\n",
    "# Numpy and Pandas are the most popular libraries for data manipulation and analysis in Python.\n",
    "\n"
   ]
  },
  {
   "cell_type": "code",
   "execution_count": 1,
   "metadata": {},
   "outputs": [
    {
     "name": "stdout",
     "output_type": "stream",
     "text": [
      "[1 2 3 4 5]\n"
     ]
    }
   ],
   "source": [
    "# 1. Introduction to Numpy\n",
    "# Numpy is a library for the Python programming language, adding support for large, multi-dimensional arrays and matrices, along with a large collection of high-level mathematical functions to operate on these arrays.\n",
    "\n",
    "\n",
    "# 2. Numpy Array\n",
    "# Numpy Array is a grid of values, all of the same type, and is indexed by a tuple of nonnegative integers. The number of dimensions is the rank of the array; the shape of an array is a tuple of integers giving the size of the array along each dimension.\n",
    "# We can initialize numpy arrays from nested Python lists and access elements using square brackets.\n",
    "\n",
    "# Example\n",
    "# Create a NumPy array from a list\n",
    "import numpy as np\n",
    "arr = np.array([1, 2, 3, 4, 5])\n",
    "print(arr)\n",
    "# Output: [1 2 3 4 5]"
   ]
  },
  {
   "cell_type": "code",
   "execution_count": null,
   "metadata": {},
   "outputs": [],
   "source": []
  }
 ],
 "metadata": {
  "kernelspec": {
   "display_name": "Python 3",
   "language": "python",
   "name": "python3"
  },
  "language_info": {
   "codemirror_mode": {
    "name": "ipython",
    "version": 3
   },
   "file_extension": ".py",
   "mimetype": "text/x-python",
   "name": "python",
   "nbconvert_exporter": "python",
   "pygments_lexer": "ipython3",
   "version": "3.12.2"
  }
 },
 "nbformat": 4,
 "nbformat_minor": 2
}
