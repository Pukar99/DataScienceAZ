{
 "cells": [
  {
   "cell_type": "code",
   "execution_count": null,
   "metadata": {},
   "outputs": [],
   "source": [
    "## OOPs in Python for Data Science\n",
    "## Object Oriented Programming in Python\n",
    "## Classes and Objects\n",
    "\n",
    "## Class is a blueprint for creating objects\n",
    "## Objects are instances of a class\n",
    "\n",
    "# Contents:\n",
    "# 1. Creating a Class\n",
    "# 2. Creating an Object\n",
    "# 3. Instance Variables\n",
    "# 4. Methods\n",
    "# 5. Constructor\n",
    "# 6. Inheritance\n",
    "# 7. Encapsulation\n",
    "# 8. Polymorphism\n",
    "\n"
   ]
  },
  {
   "cell_type": "code",
   "execution_count": 1,
   "metadata": {},
   "outputs": [
    {
     "name": "stdout",
     "output_type": "stream",
     "text": [
      "<class '__main__.Car'>\n"
     ]
    }
   ],
   "source": [
    "# 1. Creating a Class\n",
    "class Car:\n",
    "    pass\n",
    "print(Car)\n",
    "\n",
    "#Output:\n",
    "# <class '__main__.Car'>"
   ]
  },
  {
   "cell_type": "code",
   "execution_count": 2,
   "metadata": {},
   "outputs": [
    {
     "name": "stdout",
     "output_type": "stream",
     "text": [
      "<__main__.Car object at 0x0000027ACC9D6D80>\n"
     ]
    }
   ],
   "source": [
    "# 2. Creating an Object\n",
    "class Car:\n",
    "    pass\n",
    "audi = Car()\n",
    "print(audi)\n",
    "\n",
    "#Output:\n",
    "# <__main__.Car object at 0x7f7e3c1b0f10>\n"
   ]
  },
  {
   "cell_type": "code",
   "execution_count": 3,
   "metadata": {},
   "outputs": [
    {
     "name": "stdout",
     "output_type": "stream",
     "text": [
      "A6\n",
      "2020\n"
     ]
    }
   ],
   "source": [
    "# 3. Instance Variables\n",
    "# Instance variables are unique to each object\n",
    "\n",
    "class Car:\n",
    "    def __init__(self, model, year):\n",
    "        self.model = model\n",
    "        self.year = year\n",
    "audi = Car(\"A6\", 2020)\n",
    "print(audi.model)\n",
    "print(audi.year)\n",
    "\n",
    "#Output:\n",
    "# A6\n",
    "# 2020\n",
    "\n"
   ]
  },
  {
   "cell_type": "code",
   "execution_count": 4,
   "metadata": {},
   "outputs": [
    {
     "name": "stdout",
     "output_type": "stream",
     "text": [
      "A6 2020\n"
     ]
    }
   ],
   "source": [
    "# 4. Methods\n",
    "# Methods are functions defined inside a class\n",
    "# They are used to define the behavior of an object\n",
    "\n",
    "class Car:\n",
    "    def __init__(self, model, year):\n",
    "        self.model = model\n",
    "        self.year = year\n",
    "    def display(self):\n",
    "        print(self.model, self.year)\n",
    "audi = Car(\"A6\", 2020)\n",
    "audi.display()\n",
    "\n",
    "#Output:\n",
    "# A6 2020"
   ]
  },
  {
   "cell_type": "code",
   "execution_count": 5,
   "metadata": {},
   "outputs": [
    {
     "name": "stdout",
     "output_type": "stream",
     "text": [
      "A6 2020\n"
     ]
    }
   ],
   "source": [
    "# 5. Constructor\n",
    "# Constructor is a special method in Python\n",
    "# It is used to initialize the object\n",
    "# Constructor is called when an object is created\n",
    "\n",
    "class Car:\n",
    "    def __init__(self, model, year):\n",
    "        self.model = model\n",
    "        self.year = year\n",
    "    def display(self):\n",
    "        print(self.model, self.year)\n",
    "audi = Car(\"A6\", 2020)\n",
    "audi.display()\n"
   ]
  },
  {
   "cell_type": "code",
   "execution_count": 6,
   "metadata": {},
   "outputs": [
    {
     "name": "stdout",
     "output_type": "stream",
     "text": [
      "A6 2020\n"
     ]
    }
   ],
   "source": [
    "# 6. Inheritance\n",
    "# Inheritance is a way to form new classes using classes that have already been defined\n",
    "# The newly formed classes are called derived classes\n",
    "# The classes that we derive from are called base classes\n",
    "\n",
    "class Vehicle:\n",
    "    def __init__(self, model, year):\n",
    "        self.model = model\n",
    "        self.year = year\n",
    "    def display(self):\n",
    "        print(self.model, self.year)\n",
    "class Car(Vehicle):\n",
    "    pass\n",
    "audi = Car(\"A6\", 2020)\n",
    "audi.display()\n"
   ]
  },
  {
   "cell_type": "code",
   "execution_count": 7,
   "metadata": {},
   "outputs": [
    {
     "name": "stdout",
     "output_type": "stream",
     "text": [
      "A6 2020\n"
     ]
    }
   ],
   "source": [
    "# 7. Encapsulation\n",
    "# Encapsulation is restricting access to some of the object's components\n",
    "# Encapsulation is achieved using private variables\n",
    "# Private variables are declared by prefixing the variable name with double underscores\n",
    "\n",
    "class Car:\n",
    "    def __init__(self, model, year):\n",
    "        self.__model = model # private variable\n",
    "        self.__year = year # private variable\n",
    "    def display(self):\n",
    "        print(self.__model, self.__year) # private variable\n",
    "audi = Car(\"A6\", 2020) \n",
    "audi.display()\n"
   ]
  },
  {
   "cell_type": "code",
   "execution_count": 8,
   "metadata": {},
   "outputs": [
    {
     "name": "stdout",
     "output_type": "stream",
     "text": [
      "A6 2020\n",
      "Monster 2021\n"
     ]
    }
   ],
   "source": [
    "# 8. Polymorphism\n",
    "# Polymorphism is an ability to use common interface for multiple data types\n",
    "# Polymorphism is an ability to redefine methods for derived classes\n",
    "\n",
    "class Car:\n",
    "    def __init__(self, model, year):\n",
    "        self.model = model\n",
    "        self.year = year\n",
    "    def display(self):\n",
    "        print(self.model, self.year)\n",
    "class Bike:\n",
    "    def __init__(self, model, year):\n",
    "        self.model = model\n",
    "        self.year = year\n",
    "    def display(self):\n",
    "        print(self.model, self.year)\n",
    "audi = Car(\"A6\", 2020)\n",
    "ducati = Bike(\"Monster\", 2021)  \n",
    "for vehicle in (audi, ducati):\n",
    "    vehicle.display()\n",
    "    \n",
    "#Output:\n",
    "# A6 2020\n",
    "# Monster 2021\n"
   ]
  },
  {
   "cell_type": "code",
   "execution_count": null,
   "metadata": {},
   "outputs": [],
   "source": [
    "# End of OOPs in Python for Data Science\n",
    "# Object Oriented Programming in Python\n",
    "# Classes and Objects\n",
    "\n",
    "# Save file as oops.py\n",
    "# Run using python3 oops.py\n"
   ]
  }
 ],
 "metadata": {
  "kernelspec": {
   "display_name": "Python 3",
   "language": "python",
   "name": "python3"
  },
  "language_info": {
   "codemirror_mode": {
    "name": "ipython",
    "version": 3
   },
   "file_extension": ".py",
   "mimetype": "text/x-python",
   "name": "python",
   "nbconvert_exporter": "python",
   "pygments_lexer": "ipython3",
   "version": "3.12.2"
  }
 },
 "nbformat": 4,
 "nbformat_minor": 2
}
