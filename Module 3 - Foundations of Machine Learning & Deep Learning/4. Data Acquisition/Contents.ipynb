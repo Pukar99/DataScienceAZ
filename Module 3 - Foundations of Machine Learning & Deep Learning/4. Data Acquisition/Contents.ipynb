{
 "cells": [
  {
   "cell_type": "code",
   "execution_count": 3,
   "metadata": {},
   "outputs": [],
   "source": [
    "# Data Acquisition in python for Data Science\n",
    "# 1. Reading data from a file\n",
    "# 2. Reading data from a database\n",
    "# 3. Reading data from an API\n",
    "# 4. Reading data from the web\n",
    "# 5. Reading data from a streaming source\n"
   ]
  },
  {
   "cell_type": "code",
   "execution_count": 4,
   "metadata": {},
   "outputs": [
    {
     "name": "stdout",
     "output_type": "stream",
     "text": [
      "   ID  Reason for Absence        Date  Transportation Expense  \\\n",
      "0  11                  26  07/07/2015                     289   \n",
      "1  36                   0  14/07/2015                     118   \n",
      "2   3                  23  15/07/2015                     179   \n",
      "3   7                   7  16/07/2015                     279   \n",
      "4  11                  23  23/07/2015                     289   \n",
      "\n",
      "   Distance to Work  Age  Daily Work Load Average  Body Mass Index  Education  \\\n",
      "0                36   33                  239.554               30          1   \n",
      "1                13   50                  239.554               31          1   \n",
      "2                51   38                  239.554               31          1   \n",
      "3                 5   39                  239.554               24          1   \n",
      "4                36   33                  239.554               30          1   \n",
      "\n",
      "   Children  Pets  Absenteeism Time in Hours  \n",
      "0         2     1                          4  \n",
      "1         1     0                          0  \n",
      "2         0     0                          2  \n",
      "3         2     0                          4  \n",
      "4         2     1                          2  \n"
     ]
    }
   ],
   "source": [
    "# 1. Reading data from a file\n",
    "# 1.1 Reading data from a CSV file\n",
    "import pandas as pd\n",
    "data = pd.read_csv('1.1 Absenteeism_data.csv')\n",
    "print(data.head())\n",
    "\n"
   ]
  },
  {
   "cell_type": "code",
   "execution_count": 5,
   "metadata": {},
   "outputs": [],
   "source": [
    "\n",
    "# 1.2 Reading data from an Excel file\n",
    "# data = pd.read_excel('SaleData.xlsx')\n",
    "# print(data.head())"
   ]
  },
  {
   "cell_type": "code",
   "execution_count": 6,
   "metadata": {},
   "outputs": [
    {
     "name": "stdout",
     "output_type": "stream",
     "text": [
      "   ID           Name  Age  Department\n",
      "0   1  Alice Johnson   28          HR\n",
      "1   2      Bob Smith   25   Marketing\n",
      "2   3  Charlie Brown   30       Sales\n",
      "3   4   David Wilson   34          IT\n",
      "4   5     Eva Parker   29  Operations\n"
     ]
    }
   ],
   "source": [
    "# 1.3 Reading data from a JSON file\n",
    "data = pd.read_json('data.json')\n",
    "print(data.head())"
   ]
  },
  {
   "cell_type": "code",
   "execution_count": 7,
   "metadata": {},
   "outputs": [
    {
     "name": "stdout",
     "output_type": "stream",
     "text": [
      "       ID,Name,Age,Department\n",
      "0       1,Alice Johnson,28,HR\n",
      "1    2,Bob Smith,25,Marketing\n",
      "2    3,Charlie Brown,30,Sales\n",
      "3        4,David Wilson,34,IT\n",
      "4  5,Eva Parker,29,Operations\n"
     ]
    }
   ],
   "source": [
    "# 1.4 Reading data from a text file\n",
    "data = pd.read_table('data.txt')\n",
    "print(data.head())"
   ]
  },
  {
   "cell_type": "code",
   "execution_count": 12,
   "metadata": {},
   "outputs": [
    {
     "name": "stdout",
     "output_type": "stream",
     "text": [
      "Table 'data' does not exist in the database.\n"
     ]
    }
   ],
   "source": [
    "import sqlite3 as sq\n",
    "import pandas as pd\n",
    "\n",
    "# Establish connection to the SQLite database\n",
    "conn = sq.connect('your_database.db')\n",
    "\n",
    "# Create a cursor object using the connection\n",
    "cursor = conn.cursor()\n",
    "\n",
    "# Check if the table exists in the database\n",
    "cursor.execute(\"SELECT name FROM sqlite_master WHERE type='table' AND name='data'\")\n",
    "table_exists = cursor.fetchone()\n",
    "\n",
    "# If the table exists, read the data\n",
    "if table_exists:\n",
    "    data = pd.read_sql('SELECT * FROM data', conn)\n",
    "    print(data.head())\n",
    "else:\n",
    "    print(\"Table 'data' does not exist in the database.\")\n",
    "\n",
    "# Close the connection\n",
    "conn.close()\n"
   ]
  },
  {
   "cell_type": "code",
   "execution_count": 14,
   "metadata": {},
   "outputs": [
    {
     "name": "stdout",
     "output_type": "stream",
     "text": [
      "Failed to resolve the hostname.\n",
      "Failed to retrieve data from the API.\n"
     ]
    }
   ],
   "source": [
    "# 3. Reading data from an API\n",
    "import requests\n",
    "import json\n",
    "import socket\n",
    "\n",
    "# Check if the hostname is accessible\n",
    "try:\n",
    "    socket.gethostbyname('api.example.com')\n",
    "    print(\"Hostname is accessible.\")\n",
    "except socket.error:\n",
    "    print(\"Failed to resolve the hostname.\")\n",
    "    print(\"Failed to retrieve data from the API.\")\n",
    "    \n",
    "    "
   ]
  },
  {
   "cell_type": "code",
   "execution_count": 19,
   "metadata": {},
   "outputs": [
    {
     "name": "stdout",
     "output_type": "stream",
     "text": [
      "Failed to resolve the hostname.\n"
     ]
    }
   ],
   "source": [
    "import socket\n",
    "# Check if the hostname is accessible\n",
    "try:\n",
    "    socket.gethostbyname('api.example.com')\n",
    "    print(\"Hostname is accessible.\")\n",
    "except socket.error:\n",
    "    print(\"Failed to resolve the hostname.\")\n",
    "else:\n",
    "    print(\"Failed to retrieve data from the API.\")\n",
    "    "
   ]
  },
  {
   "cell_type": "code",
   "execution_count": 21,
   "metadata": {},
   "outputs": [
    {
     "name": "stdout",
     "output_type": "stream",
     "text": [
      "Failed to resolve the hostname.\n"
     ]
    }
   ],
   "source": [
    "# 4. Reading data from the web\n",
    "import requests\n",
    "import socket\n",
    "\n",
    "# Check if the hostname is accessible\n",
    "try:\n",
    "    socket.gethostbyname('api.example.com')\n",
    "    print(\"Hostname is accessible.\")\n",
    "except socket.error:\n",
    "    print(\"Failed to resolve the hostname.\")\n",
    "else:\n",
    "    print(\"Failed to retrieve data from the web.\")\n",
    "    "
   ]
  },
  {
   "cell_type": "code",
   "execution_count": null,
   "metadata": {},
   "outputs": [],
   "source": [
    "# 5. Reading data from a streaming source\n",
    "import socket\n",
    "import requests\n"
   ]
  },
  {
   "cell_type": "code",
   "execution_count": 22,
   "metadata": {},
   "outputs": [
    {
     "name": "stdout",
     "output_type": "stream",
     "text": [
      "Failed to resolve the hostname.\n"
     ]
    }
   ],
   "source": [
    "\n",
    "# Check if the hostname is accessible\n",
    "try:\n",
    "    socket.gethostbyname('api.example.com')\n",
    "    print(\"Hostname is accessible.\")\n",
    "except socket.error:\n",
    "    print(\"Failed to resolve the hostname.\")\n",
    "else:\n",
    "    print(\"Failed to retrieve data from the streaming source.\")\n",
    "    "
   ]
  },
  {
   "cell_type": "code",
   "execution_count": 23,
   "metadata": {},
   "outputs": [
    {
     "name": "stdout",
     "output_type": "stream",
     "text": [
      "Failed to resolve the hostname.\n"
     ]
    }
   ],
   "source": [
    "# 6. Reading data from a streaming source\n",
    "import socket\n",
    "import requests\n",
    "\n",
    "# Check if the hostname is accessible\n",
    "try:\n",
    "    socket.gethostbyname('api.example.com')\n",
    "    print(\"Hostname is accessible.\")\n",
    "except socket.error:\n",
    "    print(\"Failed to resolve the hostname.\")\n",
    "else:\n",
    "    print(\"Failed to retrieve data from the streaming source.\")\n",
    "    \n",
    "    "
   ]
  },
  {
   "cell_type": "code",
   "execution_count": 25,
   "metadata": {},
   "outputs": [
    {
     "name": "stdout",
     "output_type": "stream",
     "text": [
      "Error: '2003 (HY000): Can't connect to MySQL server on 'localhost:3306' (10061)'\n",
      "Error: '2003 (HY000): Can't connect to MySQL server on 'localhost:3306' (10061)'\n"
     ]
    },
    {
     "ename": "AttributeError",
     "evalue": "'NoneType' object has no attribute 'database'",
     "output_type": "error",
     "traceback": [
      "\u001b[1;31m---------------------------------------------------------------------------\u001b[0m",
      "\u001b[1;31mAttributeError\u001b[0m                            Traceback (most recent call last)",
      "Cell \u001b[1;32mIn[25], line 52\u001b[0m\n\u001b[0;32m     47\u001b[0m \u001b[38;5;66;03m# Create a new database\u001b[39;00m\n\u001b[0;32m     48\u001b[0m \u001b[38;5;66;03m# create_database(connection, f\"CREATE DATABASE IF NOT EXISTS {database_name}\")\u001b[39;00m\n\u001b[0;32m     49\u001b[0m \n\u001b[0;32m     50\u001b[0m \u001b[38;5;66;03m# Connect to the newly created database\u001b[39;00m\n\u001b[0;32m     51\u001b[0m db_connection \u001b[38;5;241m=\u001b[39m create_server_connection(host, user, password)\n\u001b[1;32m---> 52\u001b[0m \u001b[43mdb_connection\u001b[49m\u001b[38;5;241;43m.\u001b[39;49m\u001b[43mdatabase\u001b[49m \u001b[38;5;241m=\u001b[39m database_name\n\u001b[0;32m     54\u001b[0m \u001b[38;5;66;03m# Execute the SQL file\u001b[39;00m\n\u001b[0;32m     55\u001b[0m execute_sql_file(db_connection, \u001b[38;5;124m'\u001b[39m\u001b[38;5;124mawesome_chocolates.sql\u001b[39m\u001b[38;5;124m'\u001b[39m)\n",
      "\u001b[1;31mAttributeError\u001b[0m: 'NoneType' object has no attribute 'database'"
     ]
    }
   ],
   "source": [
    "import mysql.connector\n",
    "from mysql.connector import Error\n",
    "\n",
    "def create_server_connection(host_name, user_name, user_password):\n",
    "    connection = None\n",
    "    try:\n",
    "        connection = mysql.connector.connect(\n",
    "            host=host_name,\n",
    "            user=user_name,\n",
    "            passwd=user_password\n",
    "        )\n",
    "        print(\"MySQL Database connection successful\")\n",
    "    except Error as err:\n",
    "        print(f\"Error: '{err}'\")\n",
    "    return connection\n",
    "\n",
    "def create_database(connection, query):\n",
    "    cursor = connection.cursor()\n",
    "    try:\n",
    "        cursor.execute(query)\n",
    "        print(\"Database created successfully\")\n",
    "    except Error as err:\n",
    "        print(f\"Error: '{err}'\")\n",
    "\n",
    "def execute_sql_file(connection, path_to_sql_file):\n",
    "    cursor = connection.cursor()\n",
    "    with open(path_to_sql_file, 'r') as file:\n",
    "        sql_script = file.read()\n",
    "    commands = sql_script.split(';')\n",
    "    for command in commands:\n",
    "        if command.strip():\n",
    "            try:\n",
    "                cursor.execute(command)\n",
    "                connection.commit()\n",
    "            except Error as err:\n",
    "                print(f\"Error: '{err}'\")\n",
    "\n",
    "# Connection configuration\n",
    "host = \"localhost\"\n",
    "user = \"root\"\n",
    "password = \"your_password\"\n",
    "database_name = \"awesome_chocolates\"\n",
    "\n",
    "# Create and connect to server\n",
    "connection = create_server_connection(host, user, password)\n",
    "\n",
    "# Create a new database\n",
    "# create_database(connection, f\"CREATE DATABASE IF NOT EXISTS {database_name}\")\n",
    "\n",
    "# Connect to the newly created database\n",
    "db_connection = create_server_connection(host, user, password)\n",
    "db_connection.database = database_name\n",
    "\n",
    "# Execute the SQL file\n",
    "execute_sql_file(db_connection, 'awesome_chocolates.sql')\n",
    "\n",
    "# Example query (replace with your specific queries)\n",
    "def query_database(connection, query):\n",
    "    cursor = connection.cursor()\n",
    "    try:\n",
    "        cursor.execute(query)\n",
    "        result = cursor.fetchall()\n",
    "        for row in result:\n",
    "            print(row)\n",
    "    except Error as err:\n",
    "        print(f\"Error: '{err}'\")\n",
    "\n",
    "# Example of querying the 'people' table\n",
    "query_database(db_connection, \"SELECT * FROM people\")\n"
   ]
  },
  {
   "cell_type": "code",
   "execution_count": null,
   "metadata": {},
   "outputs": [],
   "source": []
  }
 ],
 "metadata": {
  "kernelspec": {
   "display_name": "Python 3",
   "language": "python",
   "name": "python3"
  },
  "language_info": {
   "codemirror_mode": {
    "name": "ipython",
    "version": 3
   },
   "file_extension": ".py",
   "mimetype": "text/x-python",
   "name": "python",
   "nbconvert_exporter": "python",
   "pygments_lexer": "ipython3",
   "version": "3.12.2"
  }
 },
 "nbformat": 4,
 "nbformat_minor": 2
}
