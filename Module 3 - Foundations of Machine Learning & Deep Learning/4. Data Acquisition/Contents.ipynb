{
 "cells": [
  {
   "cell_type": "code",
   "execution_count": 3,
   "metadata": {},
   "outputs": [],
   "source": [
    "# Data Acquisition in python for Data Science\n",
    "# 1. Reading data from a file\n",
    "# 2. Reading data from a database\n",
    "# 3. Reading data from an API\n",
    "# 4. Reading data from the web\n",
    "# 5. Reading data from a streaming source\n"
   ]
  },
  {
   "cell_type": "code",
   "execution_count": 4,
   "metadata": {},
   "outputs": [
    {
     "name": "stdout",
     "output_type": "stream",
     "text": [
      "   ID  Reason for Absence        Date  Transportation Expense  \\\n",
      "0  11                  26  07/07/2015                     289   \n",
      "1  36                   0  14/07/2015                     118   \n",
      "2   3                  23  15/07/2015                     179   \n",
      "3   7                   7  16/07/2015                     279   \n",
      "4  11                  23  23/07/2015                     289   \n",
      "\n",
      "   Distance to Work  Age  Daily Work Load Average  Body Mass Index  Education  \\\n",
      "0                36   33                  239.554               30          1   \n",
      "1                13   50                  239.554               31          1   \n",
      "2                51   38                  239.554               31          1   \n",
      "3                 5   39                  239.554               24          1   \n",
      "4                36   33                  239.554               30          1   \n",
      "\n",
      "   Children  Pets  Absenteeism Time in Hours  \n",
      "0         2     1                          4  \n",
      "1         1     0                          0  \n",
      "2         0     0                          2  \n",
      "3         2     0                          4  \n",
      "4         2     1                          2  \n"
     ]
    }
   ],
   "source": [
    "# 1. Reading data from a file\n",
    "# 1.1 Reading data from a CSV file\n",
    "import pandas as pd\n",
    "data = pd.read_csv('1.1 Absenteeism_data.csv')\n",
    "print(data.head())\n",
    "\n"
   ]
  },
  {
   "cell_type": "code",
   "execution_count": 5,
   "metadata": {},
   "outputs": [],
   "source": [
    "\n",
    "# 1.2 Reading data from an Excel file\n",
    "# data = pd.read_excel('SaleData.xlsx')\n",
    "# print(data.head())"
   ]
  },
  {
   "cell_type": "code",
   "execution_count": 6,
   "metadata": {},
   "outputs": [
    {
     "name": "stdout",
     "output_type": "stream",
     "text": [
      "   ID           Name  Age  Department\n",
      "0   1  Alice Johnson   28          HR\n",
      "1   2      Bob Smith   25   Marketing\n",
      "2   3  Charlie Brown   30       Sales\n",
      "3   4   David Wilson   34          IT\n",
      "4   5     Eva Parker   29  Operations\n"
     ]
    }
   ],
   "source": [
    "# 1.3 Reading data from a JSON file\n",
    "data = pd.read_json('data.json')\n",
    "print(data.head())"
   ]
  },
  {
   "cell_type": "code",
   "execution_count": 7,
   "metadata": {},
   "outputs": [
    {
     "name": "stdout",
     "output_type": "stream",
     "text": [
      "       ID,Name,Age,Department\n",
      "0       1,Alice Johnson,28,HR\n",
      "1    2,Bob Smith,25,Marketing\n",
      "2    3,Charlie Brown,30,Sales\n",
      "3        4,David Wilson,34,IT\n",
      "4  5,Eva Parker,29,Operations\n"
     ]
    }
   ],
   "source": [
    "# 1.4 Reading data from a text file\n",
    "data = pd.read_table('data.txt')\n",
    "print(data.head())"
   ]
  },
  {
   "cell_type": "code",
   "execution_count": 12,
   "metadata": {},
   "outputs": [
    {
     "name": "stdout",
     "output_type": "stream",
     "text": [
      "Table 'data' does not exist in the database.\n"
     ]
    }
   ],
   "source": [
    "import sqlite3 as sq\n",
    "import pandas as pd\n",
    "\n",
    "# Establish connection to the SQLite database\n",
    "conn = sq.connect('your_database.db')\n",
    "\n",
    "# Create a cursor object using the connection\n",
    "cursor = conn.cursor()\n",
    "\n",
    "# Check if the table exists in the database\n",
    "cursor.execute(\"SELECT name FROM sqlite_master WHERE type='table' AND name='data'\")\n",
    "table_exists = cursor.fetchone()\n",
    "\n",
    "# If the table exists, read the data\n",
    "if table_exists:\n",
    "    data = pd.read_sql('SELECT * FROM data', conn)\n",
    "    print(data.head())\n",
    "else:\n",
    "    print(\"Table 'data' does not exist in the database.\")\n",
    "\n",
    "# Close the connection\n",
    "conn.close()\n"
   ]
  },
  {
   "cell_type": "code",
   "execution_count": 14,
   "metadata": {},
   "outputs": [
    {
     "name": "stdout",
     "output_type": "stream",
     "text": [
      "Failed to resolve the hostname.\n",
      "Failed to retrieve data from the API.\n"
     ]
    }
   ],
   "source": [
    "# 3. Reading data from an API\n",
    "import requests\n",
    "import json\n",
    "import socket\n",
    "\n",
    "# Check if the hostname is accessible\n",
    "try:\n",
    "    socket.gethostbyname('api.example.com')\n",
    "    print(\"Hostname is accessible.\")\n",
    "except socket.error:\n",
    "    print(\"Failed to resolve the hostname.\")\n",
    "    print(\"Failed to retrieve data from the API.\")\n",
    "    \n",
    "    "
   ]
  },
  {
   "cell_type": "code",
   "execution_count": 19,
   "metadata": {},
   "outputs": [
    {
     "name": "stdout",
     "output_type": "stream",
     "text": [
      "Failed to resolve the hostname.\n"
     ]
    }
   ],
   "source": [
    "import socket\n",
    "# Check if the hostname is accessible\n",
    "try:\n",
    "    socket.gethostbyname('api.example.com')\n",
    "    print(\"Hostname is accessible.\")\n",
    "except socket.error:\n",
    "    print(\"Failed to resolve the hostname.\")\n",
    "else:\n",
    "    print(\"Failed to retrieve data from the API.\")\n",
    "    "
   ]
  },
  {
   "cell_type": "code",
   "execution_count": 21,
   "metadata": {},
   "outputs": [
    {
     "name": "stdout",
     "output_type": "stream",
     "text": [
      "Failed to resolve the hostname.\n"
     ]
    }
   ],
   "source": [
    "# 4. Reading data from the web\n",
    "import requests\n",
    "import socket\n",
    "\n",
    "# Check if the hostname is accessible\n",
    "try:\n",
    "    socket.gethostbyname('api.example.com')\n",
    "    print(\"Hostname is accessible.\")\n",
    "except socket.error:\n",
    "    print(\"Failed to resolve the hostname.\")\n",
    "else:\n",
    "    print(\"Failed to retrieve data from the web.\")\n",
    "    "
   ]
  },
  {
   "cell_type": "code",
   "execution_count": null,
   "metadata": {},
   "outputs": [],
   "source": [
    "# 5. Reading data from a streaming source\n",
    "import socket\n",
    "import requests\n"
   ]
  },
  {
   "cell_type": "code",
   "execution_count": 22,
   "metadata": {},
   "outputs": [
    {
     "name": "stdout",
     "output_type": "stream",
     "text": [
      "Failed to resolve the hostname.\n"
     ]
    }
   ],
   "source": [
    "\n",
    "# Check if the hostname is accessible\n",
    "try:\n",
    "    socket.gethostbyname('api.example.com')\n",
    "    print(\"Hostname is accessible.\")\n",
    "except socket.error:\n",
    "    print(\"Failed to resolve the hostname.\")\n",
    "else:\n",
    "    print(\"Failed to retrieve data from the streaming source.\")\n",
    "    "
   ]
  },
  {
   "cell_type": "code",
   "execution_count": 23,
   "metadata": {},
   "outputs": [
    {
     "name": "stdout",
     "output_type": "stream",
     "text": [
      "Failed to resolve the hostname.\n"
     ]
    }
   ],
   "source": [
    "# 6. Reading data from a streaming source\n",
    "import socket\n",
    "import requests\n",
    "\n",
    "# Check if the hostname is accessible\n",
    "try:\n",
    "    socket.gethostbyname('api.example.com')\n",
    "    print(\"Hostname is accessible.\")\n",
    "except socket.error:\n",
    "    print(\"Failed to resolve the hostname.\")\n",
    "else:\n",
    "    print(\"Failed to retrieve data from the streaming source.\")\n",
    "    \n",
    "    "
   ]
  },
  {
   "cell_type": "code",
   "execution_count": null,
   "metadata": {},
   "outputs": [],
   "source": []
  }
 ],
 "metadata": {
  "kernelspec": {
   "display_name": "Python 3",
   "language": "python",
   "name": "python3"
  },
  "language_info": {
   "codemirror_mode": {
    "name": "ipython",
    "version": 3
   },
   "file_extension": ".py",
   "mimetype": "text/x-python",
   "name": "python",
   "nbconvert_exporter": "python",
   "pygments_lexer": "ipython3",
   "version": "3.12.2"
  }
 },
 "nbformat": 4,
 "nbformat_minor": 2
}
