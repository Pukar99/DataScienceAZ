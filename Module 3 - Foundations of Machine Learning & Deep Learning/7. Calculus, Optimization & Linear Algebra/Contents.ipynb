{
 "cells": [
  {
   "cell_type": "code",
   "execution_count": null,
   "metadata": {},
   "outputs": [],
   "source": [
    "# Today i studied about Vector for linear algebra\n"
   ]
  }
 ],
 "metadata": {
  "language_info": {
   "name": "python"
  }
 },
 "nbformat": 4,
 "nbformat_minor": 2
}
