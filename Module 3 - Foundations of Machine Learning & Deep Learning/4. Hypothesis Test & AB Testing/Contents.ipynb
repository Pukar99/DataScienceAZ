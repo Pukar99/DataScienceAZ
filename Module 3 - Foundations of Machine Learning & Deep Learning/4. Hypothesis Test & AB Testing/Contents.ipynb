{
 "cells": [
  {
   "cell_type": "code",
   "execution_count": 1,
   "metadata": {},
   "outputs": [],
   "source": [
    "# Hypothesis Testing and AB Testing with Python for data science\n",
    "\n",
    "# Contents:\n",
    "# 1. Hypothesis Testing\n",
    "# 2. AB Testing\n",
    "# 3. AB Testing with Python\n"
   ]
  },
  {
   "cell_type": "code",
   "execution_count": 2,
   "metadata": {},
   "outputs": [],
   "source": [
    "# 1. Hypothesis Testing\n",
    "# Hypothesis testing is a statistical method that is used in making statistical decisions using experimental data.\n",
    "# Hypothesis testing is used to determine whether there is enough evidence in a sample of data to infer that a certain condition is true for the entire population.\n",
    "# Hypothesis testing is a critical tool in inferential statistics, for determing what the data says about the population from which it was sampled.\n",
    "# Hypothesis testing is used to determine whether a statement about the population parameter is likely to be true.\n",
    "\n",
    "# Hypothesis Testing Steps:\n",
    "# 1. State the Hypotheses\n",
    "# 2. Formulate an Analysis Plan\n",
    "# 3. Analyze Sample Data\n",
    "# 4. Interpret the Results\n",
    "\n",
    "# Null Hypothesis (H0): The null hypothesis is a statement that there is no effect or no difference. It is the default assumption that there is no effect.\n",
    "# Alternative Hypothesis (H1): The alternative hypothesis is a statement that there is an effect or difference.\n",
    "\n",
    "# Types of Hypothesis Testing:\n",
    "# 1. One Sample T-Test\n",
    "# 2. Two Sample T-Test\n",
    "# 3. Paired T-Test\n",
    "# 4. Z-Test\n",
    "# 5. Chi-Square Test\n",
    "# 6. ANOVA Test\n",
    "\n",
    "\n"
   ]
  },
  {
   "cell_type": "code",
   "execution_count": 3,
   "metadata": {},
   "outputs": [
    {
     "name": "stdout",
     "output_type": "stream",
     "text": [
      "Sample Mean: 98.5\n",
      "Sample Standard Deviation: 2.0124611797498106\n",
      "T-Statistic: -2.3570226039551585\n",
      "P-Value: 0.02140485154306535\n",
      "Reject the null hypothesis\n"
     ]
    }
   ],
   "source": [
    "# 1. One Sample T-Test\n",
    "# A one sample t-test is used to determine whether the mean of a population is significantly different from a specific value.\n",
    "# The test is used when the population variance is unknown.\n",
    "# The null hypothesis is that the population mean is equal to the specific value.\n",
    "\n",
    "# Example:\n",
    "# A company produces a product and claims that the mean weight of the product is 100 grams.\n",
    "# A sample of 10 products is selected and the weights are recorded.\n",
    "# The sample mean is 98 grams and the sample standard deviation is 5 grams.\n",
    "# Is there enough evidence to reject the company's claim?\n",
    "\n",
    "import numpy as np\n",
    "from scipy import stats\n",
    "\n",
    "# Sample data\n",
    "data = [98, 95, 100, 100, 102, 96, 97, 98, 99, 100]\n",
    "\n",
    "# Population mean\n",
    "pop_mean = 100\n",
    "\n",
    "# Calculate the sample mean\n",
    "sample_mean = np.mean(data)\n",
    "\n",
    "# Calculate the sample standard deviation\n",
    "sample_std = np.std(data)\n",
    "\n",
    "# Calculate the t-statistic\n",
    "t_statistic = (sample_mean - pop_mean) / (sample_std / np.sqrt(len(data)))\n",
    "\n",
    "# Calculate the p-value\n",
    "p_value = stats.t.sf(np.abs(t_statistic), len(data)-1)\n",
    "\n",
    "print(\"Sample Mean:\", sample_mean)\n",
    "print(\"Sample Standard Deviation:\", sample_std)\n",
    "print(\"T-Statistic:\", t_statistic)\n",
    "print(\"P-Value:\", p_value)\n",
    "\n",
    "# Interpret the results\n",
    "alpha = 0.05\n",
    "if p_value < alpha:\n",
    "    print(\"Reject the null hypothesis\")\n",
    "else:\n",
    "    print(\"Fail to reject the null hypothesis\")\n",
    "    \n",
    "# The p-value is greater than the significance level of 0.05, so we fail to reject the null hypothesis."
   ]
  },
  {
   "cell_type": "code",
   "execution_count": 4,
   "metadata": {},
   "outputs": [
    {
     "name": "stdout",
     "output_type": "stream",
     "text": [
      "Sample Mean A: 98.5\n",
      "Sample Standard Deviation A: 2.0124611797498106\n",
      "Sample Mean B: 101.4\n",
      "Sample Standard Deviation B: 2.1071307505705477\n",
      "T-Statistic: -3.1473435617799246\n",
      "P-Value: 0.0027853462927495505\n",
      "Reject the null hypothesis\n"
     ]
    }
   ],
   "source": [
    "# Two Sample T-Test\n",
    "# A two sample t-test is used to determine whether the means of two independent samples are significantly different from each other.\n",
    "# The test is used when the population variances are unknown.\n",
    "# The null hypothesis is that the means of the two populations are equal.\n",
    "\n",
    "# Example:\n",
    "# A company produces two different products and claims that the mean weight of product A is equal to the mean weight of product B.\n",
    "# Two samples of 10 products each are selected and the weights are recorded.\n",
    "# The sample mean weight of product A is 98 grams with a standard deviation of 5 grams.\n",
    "# The sample mean weight of product B is 102 grams with a standard deviation of 4 grams.\n",
    "# Is there enough evidence to reject the company's claim?\n",
    "\n",
    "# Sample data\n",
    "data_A = [98, 95, 100, 100, 102, 96, 97, 98, 99, 100]\n",
    "data_B = [102, 98, 105, 100, 104, 101, 99, 102, 103, 100]\n",
    "\n",
    "# Calculate the sample mean and standard deviation for product A\n",
    "sample_mean_A = np.mean(data_A)\n",
    "sample_std_A = np.std(data_A)\n",
    "\n",
    "# Calculate the sample mean and standard deviation for product B\n",
    "sample_mean_B = np.mean(data_B)\n",
    "sample_std_B = np.std(data_B)\n",
    "\n",
    "# Calculate the t-statistic\n",
    "t_statistic = (sample_mean_A - sample_mean_B) / np.sqrt((sample_std_A**2/len(data_A)) + (sample_std_B**2/len(data_B)))\n",
    "\n",
    "# Calculate the p-value\n",
    "p_value = stats.t.sf(np.abs(t_statistic), len(data_A)+len(data_B)-2)\n",
    "\n",
    "print(\"Sample Mean A:\", sample_mean_A)\n",
    "print(\"Sample Standard Deviation A:\", sample_std_A)\n",
    "print(\"Sample Mean B:\", sample_mean_B)\n",
    "print(\"Sample Standard Deviation B:\", sample_std_B)\n",
    "print(\"T-Statistic:\", t_statistic)\n",
    "print(\"P-Value:\", p_value)\n",
    "\n",
    "# Interpret the results\n",
    "alpha = 0.05\n",
    "if p_value < alpha:\n",
    "    print(\"Reject the null hypothesis\")\n",
    "else:\n",
    "    print(\"Fail to reject the null hypothesis\")\n",
    "    \n"
   ]
  },
  {
   "cell_type": "code",
   "execution_count": null,
   "metadata": {},
   "outputs": [],
   "source": []
  }
 ],
 "metadata": {
  "kernelspec": {
   "display_name": "Python 3",
   "language": "python",
   "name": "python3"
  },
  "language_info": {
   "codemirror_mode": {
    "name": "ipython",
    "version": 3
   },
   "file_extension": ".py",
   "mimetype": "text/x-python",
   "name": "python",
   "nbconvert_exporter": "python",
   "pygments_lexer": "ipython3",
   "version": "3.12.2"
  }
 },
 "nbformat": 4,
 "nbformat_minor": 2
}
