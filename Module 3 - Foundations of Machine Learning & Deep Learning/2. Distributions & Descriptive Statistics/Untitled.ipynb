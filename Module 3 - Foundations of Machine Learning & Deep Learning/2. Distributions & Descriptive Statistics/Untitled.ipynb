{
 "cells": [
  {
   "cell_type": "markdown",
   "id": "432c560c-7b04-4af2-8849-873f852d4b2c",
   "metadata": {},
   "source": [
    "## Mean\n",
    "The mean is the average of all numbers"
   ]
  },
  {
   "cell_type": "code",
   "execution_count": 4,
   "id": "018b82f0-6e5c-4083-8fb5-42e43bc17be2",
   "metadata": {},
   "outputs": [
    {
     "data": {
      "text/plain": [
       "8.0"
      ]
     },
     "execution_count": 4,
     "metadata": {},
     "output_type": "execute_result"
    }
   ],
   "source": [
    "def mean(num):\n",
    "    a = sum(num)\n",
    "    b = len(num)\n",
    "    return a/b\n",
    "mean([4,5,6,6,6,19,10])"
   ]
  },
  {
   "cell_type": "markdown",
   "id": "1aeb6981-0f6c-4cb5-b33b-8598c15cf8eb",
   "metadata": {},
   "source": [
    "## Median\n",
    "The median is the middle value of a sorted numbers."
   ]
  },
  {
   "cell_type": "code",
   "execution_count": 6,
   "id": "5e543c26-04d7-4ebe-a3b6-d654659b256f",
   "metadata": {},
   "outputs": [
    {
     "data": {
      "text/plain": [
       "24.5"
      ]
     },
     "execution_count": 6,
     "metadata": {},
     "output_type": "execute_result"
    }
   ],
   "source": [
    "def median(num):\n",
    "    num.sort()\n",
    "    n = len(num)\n",
    "    mid = n//2\n",
    "    if n%2 == 0:\n",
    "        return (num[mid-1]+num[mid]/2)\n",
    "    else:\n",
    "        return num[mid]\n",
    "median([11,23,1,2,45,67,22,33,21,8,6,14])"
   ]
  },
  {
   "cell_type": "markdown",
   "id": "8e6e3b9b-a1f2-4030-b8bd-2cdc0ccb0d15",
   "metadata": {},
   "source": [
    "## Mode \n",
    "The mode is the frequent items in a list\n"
   ]
  },
  {
   "cell_type": "code",
   "execution_count": null,
   "id": "64ecdbbb-61b1-40ff-8128-a8b51ca84447",
   "metadata": {},
   "outputs": [],
   "source": []
  }
 ],
 "metadata": {
  "kernelspec": {
   "display_name": "Python 3 (ipykernel)",
   "language": "python",
   "name": "python3"
  },
  "language_info": {
   "codemirror_mode": {
    "name": "ipython",
    "version": 3
   },
   "file_extension": ".py",
   "mimetype": "text/x-python",
   "name": "python",
   "nbconvert_exporter": "python",
   "pygments_lexer": "ipython3",
   "version": "3.12.2"
  }
 },
 "nbformat": 4,
 "nbformat_minor": 5
}
