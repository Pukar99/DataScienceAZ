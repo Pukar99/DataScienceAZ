{
 "cells": [
  {
   "cell_type": "code",
   "execution_count": 2,
   "metadata": {},
   "outputs": [
    {
     "name": "stdout",
     "output_type": "stream",
     "text": [
      "['ANOVA', 'Bernoulli Distribution', 'Beta Distribution', 'Binomial Distribution', 'Cauchy Distribution', 'Chi-Square', 'Chi-Square Distribution', 'Confidence Interval', 'Correlation', 'Covariance', 'Exponential Distribution', 'F-Distribution', 'F-Score', 'Gamma Distribution', 'Gaussian Distribution', 'Geometric Distribution', 'Hypergeometric Distribution', 'Interquartile Range', 'Kurtosis', 'Laplace Distribution', 'Logistic Distribution', 'Mean', 'Median', 'Mode', 'Multinomial Distribution', 'Negative Binomial Distribution', 'Normal Distribution', 'Pareto Distribution', 'Percentiles', 'Poisson Distribution', 'Quartiles', 'Range', 'Rayleigh Distribution', 'Skewness', 'Standard Deviation', 'Standard Error of the Mean', \"Student's T-Distribution\", 'T-Score', 'Uniform Distribution', 'Variance', 'Weibull Distribution', 'Z-Score']\n"
     ]
    }
   ],
   "source": [
    "items = [\n",
    "    \"Mean\",\n",
    "    \"Median\",\n",
    "    \"Mode\",\n",
    "    \"Variance\",\n",
    "    \"Standard Deviation\",\n",
    "    \"Skewness\",\n",
    "    \"Kurtosis\",\n",
    "    \"Range\",\n",
    "    \"Percentiles\",\n",
    "    \"Quartiles\",\n",
    "    \"Interquartile Range\",\n",
    "    \"Covariance\",\n",
    "    \"Correlation\",\n",
    "    \"Standard Error of the Mean\",\n",
    "    \"Confidence Interval\",\n",
    "    \"Z-Score\",\n",
    "    \"T-Score\",\n",
    "    \"F-Score\",\n",
    "    \"Chi-Square\",\n",
    "    \"ANOVA\",\n",
    "    \"Normal Distribution\",\n",
    "    \"Binomial Distribution\",\n",
    "    \"Poisson Distribution\",\n",
    "    \"Uniform Distribution\",\n",
    "    \"Exponential Distribution\",\n",
    "    \"Pareto Distribution\",\n",
    "    \"Hypergeometric Distribution\",\n",
    "    \"Bernoulli Distribution\",\n",
    "    \"Geometric Distribution\",\n",
    "    \"Negative Binomial Distribution\",\n",
    "    \"Multinomial Distribution\",\n",
    "    \"Gaussian Distribution\",\n",
    "    \"Student's T-Distribution\",\n",
    "    \"F-Distribution\",\n",
    "    \"Chi-Square Distribution\",\n",
    "    \"Beta Distribution\",\n",
    "    \"Gamma Distribution\",\n",
    "    \"Weibull Distribution\",\n",
    "    \"Logistic Distribution\",\n",
    "    \"Rayleigh Distribution\",\n",
    "    \"Laplace Distribution\",\n",
    "    \"Cauchy Distribution\"\n",
    "]\n",
    "\n",
    "unique_items = list(set(items))\n",
    "unique_items.sort()\n",
    "print(unique_items)\n"
   ]
  },
  {
   "cell_type": "code",
   "execution_count": null,
   "metadata": {},
   "outputs": [],
   "source": [
    "# Mean\n",
    "# The mean is the average of all numbers and is sometimes called the arithmetic mean.\n",
    "# The mean is calculated by adding up all numbers and dividing the sum by the number of numbers.\n",
    "# The mean is a measure of central tendency.\n",
    "\n",
    "def mean(numbers):\n",
    "    return sum(numbers) / len(numbers)\n"
   ]
  },
  {
   "cell_type": "code",
   "execution_count": null,
   "metadata": {},
   "outputs": [],
   "source": [
    "# Median\n",
    "# The median is the middle number in a sorted, ascending or descending, list of numbers and can be more descriptive of that data set than the average.\n",
    "# The median is sometimes called the middle average.\n",
    "# The median is calculated by sorting all numbers and selecting the middle number.\n",
    "\n",
    "def median(numbers):\n",
    "    numbers.sort()\n",
    "    n = len(numbers)\n",
    "    mid = n // 2\n",
    "    if n % 2 == 0:\n",
    "        return (numbers[mid - 1] + numbers[mid]) / 2\n",
    "    else:\n",
    "        return numbers[mid]"
   ]
  }
 ],
 "metadata": {
  "kernelspec": {
   "display_name": "Python 3",
   "language": "python",
   "name": "python3"
  },
  "language_info": {
   "codemirror_mode": {
    "name": "ipython",
    "version": 3
   },
   "file_extension": ".py",
   "mimetype": "text/x-python",
   "name": "python",
   "nbconvert_exporter": "python",
   "pygments_lexer": "ipython3",
   "version": "3.12.2"
  }
 },
 "nbformat": 4,
 "nbformat_minor": 2
}
