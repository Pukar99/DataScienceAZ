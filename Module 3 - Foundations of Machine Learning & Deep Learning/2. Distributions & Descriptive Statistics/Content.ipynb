{
 "cells": [
  {
   "cell_type": "code",
   "execution_count": 2,
   "metadata": {},
   "outputs": [
    {
     "name": "stdout",
     "output_type": "stream",
     "text": [
      "['ANOVA', 'Bernoulli Distribution', 'Beta Distribution', 'Binomial Distribution', 'Cauchy Distribution', 'Chi-Square', 'Chi-Square Distribution', 'Confidence Interval', 'Correlation', 'Covariance', 'Exponential Distribution', 'F-Distribution', 'F-Score', 'Gamma Distribution', 'Gaussian Distribution', 'Geometric Distribution', 'Hypergeometric Distribution', 'Interquartile Range', 'Kurtosis', 'Laplace Distribution', 'Logistic Distribution', 'Mean', 'Median', 'Mode', 'Multinomial Distribution', 'Negative Binomial Distribution', 'Normal Distribution', 'Pareto Distribution', 'Percentiles', 'Poisson Distribution', 'Quartiles', 'Range', 'Rayleigh Distribution', 'Skewness', 'Standard Deviation', 'Standard Error of the Mean', \"Student's T-Distribution\", 'T-Score', 'Uniform Distribution', 'Variance', 'Weibull Distribution', 'Z-Score']\n"
     ]
    }
   ],
   "source": [
    "items = [\n",
    "    \"Mean\",\n",
    "    \"Median\",\n",
    "    \"Mode\",\n",
    "    \"Variance\",\n",
    "    \"Standard Deviation\",\n",
    "    \"Skewness\",\n",
    "    \"Kurtosis\",\n",
    "    \"Range\",\n",
    "    \"Percentiles\",\n",
    "    \"Quartiles\",\n",
    "    \"Interquartile Range\",\n",
    "    \"Covariance\",\n",
    "    \"Correlation\",\n",
    "    \"Standard Error of the Mean\",\n",
    "    \"Confidence Interval\",\n",
    "    \"Z-Score\",\n",
    "    \"T-Score\",\n",
    "    \"F-Score\",\n",
    "    \"Chi-Square\",\n",
    "    \"ANOVA\",\n",
    "    \"Normal Distribution\",\n",
    "    \"Binomial Distribution\",\n",
    "    \"Poisson Distribution\",\n",
    "    \"Uniform Distribution\",\n",
    "    \"Exponential Distribution\",\n",
    "    \"Pareto Distribution\",\n",
    "    \"Hypergeometric Distribution\",\n",
    "    \"Bernoulli Distribution\",\n",
    "    \"Geometric Distribution\",\n",
    "    \"Negative Binomial Distribution\",\n",
    "    \"Multinomial Distribution\",\n",
    "    \"Gaussian Distribution\",\n",
    "    \"Student's T-Distribution\",\n",
    "    \"F-Distribution\",\n",
    "    \"Chi-Square Distribution\",\n",
    "    \"Beta Distribution\",\n",
    "    \"Gamma Distribution\",\n",
    "    \"Weibull Distribution\",\n",
    "    \"Logistic Distribution\",\n",
    "    \"Rayleigh Distribution\",\n",
    "    \"Laplace Distribution\",\n",
    "    \"Cauchy Distribution\"\n",
    "]\n",
    "\n",
    "unique_items = list(set(items))\n",
    "unique_items.sort()\n",
    "print(unique_items)\n"
   ]
  },
  {
   "cell_type": "code",
   "execution_count": 3,
   "metadata": {},
   "outputs": [
    {
     "name": "stdout",
     "output_type": "stream",
     "text": [
      "3.0\n"
     ]
    }
   ],
   "source": [
    "# Mean\n",
    "# The mean is the average of all numbers and is sometimes called the arithmetic mean.\n",
    "# The mean is calculated by adding up all numbers and dividing the sum by the number of numbers.\n",
    "# The mean is a measure of central tendency.\n",
    "\n",
    "def mean(numbers):\n",
    "    return sum(numbers) / len(numbers)\n",
    "\n",
    "print(mean([1, 2, 3, 4, 5]))\n"
   ]
  },
  {
   "cell_type": "code",
   "execution_count": 4,
   "metadata": {},
   "outputs": [],
   "source": [
    "# Median\n",
    "# The median is the middle number in a sorted, ascending or descending, list of numbers and can be more descriptive of that data set than the average.\n",
    "# The median is sometimes called the middle average.\n",
    "# The median is calculated by sorting all numbers and selecting the middle number.\n",
    "\n",
    "def median(numbers):\n",
    "    numbers.sort()\n",
    "    n = len(numbers)\n",
    "    mid = n // 2\n",
    "    if n % 2 == 0:\n",
    "        return (numbers[mid - 1] + numbers[mid]) / 2\n",
    "    else:\n",
    "        return numbers[mid]"
   ]
  },
  {
   "cell_type": "code",
   "execution_count": 5,
   "metadata": {},
   "outputs": [],
   "source": [
    "# Mode\n",
    "# The mode is the number that appears most often in a list of numbers.\n",
    "# A list of numbers can have no mode, one mode, or multiple modes.\n",
    "\n",
    "def mode(numbers):\n",
    "    n = len(numbers)\n",
    "    counts = {}\n",
    "    for i in range(n):\n",
    "        if numbers[i] in counts:\n",
    "            counts[numbers[i]] += 1\n",
    "        else:\n",
    "            counts[numbers[i]] = 1\n",
    "    max_count = max(counts.values())\n",
    "    modes = []\n",
    "    for key, value in counts.items():\n",
    "        if value == max_count:\n",
    "            modes.append(key)\n",
    "            "
   ]
  },
  {
   "cell_type": "code",
   "execution_count": 6,
   "metadata": {},
   "outputs": [],
   "source": [
    "# Variance\n",
    "# The variance is a measure of how spread out the numbers in a data set are.\n",
    "# The variance is calculated by taking the average of the squared differences between each number and the mean.\n",
    "\n",
    "def variance(numbers):\n",
    "    n = len(numbers)\n",
    "    m = mean(numbers)\n",
    "    return sum((x - m) ** 2 for x in numbers) / n"
   ]
  },
  {
   "cell_type": "code",
   "execution_count": 7,
   "metadata": {},
   "outputs": [],
   "source": [
    "# Standard Deviation \n",
    "# The standard deviation is a measure of how spread out the numbers in a data set are.\n",
    "# The standard deviation is the square root of the variance.\n",
    "\n",
    "def standard_deviation(numbers):\n",
    "    return variance(numbers) ** 0.5\n"
   ]
  },
  {
   "cell_type": "code",
   "execution_count": 8,
   "metadata": {},
   "outputs": [],
   "source": [
    "# Skewness\n",
    "# Skewness is a measure of the asymmetry of the distribution of numbers in a data set.\n",
    "# Skewness can be positive, negative, or zero.\n",
    "# Positive skewness means the distribution is skewed to the right.\n",
    "# Negative skewness means the distribution is skewed to the left.\n",
    "# Zero skewness means the distribution is symmetric.\n",
    "\n",
    "def skewness(numbers):\n",
    "    n = len(numbers)\n",
    "    m = mean(numbers)\n",
    "    s = standard_deviation(numbers)\n",
    "    return sum((x - m) ** 3 for x in numbers) / (n * s ** 3)\n"
   ]
  },
  {
   "cell_type": "code",
   "execution_count": 11,
   "metadata": {},
   "outputs": [
    {
     "name": "stdout",
     "output_type": "stream",
     "text": [
      "The distribution has lighter tails than a normal distribution.\n"
     ]
    }
   ],
   "source": [
    "# Kurtosis\n",
    "# Kurtosis is a measure of the tailedness of the distribution of numbers in a data set.\n",
    "# Kurtosis can be positive, negative, or zero.\n",
    "num = [1, 2, 3, 4, 5]  # Example data\n",
    "def kurtosis(numbers):\n",
    "    n = len(numbers)\n",
    "    m = mean(numbers)\n",
    "    s = standard_deviation(numbers)\n",
    "    return sum((x - m) ** 4 for x in numbers) / (n * s ** 4) - 3\n",
    "abc =kurtosis(num)\n",
    "if abc > 0:\n",
    "    print(\"The distribution has heavier tails than a normal distribution.\")\n",
    "elif abc < 0:\n",
    "    print(\"The distribution has lighter tails than a normal distribution.\")\n",
    "else:\n",
    "    print(\"The distribution has tails similar to a normal distribution.\")\n",
    "    "
   ]
  },
  {
   "cell_type": "code",
   "execution_count": null,
   "metadata": {},
   "outputs": [],
   "source": [
    "# Range\n",
    "# The range is the difference between the largest and smallest numbers in a data set.\n",
    "# The range is a measure of dispersion.\n",
    "\n",
    "def range(numbers):\n",
    "    return max(numbers) - min(numbers)\n"
   ]
  },
  {
   "cell_type": "code",
   "execution_count": 12,
   "metadata": {},
   "outputs": [
    {
     "name": "stdout",
     "output_type": "stream",
     "text": [
      "2.0\n",
      "3\n"
     ]
    }
   ],
   "source": [
    "# Percentiles\n",
    "# Percentiles are values that divide a data set into 100 equal parts.\n",
    "# The 25th percentile is the value below which 25% of the data falls.\n",
    "# The 50th percentile is the value below which 50% of the data falls and is also called the median.\n",
    "# The 75th percentile is the value below which 75% of the data falls.\n",
    "# Percentiles can be used to compare data sets.\n",
    "\n",
    "def percentile(numbers, p):\n",
    "    n = len(numbers)\n",
    "    numbers.sort()\n",
    "    i = (n - 1) * p\n",
    "    j = int(i)\n",
    "    k = i - j\n",
    "    return numbers[j] + k * (numbers[j + 1] - numbers[j])\n",
    "print(percentile([1, 2, 3, 4, 5], 0.25))\n",
    "print(median([1, 2, 3, 4, 5]))\n"
   ]
  },
  {
   "cell_type": "code",
   "execution_count": null,
   "metadata": {},
   "outputs": [],
   "source": [
    "# Quartiles\n",
    "# Quartiles are values that divide a data set into four equal parts.\n",
    "# The first quartile is the value below which 25% of the data falls.\n",
    "# The second quartile is the value below which 50% of the data falls and is also called the median.\n",
    "# The third quartile is the value below which 75% of the data falls.\n",
    "\n",
    "def quartiles(numbers):\n",
    "    n = len(numbers)\n",
    "    numbers.sort()\n",
    "    q1 = percentile(numbers, 0.25)\n",
    "    q2 = percentile(numbers, 0.50)\n",
    "    q3 = percentile(numbers, 0.75)\n",
    "    return q1, q2, q3"
   ]
  },
  {
   "cell_type": "code",
   "execution_count": 13,
   "metadata": {},
   "outputs": [],
   "source": [
    "# Interquartile Range\n",
    "# The interquartile range is the difference between the third and first quartiles.\n",
    "\n",
    "def interquartile_range(numbers):\n",
    "    q1, q2, q3 = quartiles(numbers)\n",
    "    return q3 - q1"
   ]
  },
  {
   "cell_type": "code",
   "execution_count": 14,
   "metadata": {},
   "outputs": [],
   "source": [
    "# Covariance\n",
    "# Covariance is a measure of how two sets of numbers change together.\n",
    "# Covariance can be positive, negative, or zero.\n",
    "# Positive covariance means the numbers tend to increase together.\n",
    "# Negative covariance means the numbers tend to decrease together.\n",
    "# Zero covariance means the numbers are uncorrelated.\n",
    "\n",
    "def covariance(x, y):\n",
    "    n = len(x)\n",
    "    mx = mean(x)\n",
    "    my = mean(y)\n",
    "    return sum((x[i] - mx) * (y[i] - my) for i in range(n)) / n"
   ]
  },
  {
   "cell_type": "code",
   "execution_count": 15,
   "metadata": {},
   "outputs": [],
   "source": [
    "# Correlation\n",
    "# Correlation is a measure of how two sets of numbers are related.\n",
    "# Correlation can be positive, negative, or zero.\n",
    "# Positive correlation means the numbers tend to increase together.\n",
    "# Negative correlation means the numbers tend to decrease together.\n",
    "# Zero correlation means the numbers are uncorrelated.\n",
    "\n",
    "def correlation(x, y):\n",
    "    n = len(x)\n",
    "    mx = mean(x)\n",
    "    my = mean(y)\n",
    "    sx = standard_deviation(x)\n",
    "    sy = standard_deviation(y)\n",
    "    return sum((x[i] - mx) * (y[i] - my) for i in range(n)) / (n * sx * sy)"
   ]
  },
  {
   "cell_type": "code",
   "execution_count": null,
   "metadata": {},
   "outputs": [],
   "source": [
    "# Standard Error of the Mean\n",
    "# The standard error of the mean is a measure of how spread out the sample means are.\n",
    "# The standard error of the mean is calculated by taking the standard deviation of the sample means.\n"
   ]
  }
 ],
 "metadata": {
  "kernelspec": {
   "display_name": "Python 3",
   "language": "python",
   "name": "python3"
  },
  "language_info": {
   "codemirror_mode": {
    "name": "ipython",
    "version": 3
   },
   "file_extension": ".py",
   "mimetype": "text/x-python",
   "name": "python",
   "nbconvert_exporter": "python",
   "pygments_lexer": "ipython3",
   "version": "3.12.2"
  }
 },
 "nbformat": 4,
 "nbformat_minor": 2
}
