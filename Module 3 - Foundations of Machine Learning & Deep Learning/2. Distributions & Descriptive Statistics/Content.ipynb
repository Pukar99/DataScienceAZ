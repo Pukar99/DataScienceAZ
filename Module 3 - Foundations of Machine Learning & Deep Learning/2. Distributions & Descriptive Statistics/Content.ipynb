{
 "cells": [
  {
   "cell_type": "code",
   "execution_count": 2,
   "metadata": {},
   "outputs": [
    {
     "name": "stdout",
     "output_type": "stream",
     "text": [
      "['ANOVA', 'Bernoulli Distribution', 'Beta Distribution', 'Binomial Distribution', 'Cauchy Distribution', 'Chi-Square', 'Chi-Square Distribution', 'Confidence Interval', 'Correlation', 'Covariance', 'Exponential Distribution', 'F-Distribution', 'F-Score', 'Gamma Distribution', 'Gaussian Distribution', 'Geometric Distribution', 'Hypergeometric Distribution', 'Interquartile Range', 'Kurtosis', 'Laplace Distribution', 'Logistic Distribution', 'Mean', 'Median', 'Mode', 'Multinomial Distribution', 'Negative Binomial Distribution', 'Normal Distribution', 'Pareto Distribution', 'Percentiles', 'Poisson Distribution', 'Quartiles', 'Range', 'Rayleigh Distribution', 'Skewness', 'Standard Deviation', 'Standard Error of the Mean', \"Student's T-Distribution\", 'T-Score', 'Uniform Distribution', 'Variance', 'Weibull Distribution', 'Z-Score']\n"
     ]
    }
   ],
   "source": [
    "items = [\n",
    "    \"Mean\",\n",
    "    \"Median\",\n",
    "    \"Mode\",\n",
    "    \"Variance\",\n",
    "    \"Standard Deviation\",\n",
    "    \"Skewness\",\n",
    "    \"Kurtosis\",\n",
    "    \"Range\",\n",
    "    \"Percentiles\",\n",
    "    \"Quartiles\",\n",
    "    \"Interquartile Range\",\n",
    "    \"Covariance\",\n",
    "    \"Correlation\",\n",
    "    \"Standard Error of the Mean\",\n",
    "    \"Confidence Interval\",\n",
    "    \"Z-Score\",\n",
    "    \"T-Score\",\n",
    "    \"F-Score\",\n",
    "    \"Chi-Square\",\n",
    "    \"ANOVA\",\n",
    "    \"Normal Distribution\",\n",
    "    \"Binomial Distribution\",\n",
    "    \"Poisson Distribution\",\n",
    "    \"Uniform Distribution\",\n",
    "    \"Exponential Distribution\",\n",
    "    \"Pareto Distribution\",\n",
    "    \"Hypergeometric Distribution\",\n",
    "    \"Bernoulli Distribution\",\n",
    "    \"Geometric Distribution\",\n",
    "    \"Negative Binomial Distribution\",\n",
    "    \"Multinomial Distribution\",\n",
    "    \"Gaussian Distribution\",\n",
    "    \"Student's T-Distribution\",\n",
    "    \"F-Distribution\",\n",
    "    \"Chi-Square Distribution\",\n",
    "    \"Beta Distribution\",\n",
    "    \"Gamma Distribution\",\n",
    "    \"Weibull Distribution\",\n",
    "    \"Logistic Distribution\",\n",
    "    \"Rayleigh Distribution\",\n",
    "    \"Laplace Distribution\",\n",
    "    \"Cauchy Distribution\"\n",
    "]\n",
    "\n",
    "unique_items = list(set(items))\n",
    "unique_items.sort()\n",
    "print(unique_items)\n"
   ]
  },
  {
   "cell_type": "code",
   "execution_count": 3,
   "metadata": {},
   "outputs": [
    {
     "name": "stdout",
     "output_type": "stream",
     "text": [
      "3.0\n"
     ]
    }
   ],
   "source": [
    "# Mean\n",
    "# The mean is the average of all numbers and is sometimes called the arithmetic mean.\n",
    "# The mean is calculated by adding up all numbers and dividing the sum by the number of numbers.\n",
    "# The mean is a measure of central tendency.\n",
    "\n",
    "def mean(numbers):\n",
    "    return sum(numbers) / len(numbers)\n",
    "\n",
    "print(mean([1, 2, 3, 4, 5]))\n"
   ]
  },
  {
   "cell_type": "code",
   "execution_count": 4,
   "metadata": {},
   "outputs": [],
   "source": [
    "# Median\n",
    "# The median is the middle number in a sorted, ascending or descending, list of numbers and can be more descriptive of that data set than the average.\n",
    "# The median is sometimes called the middle average.\n",
    "# The median is calculated by sorting all numbers and selecting the middle number.\n",
    "\n",
    "def median(numbers):\n",
    "    numbers.sort()\n",
    "    n = len(numbers)\n",
    "    mid = n // 2\n",
    "    if n % 2 == 0:\n",
    "        return (numbers[mid - 1] + numbers[mid]) / 2\n",
    "    else:\n",
    "        return numbers[mid]"
   ]
  },
  {
   "cell_type": "code",
   "execution_count": 5,
   "metadata": {},
   "outputs": [],
   "source": [
    "# Mode\n",
    "# The mode is the number that appears most often in a list of numbers.\n",
    "# A list of numbers can have no mode, one mode, or multiple modes.\n",
    "\n",
    "def mode(numbers):\n",
    "    n = len(numbers)\n",
    "    counts = {}\n",
    "    for i in range(n):\n",
    "        if numbers[i] in counts:\n",
    "            counts[numbers[i]] += 1\n",
    "        else:\n",
    "            counts[numbers[i]] = 1\n",
    "    max_count = max(counts.values())\n",
    "    modes = []\n",
    "    for key, value in counts.items():\n",
    "        if value == max_count:\n",
    "            modes.append(key)\n",
    "            "
   ]
  },
  {
   "cell_type": "code",
   "execution_count": 6,
   "metadata": {},
   "outputs": [],
   "source": [
    "# Variance\n",
    "# The variance is a measure of how spread out the numbers in a data set are.\n",
    "# The variance is calculated by taking the average of the squared differences between each number and the mean.\n",
    "\n",
    "def variance(numbers):\n",
    "    n = len(numbers)\n",
    "    m = mean(numbers)\n",
    "    return sum((x - m) ** 2 for x in numbers) / n"
   ]
  },
  {
   "cell_type": "code",
   "execution_count": 7,
   "metadata": {},
   "outputs": [],
   "source": [
    "# Standard Deviation \n",
    "# The standard deviation is a measure of how spread out the numbers in a data set are.\n",
    "# The standard deviation is the square root of the variance.\n",
    "\n",
    "def standard_deviation(numbers):\n",
    "    return variance(numbers) ** 0.5\n"
   ]
  },
  {
   "cell_type": "code",
   "execution_count": null,
   "metadata": {},
   "outputs": [],
   "source": [
    "# Skewness\n",
    "# Skewness is a measure of the asymmetry of the distribution of numbers in a data set.\n",
    "# Skewness can be positive, negative, or zero.\n",
    "# Positive skewness means the distribution is skewed to the right.\n",
    "# Negative skewness means the distribution is skewed to the left.\n",
    "# Zero skewness means the distribution is symmetric.\n",
    "\n",
    "def skewness(numbers):\n",
    "    n = len(numbers)\n",
    "    m = mean(numbers)\n",
    "    s = standard_deviation(numbers)\n",
    "    return sum((x - m) ** 3 for x in numbers) / (n * s ** 3)\n"
   ]
  }
 ],
 "metadata": {
  "kernelspec": {
   "display_name": "Python 3",
   "language": "python",
   "name": "python3"
  },
  "language_info": {
   "codemirror_mode": {
    "name": "ipython",
    "version": 3
   },
   "file_extension": ".py",
   "mimetype": "text/x-python",
   "name": "python",
   "nbconvert_exporter": "python",
   "pygments_lexer": "ipython3",
   "version": "3.12.2"
  }
 },
 "nbformat": 4,
 "nbformat_minor": 2
}
