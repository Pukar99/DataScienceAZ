{
 "cells": [
  {
   "cell_type": "markdown",
   "id": "432c560c-7b04-4af2-8849-873f852d4b2c",
   "metadata": {},
   "source": [
    "## Mean\n",
    "The mean is the average of all numbers"
   ]
  },
  {
   "cell_type": "code",
   "execution_count": 19,
   "id": "018b82f0-6e5c-4083-8fb5-42e43bc17be2",
   "metadata": {},
   "outputs": [
    {
     "data": {
      "text/plain": [
       "8.0"
      ]
     },
     "execution_count": 19,
     "metadata": {},
     "output_type": "execute_result"
    }
   ],
   "source": [
    "def mean(num):\n",
    "    a = sum(num)\n",
    "    b = len(num)\n",
    "    return a/b\n",
    "mean([4,5,6,6,6,19,10])"
   ]
  },
  {
   "cell_type": "markdown",
   "id": "1aeb6981-0f6c-4cb5-b33b-8598c15cf8eb",
   "metadata": {},
   "source": [
    "## Median\n",
    "The median is the middle value of a sorted numbers."
   ]
  },
  {
   "cell_type": "code",
   "execution_count": 20,
   "id": "5e543c26-04d7-4ebe-a3b6-d654659b256f",
   "metadata": {},
   "outputs": [
    {
     "data": {
      "text/plain": [
       "24.5"
      ]
     },
     "execution_count": 20,
     "metadata": {},
     "output_type": "execute_result"
    }
   ],
   "source": [
    "def median(num):\n",
    "    num.sort()\n",
    "    n = len(num)\n",
    "    mid = n//2\n",
    "    if n%2 == 0:\n",
    "        return (num[mid-1]+num[mid]/2)\n",
    "    else:\n",
    "        return num[mid]\n",
    "median([11,23,1,2,45,67,22,33,21,8,6,14])"
   ]
  },
  {
   "cell_type": "markdown",
   "id": "8e6e3b9b-a1f2-4030-b8bd-2cdc0ccb0d15",
   "metadata": {},
   "source": [
    "## Mode \n",
    "The mode is the frequent items in a list\n"
   ]
  },
  {
   "cell_type": "code",
   "execution_count": 21,
   "id": "64ecdbbb-61b1-40ff-8128-a8b51ca84447",
   "metadata": {},
   "outputs": [
    {
     "data": {
      "text/plain": [
       "[6]"
      ]
     },
     "execution_count": 21,
     "metadata": {},
     "output_type": "execute_result"
    }
   ],
   "source": [
    "num = [1,2,2,3,3,4,4,5,5,5,5,6,6,6,8,9,6,3,4,2,6,7]\n",
    "def mode(num):\n",
    "    freq = {}\n",
    "    for item in num:\n",
    "        if item in freq:\n",
    "            freq[item] += 1\n",
    "        else:\n",
    "            freq[item] = 1\n",
    "    max_freq = max(freq.values())\n",
    "    modes = []\n",
    "    for key, value in freq.items():\n",
    "        if value == max_freq:\n",
    "            modes.append(key)\n",
    "    return modes\n",
    "mode(num)\n"
   ]
  },
  {
   "cell_type": "markdown",
   "id": "c9adf5e0-1dc5-45a4-adac-72ecb452a948",
   "metadata": {},
   "source": [
    "# Variance \n",
    "\n",
    "The variance is a measure of how spresad out the numbers in a dataset are.\n",
    "The variance is calculated by taking the average of the squared differences between each number and the mean.\n"
   ]
  },
  {
   "cell_type": "code",
   "execution_count": 22,
   "id": "4d68020b-3f66-4ed7-b224-11ac3e6bb781",
   "metadata": {},
   "outputs": [
    {
     "data": {
      "text/plain": [
       "4.049586776859504"
      ]
     },
     "execution_count": 22,
     "metadata": {},
     "output_type": "execute_result"
    }
   ],
   "source": [
    "def variance(num):\n",
    "    n = len(num)\n",
    "    m = mean(num) # The mean is already define in the above cell\n",
    "    return sum((x-m)**2 for x in num)/n\n",
    "variance(num)"
   ]
  },
  {
   "cell_type": "markdown",
   "id": "26161186-29f6-483f-8e40-d338515dc52b",
   "metadata": {},
   "source": [
    "# Standard Deviation\n",
    "\n",
    "The standard deviation is a measure of how spread out the numbers in a dataset are.\n",
    "The standard deviation is the square root of the variance\n"
   ]
  },
  {
   "cell_type": "code",
   "execution_count": 23,
   "id": "8c895d6d-fc40-4a2c-927b-2e342f16d400",
   "metadata": {},
   "outputs": [
    {
     "data": {
      "text/plain": [
       "2.0123585110162416"
      ]
     },
     "execution_count": 23,
     "metadata": {},
     "output_type": "execute_result"
    }
   ],
   "source": [
    "def standard_deviation(num):\n",
    "    v = variance(num)\n",
    "    return v**(0.5)\n",
    "\n",
    "standard_deviation(num)"
   ]
  },
  {
   "cell_type": "markdown",
   "id": "6ff4b88d-f653-44fd-9711-edc10e96656c",
   "metadata": {},
   "source": [
    "# Skewness\n",
    "Skewness is a measure of the asymmetry of the distribution of numbers in a data set.\n",
    "Skewness can be positive, negative, or zero.\n",
    "Positive skewness means the distribution is skewed to the right.\n",
    "Negative skewness means the distribution is skewed to the left.\n",
    "Zero skewness means the distribution is symmetric."
   ]
  },
  {
   "cell_type": "code",
   "execution_count": 29,
   "id": "bbd85444",
   "metadata": {},
   "outputs": [
    {
     "name": "stdout",
     "output_type": "stream",
     "text": [
      "Positively Skewed with  0.16871627166495962\n"
     ]
    }
   ],
   "source": [
    "def skewness(num):\n",
    "    n = len(num)\n",
    "    m = mean(num)\n",
    "    s = standard_deviation(num)\n",
    "    return sum((x-m)**3 for x in num)/(n*s**3)\n",
    "skew = skewness(num)\n",
    "if skew>0:\n",
    "    print(\"Positively Skewed with \",skew)\n",
    "elif skew ==0:\n",
    "    print(\"Zero Skewed with \", skew)\n",
    "else :\n",
    "    print(\"Negatively Skewed with \", skew)"
   ]
  },
  {
   "cell_type": "code",
   "execution_count": null,
   "id": "5fce729a-002e-4edd-9db7-f6300158cd91",
   "metadata": {},
   "outputs": [],
   "source": []
  }
 ],
 "metadata": {
  "kernelspec": {
   "display_name": "Python 3 (ipykernel)",
   "language": "python",
   "name": "python3"
  },
  "language_info": {
   "codemirror_mode": {
    "name": "ipython",
    "version": 3
   },
   "file_extension": ".py",
   "mimetype": "text/x-python",
   "name": "python",
   "nbconvert_exporter": "python",
   "pygments_lexer": "ipython3",
   "version": "3.12.2"
  }
 },
 "nbformat": 4,
 "nbformat_minor": 5
}
