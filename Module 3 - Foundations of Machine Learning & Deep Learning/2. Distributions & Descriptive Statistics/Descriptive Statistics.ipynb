{
 "cells": [
  {
   "cell_type": "markdown",
   "id": "432c560c-7b04-4af2-8849-873f852d4b2c",
   "metadata": {},
   "source": [
    "## Mean\n",
    "The mean is the average of all numbers"
   ]
  },
  {
   "cell_type": "code",
   "execution_count": 1,
   "id": "018b82f0-6e5c-4083-8fb5-42e43bc17be2",
   "metadata": {},
   "outputs": [
    {
     "data": {
      "text/plain": [
       "8.0"
      ]
     },
     "execution_count": 1,
     "metadata": {},
     "output_type": "execute_result"
    }
   ],
   "source": [
    "def mean(num):\n",
    "    a = sum(num)\n",
    "    b = len(num)\n",
    "    return a/b\n",
    "mean([4,5,6,6,6,19,10])"
   ]
  },
  {
   "cell_type": "markdown",
   "id": "1aeb6981-0f6c-4cb5-b33b-8598c15cf8eb",
   "metadata": {},
   "source": [
    "## Median\n",
    "The median is the middle value of a sorted numbers."
   ]
  },
  {
   "cell_type": "code",
   "execution_count": 2,
   "id": "5e543c26-04d7-4ebe-a3b6-d654659b256f",
   "metadata": {},
   "outputs": [
    {
     "data": {
      "text/plain": [
       "17.5"
      ]
     },
     "execution_count": 2,
     "metadata": {},
     "output_type": "execute_result"
    }
   ],
   "source": [
    "def median(num):\n",
    "    num.sort()\n",
    "    n = len(num)\n",
    "    mid = n//2\n",
    "    if n%2 == 0:\n",
    "        return (num[mid-1]+num[mid])/2\n",
    "    else:\n",
    "        return num[mid]\n",
    "median([11,23,1,2,45,67,22,33,21,8,6,14])"
   ]
  },
  {
   "cell_type": "markdown",
   "id": "8e6e3b9b-a1f2-4030-b8bd-2cdc0ccb0d15",
   "metadata": {},
   "source": [
    "## Mode \n",
    "The mode is the frequent items in a list\n"
   ]
  },
  {
   "cell_type": "code",
   "execution_count": 3,
   "id": "64ecdbbb-61b1-40ff-8128-a8b51ca84447",
   "metadata": {},
   "outputs": [
    {
     "data": {
      "text/plain": [
       "[6]"
      ]
     },
     "execution_count": 3,
     "metadata": {},
     "output_type": "execute_result"
    }
   ],
   "source": [
    "num = [1,2,2,3,3,4,4,5,5,5,5,6,6,6,8,9,6,3,4,2,6,7]\n",
    "def mode(num):\n",
    "    freq = {}\n",
    "    for item in num:\n",
    "        if item in freq:\n",
    "            freq[item] += 1\n",
    "        else:\n",
    "            freq[item] = 1\n",
    "    max_freq = max(freq.values())\n",
    "    modes = []\n",
    "    for key, value in freq.items():\n",
    "        if value == max_freq:\n",
    "            modes.append(key)\n",
    "    return modes\n",
    "mode(num)\n"
   ]
  },
  {
   "cell_type": "markdown",
   "id": "c9adf5e0-1dc5-45a4-adac-72ecb452a948",
   "metadata": {},
   "source": [
    "# Variance \n",
    "\n",
    "The variance is a measure of how spresad out the numbers in a dataset are.\n",
    "The variance is calculated by taking the average of the squared differences between each number and the mean.\n"
   ]
  },
  {
   "cell_type": "code",
   "execution_count": 4,
   "id": "4d68020b-3f66-4ed7-b224-11ac3e6bb781",
   "metadata": {},
   "outputs": [
    {
     "data": {
      "text/plain": [
       "4.049586776859504"
      ]
     },
     "execution_count": 4,
     "metadata": {},
     "output_type": "execute_result"
    }
   ],
   "source": [
    "def variance(num):\n",
    "    n = len(num)\n",
    "    m = mean(num) # The mean is already define in the above cell\n",
    "    return sum((x-m)**2 for x in num)/n\n",
    "variance(num)"
   ]
  },
  {
   "cell_type": "markdown",
   "id": "26161186-29f6-483f-8e40-d338515dc52b",
   "metadata": {},
   "source": [
    "# Standard Deviation\n",
    "\n",
    "The standard deviation is a measure of how spread out the numbers in a dataset are.\n",
    "The standard deviation is the square root of the variance\n"
   ]
  },
  {
   "cell_type": "code",
   "execution_count": 5,
   "id": "8c895d6d-fc40-4a2c-927b-2e342f16d400",
   "metadata": {},
   "outputs": [
    {
     "data": {
      "text/plain": [
       "2.0123585110162416"
      ]
     },
     "execution_count": 5,
     "metadata": {},
     "output_type": "execute_result"
    }
   ],
   "source": [
    "def standard_deviation(num):\n",
    "    v = variance(num)\n",
    "    return v**(0.5)\n",
    "\n",
    "standard_deviation(num)"
   ]
  },
  {
   "cell_type": "markdown",
   "id": "6ff4b88d-f653-44fd-9711-edc10e96656c",
   "metadata": {},
   "source": [
    "# Skewness\n",
    "Skewness is a measure of the asymmetry of the distribution of numbers in a data set.\n",
    "Skewness can be positive, negative, or zero.\n",
    "Positive skewness means the distribution is skewed to the right.\n",
    "Negative skewness means the distribution is skewed to the left.\n",
    "Zero skewness means the distribution is symmetric."
   ]
  },
  {
   "cell_type": "code",
   "execution_count": 6,
   "id": "bbd85444",
   "metadata": {},
   "outputs": [
    {
     "name": "stdout",
     "output_type": "stream",
     "text": [
      "Positively Skewed with  0.16871627166495962\n"
     ]
    }
   ],
   "source": [
    "def skewness(num):\n",
    "    n = len(num)\n",
    "    m = mean(num)\n",
    "    s = standard_deviation(num)\n",
    "    return sum((x-m)**3 for x in num)/(n*s**3)\n",
    "skew = skewness(num)\n",
    "if skew>0:\n",
    "    print(\"Positively Skewed with \",skew)\n",
    "elif skew ==0:\n",
    "    print(\"Zero Skewed with \", skew)\n",
    "else :\n",
    "    print(\"Negatively Skewed with \", skew)"
   ]
  },
  {
   "cell_type": "markdown",
   "id": "6e80764d-ec3e-4f1c-a90d-95a923576ec1",
   "metadata": {},
   "source": [
    "# Kurtosis\n",
    "It is the measure of tailness of distribution of data\n"
   ]
  },
  {
   "cell_type": "code",
   "execution_count": 7,
   "id": "1e95f36b-c039-4718-9802-23ff5dd6adda",
   "metadata": {},
   "outputs": [
    {
     "name": "stdout",
     "output_type": "stream",
     "text": [
      "The distribution has ligheter tails than a normal distirbution\n"
     ]
    }
   ],
   "source": [
    "def kurtosis(num):\n",
    "    n = len(num)\n",
    "    m = mean(num)\n",
    "    s = standard_deviation(num)\n",
    "    return sum((x-m)**4 for x in num)/(n*s**4)-3\n",
    "result = kurtosis(num)\n",
    "if result>0:\n",
    "    print(\"The disribution has heaiver tails than a normal distribution\")\n",
    "elif result<0:\n",
    "    print(\"The distribution has ligheter tails than a normal distirbution\")\n",
    "else:\n",
    "    print(\" The distribution is similar to normal distribution\")\n",
    "        "
   ]
  },
  {
   "cell_type": "markdown",
   "id": "0f756ed7-000f-4ff9-a8f4-7c126b2a6af6",
   "metadata": {},
   "source": [
    "# Range \n",
    "The range is the difference between the largest and smallest numbers in a dataset.\n",
    "The range is a measure of dispersion.\n"
   ]
  },
  {
   "cell_type": "code",
   "execution_count": 8,
   "id": "7e69e0cf-a4ae-425e-82af-e83c19b83e9b",
   "metadata": {},
   "outputs": [
    {
     "data": {
      "text/plain": [
       "8"
      ]
     },
     "execution_count": 8,
     "metadata": {},
     "output_type": "execute_result"
    }
   ],
   "source": [
    "def ran(num):\n",
    "    return max(num)-min(num)\n",
    "\n",
    "ran(num)"
   ]
  },
  {
   "cell_type": "markdown",
   "id": "f7dc4f2e-bbd6-418b-993f-f4f489f9cd33",
   "metadata": {},
   "source": [
    "# Percentiles \n",
    "They are values that divied a data set into 100 equal parts.\n"
   ]
  },
  {
   "cell_type": "code",
   "execution_count": 9,
   "id": "16d1d4c4-bc59-4604-9c73-697ca1d543f8",
   "metadata": {},
   "outputs": [
    {
     "name": "stdout",
     "output_type": "stream",
     "text": [
      "5.0\n",
      "5.0\n"
     ]
    }
   ],
   "source": [
    "def percentiles(num,p):\n",
    "    p = p/100\n",
    "    n = len(num)\n",
    "    num.sort()\n",
    "    i = (n-1)*p\n",
    "    j = int(i)\n",
    "    k = i-j\n",
    "    return num[j]+k*(num[j+1]-num[j])\n",
    "\n",
    "print(percentiles(num,50))\n",
    "print(median(num))"
   ]
  },
  {
   "cell_type": "markdown",
   "id": "fffae266-6fff-4fb5-97f1-22a26c32772c",
   "metadata": {},
   "source": [
    "# Quartiles\n",
    "They are values that divides a data set into four equal parts."
   ]
  },
  {
   "cell_type": "code",
   "execution_count": 10,
   "id": "8f8375a4-c4d0-482b-a6fd-5f5d8d13498b",
   "metadata": {},
   "outputs": [
    {
     "name": "stdout",
     "output_type": "stream",
     "text": [
      "(3.0, 5.0, 6.0)\n"
     ]
    }
   ],
   "source": [
    "def quartiles(num):\n",
    "    n = len(num)\n",
    "    num.sort()\n",
    "    q1 = percentiles(num,25)\n",
    "    q2 = percentiles(num,50)\n",
    "    q3 = percentiles(num,75)\n",
    "    return q1, q2, q3\n",
    "print(quartiles(num))"
   ]
  },
  {
   "cell_type": "markdown",
   "id": "2213c833-5a64-4abc-a3b6-d1c45b839aa1",
   "metadata": {},
   "source": [
    "# Interquartile Range\n",
    "The interquartile range is the difference between the third and first quartiles.\n"
   ]
  },
  {
   "cell_type": "code",
   "execution_count": 11,
   "id": "e46b1b1f-e0f9-486c-b9fd-cf205eeefeb4",
   "metadata": {},
   "outputs": [
    {
     "name": "stdout",
     "output_type": "stream",
     "text": [
      "3.0\n"
     ]
    }
   ],
   "source": [
    "def interquartile_range(num):\n",
    "    q1, q2, q3 = quartiles(num)\n",
    "    return q3 -q1\n",
    "\n",
    "print(interquartile_range(num))"
   ]
  },
  {
   "cell_type": "markdown",
   "id": "e3fde008-2bdd-483f-9a00-65785bfc966a",
   "metadata": {},
   "source": [
    "\n",
    "# Covariance\n",
    "It is a measure of how two sets of numbers change together.\n",
    "\n"
   ]
  },
  {
   "cell_type": "code",
   "execution_count": 17,
   "id": "c6866d2d-2bc4-4db6-a877-33ae6c870a26",
   "metadata": {},
   "outputs": [
    {
     "data": {
      "text/plain": [
       "762.1944444444445"
      ]
     },
     "execution_count": 17,
     "metadata": {},
     "output_type": "execute_result"
    }
   ],
   "source": [
    "def covariance(x,y):\n",
    "    n = len(x)\n",
    "    mx = mean(x)\n",
    "    my = mean(y)\n",
    "    cov = sum((x[i] - mx) * (y[i] - my) for i in range(n)) / n\n",
    "    return cov\n",
    "\n",
    "x = [1,2,3,4,5,6,7,7,8,1,2,3,3,45,66,77,88,33]\n",
    "y = [1,2,3,4,5,6,7,7,8,1,2,3,3,45,56,77,88,33]\n",
    "\n",
    "covariance(x,y)"
   ]
  },
  {
   "cell_type": "markdown",
   "id": "39b8f1e6-f5f0-48e5-9d87-5bba8556fa11",
   "metadata": {},
   "source": [
    "# Correlation\n",
    "Correlation is a measure of how two sets of numbers are related.\n",
    "Correlation can be positive, negative, or zero.\n",
    "Positive correlation means the numbers tend to increase together.\n",
    "Negative correlation means the numbers tend to decrease together.\n",
    "Zero correlation means the numbers are uncorrelated.\n"
   ]
  },
  {
   "cell_type": "code",
   "execution_count": 18,
   "id": "863e2883-9b24-4361-a538-3acf8ce48aef",
   "metadata": {},
   "outputs": [
    {
     "data": {
      "text/plain": [
       "0.9970168941688766"
      ]
     },
     "execution_count": 18,
     "metadata": {},
     "output_type": "execute_result"
    }
   ],
   "source": [
    "def correlation(x, y):\n",
    "    n = len(x)\n",
    "    mx = mean(x)\n",
    "    my = mean(y)\n",
    "    sx = standard_deviation(x)\n",
    "    sy = standard_deviation(y)\n",
    "    return sum((x[i] - mx) * (y[i] - my) for i in range(n)) / (n * sx * sy)\n",
    "\n",
    "correlation(x,y)"
   ]
  },
  {
   "cell_type": "code",
   "execution_count": null,
   "id": "705e63b9-8f57-4f81-974f-c014d6676a52",
   "metadata": {},
   "outputs": [],
   "source": []
  }
 ],
 "metadata": {
  "kernelspec": {
   "display_name": "Python 3 (ipykernel)",
   "language": "python",
   "name": "python3"
  },
  "language_info": {
   "codemirror_mode": {
    "name": "ipython",
    "version": 3
   },
   "file_extension": ".py",
   "mimetype": "text/x-python",
   "name": "python",
   "nbconvert_exporter": "python",
   "pygments_lexer": "ipython3",
   "version": "3.12.2"
  }
 },
 "nbformat": 4,
 "nbformat_minor": 5
}
