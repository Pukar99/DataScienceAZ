{
 "cells": [
  {
   "cell_type": "code",
   "execution_count": 1,
   "metadata": {},
   "outputs": [],
   "source": [
    "# Functional Programming in Python for Data Science\n",
    "\n",
    "# Contents:\n",
    "# 1. Introduction to Functional Programming\n",
    "# 2. Functions in Python\n",
    "# 3. Lambda Functions\n",
    "# 4. Map and Filter Functions\n",
    "# 5. List Comprehensions\n",
    "# 6. Reduce Function\n",
    "# 7. Decorators\n",
    "# 8. Generators\n",
    "# 9. Iterators\n",
    "# 10. Closures\n",
    "# 11. Currying\n",
    "# 12. Partial Functions\n",
    "\n",
    "\n"
   ]
  },
  {
   "cell_type": "code",
   "execution_count": 2,
   "metadata": {},
   "outputs": [],
   "source": [
    "# 1. Introduction to Functional Programming\n",
    "# Functional programming is a programming paradigm that treats computation as the evaluation of mathematical functions and avoids changing-state and mutable data.\n",
    "# It is a declarative type of programming style.\n",
    "# Functional programming is based on mathematical functions. It focuses on the following:\n",
    "# 1. Pure Functions\n",
    "# 2. Avoid Side Effects\n",
    "# 3. Immutable Data\n",
    "# 4. First Class Functions\n",
    "\n",
    "# Pure Functions:\n",
    "# A function is called pure function if it satisfies the following two conditions:\n",
    "# 1. The function always returns the same output for the same arguments.\n",
    "# 2. The function does not produce any side effects.\n",
    "\n",
    "# Avoid Side Effects:\n",
    "# Side effects are the changes in the state of your application that are observable outside the called function other than the return value.\n",
    "# Side effects include changing the value of a global variable, writing to a file, writing to the console or a screen, and so on.\n",
    "\n",
    "# Immutable Data:\n",
    "# In functional programming, data is immutable, which means it cannot be changed once it is created.\n",
    "# If you want to change an immutable object, you can't. Instead, you create a new object with the new value.\n",
    "\n",
    "# First Class Functions:\n",
    "# In functional programming, functions are first-class citizens, which means they can be:\n",
    "# 1. Assigned to a variable\n",
    "# 2. Passed as an argument to other functions\n",
    "# 3. Returned from other functions\n",
    "\n",
    "# Functional programming languages include:\n",
    "# 1. Haskell\n",
    "# 2. Scala\n",
    "# 3. Clojure\n",
    "# 4. Erlang\n",
    "# 5. F#\n",
    "# 6. OCaml\n",
    "# 7. Lisp\n",
    "# 8. Racket\n",
    "# 9. Scheme\n",
    "# 10. Elm\n",
    "# 11. Elixir\n",
    "# 12. PureScript\n",
    "# 13. ReasonML\n",
    "# 14. Standard ML\n",
    "# 15. Agda\n",
    "# 16. Idris\n",
    "# 17. Coq\n",
    "# 18. Koka\n",
    "# 19. Mercury\n",
    "# 20. Raku\n",
    "\n",
    "\n",
    "\n",
    "\n",
    "\n",
    "\n"
   ]
  },
  {
   "cell_type": "code",
   "execution_count": 3,
   "metadata": {},
   "outputs": [
    {
     "name": "stdout",
     "output_type": "stream",
     "text": [
      "Hello, World!\n"
     ]
    }
   ],
   "source": [
    "# 2. Functions in Python\n",
    "# A function is a block of code that performs a specific task.\n",
    "# A function is defined using the def keyword.\n",
    "# A function can take arguments.\n",
    "\n",
    "# Example:\n",
    "\n",
    "def greet():\n",
    "    print(\"Hello, World!\")\n",
    "    \n",
    "greet() # Output: Hello, World! "
   ]
  },
  {
   "cell_type": "code",
   "execution_count": 4,
   "metadata": {},
   "outputs": [
    {
     "name": "stdout",
     "output_type": "stream",
     "text": [
      "Hello, Alice!\n"
     ]
    }
   ],
   "source": [
    "# A function can take arguments.\n",
    "\n",
    "def greet(name):\n",
    "    print(f\"Hello, {name}!\")\n",
    "    \n",
    "greet(\"Alice\") # Output: Hello, Alice!"
   ]
  },
  {
   "cell_type": "code",
   "execution_count": 5,
   "metadata": {},
   "outputs": [
    {
     "name": "stdout",
     "output_type": "stream",
     "text": [
      "8\n"
     ]
    }
   ],
   "source": [
    "# A function can return a value.\n",
    "\n",
    "def add(a, b):\n",
    "    return a + b\n",
    "\n",
    "result = add(3, 5)\n",
    "print(result) # Output: 8\n"
   ]
  },
  {
   "cell_type": "code",
   "execution_count": 6,
   "metadata": {},
   "outputs": [
    {
     "name": "stdout",
     "output_type": "stream",
     "text": [
      "(8, -2)\n"
     ]
    }
   ],
   "source": [
    "# A function can return multiple values.\n",
    "\n",
    "def add_subtract(a, b):\n",
    "    return a + b, a - b\n",
    "\n",
    "result = add_subtract(3, 5)\n",
    "print(result) # Output: (8, -2)\n"
   ]
  },
  {
   "cell_type": "code",
   "execution_count": 7,
   "metadata": {},
   "outputs": [
    {
     "name": "stdout",
     "output_type": "stream",
     "text": [
      "Hello, World!\n"
     ]
    }
   ],
   "source": [
    "# A function can have default arguments.\n",
    "\n",
    "def greet(name=\"World\"):\n",
    "    print(f\"Hello, {name}!\")\n",
    "    \n",
    "greet() # Output: Hello, World!"
   ]
  },
  {
   "cell_type": "code",
   "execution_count": 8,
   "metadata": {},
   "outputs": [
    {
     "name": "stdout",
     "output_type": "stream",
     "text": [
      "15\n"
     ]
    }
   ],
   "source": [
    "# A function can have variable-length arguments.\n",
    "\n",
    "def add(*args):\n",
    "    return sum(args)\n",
    "\n",
    "result = add(1, 2, 3, 4, 5)\n",
    "print(result) # Output: 15"
   ]
  },
  {
   "cell_type": "code",
   "execution_count": 9,
   "metadata": {},
   "outputs": [
    {
     "name": "stdout",
     "output_type": "stream",
     "text": [
      "Hi, Alice!\n"
     ]
    }
   ],
   "source": [
    "# A function can have keyword arguments.\n",
    "\n",
    "def greet(name=\"World\", message=\"Hello\"):\n",
    "    print(f\"{message}, {name}!\")\n",
    "    \n",
    "greet(message=\"Hi\", name=\"Alice\") # Output: Hi, Alice!"
   ]
  },
  {
   "cell_type": "code",
   "execution_count": 10,
   "metadata": {},
   "outputs": [
    {
     "name": "stdout",
     "output_type": "stream",
     "text": [
      "Hello, World!\n"
     ]
    }
   ],
   "source": [
    "greet()"
   ]
  },
  {
   "cell_type": "code",
   "execution_count": 11,
   "metadata": {},
   "outputs": [
    {
     "name": "stdout",
     "output_type": "stream",
     "text": [
      "{'name': 'Alice', 'message': 'Hi'}\n"
     ]
    }
   ],
   "source": [
    "# A function can have variable-length keyword arguments.\n",
    "\n",
    "def greet(**kwargs):\n",
    "    print(kwargs)\n",
    "    \n",
    "greet(name=\"Alice\", message=\"Hi\") # Output: {'name': 'Alice', 'message': 'Hi'}"
   ]
  },
  {
   "cell_type": "code",
   "execution_count": 12,
   "metadata": {},
   "outputs": [
    {
     "name": "stdout",
     "output_type": "stream",
     "text": [
      "Inside inner function\n"
     ]
    }
   ],
   "source": [
    "# A function can return another function.\n",
    "\n",
    "def outer():\n",
    "    def inner():\n",
    "        print(\"Inside inner function\")\n",
    "    return inner    \n",
    "\n",
    "inner = outer()\n",
    "inner() # Output: Inside inner function\n"
   ]
  },
  {
   "cell_type": "code",
   "execution_count": 13,
   "metadata": {},
   "outputs": [
    {
     "name": "stdout",
     "output_type": "stream",
     "text": [
      "Hello\n"
     ]
    }
   ],
   "source": [
    "# A function can be passed as an argument to another function.\n",
    "\n",
    "def greet():\n",
    "    return \"Hello\"\n",
    "\n",
    "def welcome(func):\n",
    "    message = func()\n",
    "    print(message)\n",
    "    \n",
    "welcome(greet) # Output: Hello"
   ]
  },
  {
   "cell_type": "code",
   "execution_count": 14,
   "metadata": {},
   "outputs": [
    {
     "name": "stdout",
     "output_type": "stream",
     "text": [
      "Inside inner function\n"
     ]
    }
   ],
   "source": [
    "# A function can be defined inside another function.\n",
    "\n",
    "def outer():\n",
    "    def inner():\n",
    "        print(\"Inside inner function\")\n",
    "    inner()\n",
    "    \n",
    "outer() # Output: Inside inner function\n",
    "\n"
   ]
  },
  {
   "cell_type": "code",
   "execution_count": 17,
   "metadata": {},
   "outputs": [
    {
     "name": "stdout",
     "output_type": "stream",
     "text": [
      "8\n"
     ]
    }
   ],
   "source": [
    "# 3. Lambda Functions\n",
    "# A lambda function is a small anonymous function.\n",
    "# A lambda function can take any number of arguments, but can only have one expression.\n",
    "\n",
    "# Syntax:\n",
    "# lambda arguments: expression\n",
    "\n",
    "# Example:\n",
    "\n",
    "add = lambda a, b: a + b\n",
    "result = add(3, 5)\n",
    "print(result) # Output: 8"
   ]
  },
  {
   "cell_type": "code",
   "execution_count": 21,
   "metadata": {},
   "outputs": [
    {
     "name": "stdout",
     "output_type": "stream",
     "text": [
      "[1, 4, 9, 16, 25]\n",
      "[1, 2, 3, 4, 5]\n",
      "[2, 4]\n",
      "[False, True, False, True, False]\n"
     ]
    }
   ],
   "source": [
    "# 4. Map and Filter Functions\n",
    "# The map() function applies a given function to all the items in an input list.\n",
    "# The filter() function filters the elements of a list based on a given function.\n",
    "\n",
    "# Example:\n",
    "\n",
    "numbers = [1, 2, 3, 4, 5]\n",
    "\n",
    "# Using map() function\n",
    "squared_numbers = list(map(lambda x: x**2, numbers))\n",
    "squared_numbers2 = list(filter(lambda x: x**2, numbers))\n",
    "print(squared_numbers)\n",
    "print(squared_numbers2) # Output: [1, 4, 9, 16, 25]\n",
    "\n",
    "# Using filter() function\n",
    "even_numbers = list(filter(lambda x: x % 2 == 0, numbers))\n",
    "even_numbers2 = list(map(lambda x: x % 2 == 0, numbers))\n",
    "print(even_numbers)\n",
    "print(even_numbers2) # Output: [2, 4]\n",
    "\n",
    "# Debug the above map() and fileter() functions\n",
    "# print(squared_numbers)\n",
    "# print(even_numbers)\n",
    "\n"
   ]
  },
  {
   "cell_type": "code",
   "execution_count": 23,
   "metadata": {},
   "outputs": [
    {
     "name": "stdout",
     "output_type": "stream",
     "text": [
      "[1, 4, 9, 16, 25]\n",
      "[2, 4]\n"
     ]
    }
   ],
   "source": [
    "# 5. List Comprehensions\n",
    "# List comprehensions provide a concise way to create lists.\n",
    "# It consists of brackets containing an expression followed by a for clause, then zero or more for or if clauses.\n",
    "\n",
    "# Example:\n",
    "\n",
    "numbers = [1, 2, 3, 4, 5]\n",
    "\n",
    "squared_numbers = [x**2 for x in numbers]\n",
    "even_numbers = [x for x in numbers if x % 2 == 0]\n",
    "print(squared_numbers) # Output: [1, 4, 9, 16, 25]\n",
    "print(even_numbers) # Output: [2, 4]\n"
   ]
  },
  {
   "cell_type": "code",
   "execution_count": 24,
   "metadata": {},
   "outputs": [
    {
     "name": "stdout",
     "output_type": "stream",
     "text": [
      "15\n",
      "120\n"
     ]
    }
   ],
   "source": [
    "# 6. Reduce Function\n",
    "# The reduce() function is used to apply a function to all the elements in a list.\n",
    "\n",
    "# Example:\n",
    "\n",
    "from functools import reduce\n",
    "\n",
    "numbers = [1, 2, 3, 4, 5]\n",
    "\n",
    "sum_of_numbers = reduce(lambda x, y: x + y, numbers)\n",
    "product_of_numbers = reduce(lambda x, y: x * y, numbers)\n",
    "print(sum_of_numbers) # Output: 15\n",
    "print(product_of_numbers) # Output: 120\n",
    "\n"
   ]
  },
  {
   "cell_type": "code",
   "execution_count": null,
   "metadata": {},
   "outputs": [],
   "source": []
  }
 ],
 "metadata": {
  "kernelspec": {
   "display_name": "Python 3",
   "language": "python",
   "name": "python3"
  },
  "language_info": {
   "codemirror_mode": {
    "name": "ipython",
    "version": 3
   },
   "file_extension": ".py",
   "mimetype": "text/x-python",
   "name": "python",
   "nbconvert_exporter": "python",
   "pygments_lexer": "ipython3",
   "version": "3.12.2"
  }
 },
 "nbformat": 4,
 "nbformat_minor": 2
}
