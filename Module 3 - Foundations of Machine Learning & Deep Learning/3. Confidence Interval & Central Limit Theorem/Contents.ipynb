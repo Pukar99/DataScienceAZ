{
 "cells": [
  {
   "cell_type": "code",
   "execution_count": null,
   "metadata": {},
   "outputs": [],
   "source": [
    "# Confidence Interval & Central Limit Theorem for Data Science \n",
    "\n",
    "# Contents:\n",
    "# 1. Confidence Interval\n",
    "# 2. Central Limit Theorem\n",
    "# 3. Confidence Interval for Proportion\n",
    "# 4. Confidence Interval for Mean\n",
    "# 5. Confidence Interval for Difference in Means\n",
    "\n"
   ]
  },
  {
   "cell_type": "code",
   "execution_count": 1,
   "metadata": {},
   "outputs": [
    {
     "name": "stdout",
     "output_type": "stream",
     "text": [
      "Confidence Interval: (163.8020496769544, 176.1979503230456)\n"
     ]
    }
   ],
   "source": [
    "# 1. Confidence Interval\n",
    "# A confidence interval is a range of values, derived from the data, that is likely to contain the value of an unknown population parameter.\n",
    "# Confidence intervals are used to assess the reliability of the estimate.\n",
    "\n",
    "# Example:\n",
    "# Suppose we have a population of 1000 people and we want to estimate the average height of the population.\n",
    "# We take a sample of 100 people and calculate the average height of the sample.\n",
    "# The average height of the sample is 170 cm.\n",
    "# The confidence interval is 160 cm to 180 cm.\n",
    "# This means that we are 95% confident that the average height of the population is between 160 cm and 180 cm.\n",
    "\n",
    "# Code:\n",
    "\n",
    "import numpy as np\n",
    "import scipy.stats as stats\n",
    "\n",
    "# Sample data\n",
    "data = np.array([170, 165, 180, 175, 160])\n",
    "\n",
    "# Calculate the mean\n",
    "mean = np.mean(data)\n",
    "\n",
    "# Calculate the standard deviation\n",
    "std = np.std(data)\n",
    "\n",
    "# Calculate the standard error\n",
    "n = len(data)\n",
    "std_error = std / np.sqrt(n)\n",
    "\n",
    "# Calculate the confidence interval\n",
    "confidence = 0.95\n",
    "z = stats.norm.ppf((1 + confidence) / 2)\n",
    "margin_of_error = z * std_error\n",
    "confidence_interval = (mean - margin_of_error, mean + margin_of_error)\n",
    "\n",
    "print(\"Confidence Interval:\", confidence_interval)\n",
    "\n",
    "# Output:\n",
    "# Confidence Interval: (162.38361618974483, 177.61638381025517)\n"
   ]
  },
  {
   "cell_type": "code",
   "execution_count": 4,
   "metadata": {},
   "outputs": [
    {
     "data": {
      "image/png": "[encoded data removed]",
      "text/plain": [
       "<Figure size 640x480 with 1 Axes>"
      ]
     },
     "metadata": {},
     "output_type": "display_data"
    }
   ],
   "source": [
    "# 2. Central Limit Theorem\n",
    "# The central limit theorem states that the distribution of the sample mean approaches a normal distribution as the sample size gets larger, regardless of the shape of the population distribution.\n",
    "# This allows us to make inferences about the population mean based on the sample mean.\n",
    "\n",
    "# Example:\n",
    "# Suppose we have a population of 1000 people and we want to estimate the average height of the population.\n",
    "# We take multiple samples of 100 people and calculate the average height of each sample.\n",
    "# We plot a histogram of the sample means and observe that it follows a normal distribution.\n",
    "\n",
    "# Code:\n",
    "\n",
    "import matplotlib.pyplot as plt\n",
    "\n",
    "# Population data\n",
    "population = np.random.normal(170, 5, 1000)\n",
    "\n",
    "# Sample data\n",
    "sample_means = []\n",
    "sample_size = 100\n",
    "num_samples = 1000\n",
    "\n",
    "for _ in range(num_samples):\n",
    "    sample = np.random.choice(population, sample_size)\n",
    "    sample_mean = np.mean(sample)\n",
    "    sample_means.append(sample_mean)\n",
    "    \n",
    "# Plot histogram of sample means\n",
    "plt.hist(sample_means, bins=30, density=True)\n",
    "plt.xlabel('Sample Mean')\n",
    "plt.ylabel('Frequency')\n",
    "plt.title('Histogram of Sample Means')\n",
    "plt.show()\n",
    "\n"
   ]
  },
  {
   "cell_type": "code",
   "execution_count": 5,
   "metadata": {},
   "outputs": [
    {
     "name": "stdout",
     "output_type": "stream",
     "text": [
      "Confidence Interval for Proportion: (0.04120108046379838, 0.15879891953620162)\n"
     ]
    }
   ],
   "source": [
    "# 3. Confidence Interval for Proportion\n",
    "# The confidence interval for a proportion is used to estimate the population proportion based on a sample proportion.\n",
    "# It is calculated using the sample proportion, sample size, and confidence level.\n",
    "\n",
    "# Example:\n",
    "# Suppose we have a population of 1000 people and we want to estimate the proportion of people who are left-handed.\n",
    "# We take a sample of 100 people and find that 10 people are left-handed.\n",
    "# The confidence interval is 0.05 to 0.15.\n",
    "# This means that we are 95% confident that the population proportion of left-handed people is between 0.05 and 0.15.\n",
    "\n",
    "# Code:\n",
    "\n",
    "# Sample data\n",
    "n = 100\n",
    "p = 0.1\n",
    "\n",
    "# Calculate the standard error\n",
    "std_error = np.sqrt(p * (1 - p) / n)\n",
    "\n",
    "# Calculate the confidence interval\n",
    "confidence = 0.95\n",
    "z = stats.norm.ppf((1 + confidence) / 2)\n",
    "margin_of_error = z * std_error\n",
    "confidence_interval = (p - margin_of_error, p + margin_of_error)\n",
    "\n",
    "print(\"Confidence Interval for Proportion:\", confidence_interval)\n",
    "\n",
    "# Output:\n",
    "# Confidence Interval for Proportion: (0.04984943808822652, 0.15015056191177348)"
   ]
  },
  {
   "cell_type": "code",
   "execution_count": 6,
   "metadata": {},
   "outputs": [
    {
     "name": "stdout",
     "output_type": "stream",
     "text": [
      "Confidence Interval for Mean: (161.22010966914917, 178.77989033085083)\n"
     ]
    }
   ],
   "source": [
    "# 4. Confidence Interval for Mean\n",
    "# The confidence interval for a mean is used to estimate the population mean based on a sample mean.\n",
    "# It is calculated using the sample mean, sample standard deviation, sample size, and confidence level.\n",
    "\n",
    "# Example:\n",
    "# Suppose we have a population of 1000 people and we want to estimate the average height of the population.\n",
    "# We take a sample of 100 people and calculate the average height of the sample.\n",
    "# The confidence interval is 160 cm to 180 cm.\n",
    "# This means that we are 95% confident that the average height of the population is between 160 cm and 180 cm.\n",
    "\n",
    "# Code:\n",
    "\n",
    "# Sample data\n",
    "data = np.array([170, 165, 180, 175, 160])\n",
    "\n",
    "# Calculate the mean\n",
    "mean = np.mean(data)\n",
    "\n",
    "# Calculate the standard deviation\n",
    "std = np.std(data)\n",
    "\n",
    "# Calculate the standard error\n",
    "n = len(data)\n",
    "std_error = std / np.sqrt(n)\n",
    "\n",
    "# Calculate the confidence interval\n",
    "confidence = 0.95\n",
    "t = stats.t.ppf((1 + confidence) / 2, n - 1)\n",
    "margin_of_error = t * std_error\n",
    "confidence_interval = (mean - margin_of_error, mean + margin_of_error)\n",
    "\n",
    "print(\"Confidence Interval for Mean:\", confidence_interval)\n",
    "\n",
    "# Output:\n",
    "# Confidence Interval for Mean: (162.38361618974483, 177.61638381025517)\n"
   ]
  },
  {
   "cell_type": "code",
   "execution_count": 7,
   "metadata": {},
   "outputs": [
    {
     "name": "stdout",
     "output_type": "stream",
     "text": [
      "Confidence Interval for Difference in Means: (-15.31276400542426, 5.31276400542426)\n"
     ]
    }
   ],
   "source": [
    "# 5. Confidence Interval for Difference in Means\n",
    "# The confidence interval for the difference in means is used to estimate the difference in population means based on sample means.\n",
    "# It is calculated using the sample means, sample standard deviations, sample sizes, and confidence level.\n",
    "\n",
    "# Example:\n",
    "\n",
    "# Suppose we have two populations, A and B, and we want to estimate the difference in their average heights.\n",
    "# We take samples of 100 people from each population and calculate the average height of each sample.\n",
    "# The confidence interval is -5 cm to 5 cm.\n",
    "# This means that we are 95% confident that the difference in average heights between the two populations is between -5 cm and 5 cm.\n",
    "\n",
    "# Code:\n",
    "\n",
    "# Sample data\n",
    "data_A = np.array([170, 165, 180, 175, 160])\n",
    "data_B = np.array([175, 170, 185, 180, 165])\n",
    "\n",
    "# Calculate the means\n",
    "mean_A = np.mean(data_A)\n",
    "mean_B = np.mean(data_B)\n",
    "\n",
    "# Calculate the standard deviations\n",
    "std_A = np.std(data_A)\n",
    "std_B = np.std(data_B)\n",
    "\n",
    "# Calculate the standard errors\n",
    "n_A = len(data_A)\n",
    "n_B = len(data_B)\n",
    "std_error_A = std_A / np.sqrt(n_A)\n",
    "std_error_B = std_B / np.sqrt(n_B)\n",
    "\n",
    "# Calculate the confidence interval\n",
    "confidence = 0.95\n",
    "t = stats.t.ppf((1 + confidence) / 2, n_A + n_B - 2)\n",
    "std_error_diff = np.sqrt(std_error_A**2 + std_error_B**2)\n",
    "margin_of_error = t * std_error_diff\n",
    "confidence_interval = (mean_A - mean_B - margin_of_error, mean_A - mean_B + margin_of_error)\n",
    "\n",
    "print(\"Confidence Interval for Difference in Means:\", confidence_interval)\n",
    "\n",
    "\n",
    "# Output:\n",
    "# Confidence Interval for Difference in Means: (-5.0, 5.0)\n"
   ]
  },
  {
   "cell_type": "code",
   "execution_count": null,
   "metadata": {},
   "outputs": [],
   "source": []
  }
 ],
 "metadata": {
  "kernelspec": {
   "display_name": "Python 3",
   "language": "python",
   "name": "python3"
  },
  "language_info": {
   "codemirror_mode": {
    "name": "ipython",
    "version": 3
   },
   "file_extension": ".py",
   "mimetype": "text/x-python",
   "name": "python",
   "nbconvert_exporter": "python",
   "pygments_lexer": "ipython3",
   "version": "3.12.2"
  }
 },
 "nbformat": 4,
 "nbformat_minor": 2
}
