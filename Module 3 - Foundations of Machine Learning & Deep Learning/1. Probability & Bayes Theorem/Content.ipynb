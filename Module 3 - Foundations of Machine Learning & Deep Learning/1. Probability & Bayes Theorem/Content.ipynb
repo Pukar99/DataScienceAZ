{
 "cells": [
  {
   "cell_type": "markdown",
   "metadata": {},
   "source": [
    "# Probability \n",
    "\n",
    "# Terminology"
   ]
  },
  {
   "cell_type": "markdown",
   "metadata": {},
   "source": [
    "# 1.Random experiment\n",
    " An experiment is called random experiment if it saftifies the following two conditions:\n",
    "1. It has more than one possible outcome\n",
    "2. We cannot predict with certainty the outcome of the experiment\n"
   ]
  },
  {
   "cell_type": "code",
   "execution_count": 1,
   "metadata": {},
   "outputs": [],
   "source": [
    "# 2. Trial \n",
    "# - Trial refer to the single execution of a random experiment . Each trial prodcues an outcome.\n"
   ]
  },
  {
   "cell_type": "code",
   "execution_count": 2,
   "metadata": {},
   "outputs": [],
   "source": [
    "# 3. Outcome\n",
    "# - Outcome refer to a single possible result of a trial."
   ]
  },
  {
   "cell_type": "code",
   "execution_count": 3,
   "metadata": {},
   "outputs": [],
   "source": [
    "# 4. Sample Space\n",
    "# - Sample space of a random experiment is the set of all possible outcomes of that experiment.\n",
    "# - Generally one random experiment will have one set of sample space.\n",
    "# - Eg. Sample space of a coin toss is {H, T} where H is head and T is tail.\n"
   ]
  },
  {
   "cell_type": "code",
   "execution_count": 4,
   "metadata": {},
   "outputs": [],
   "source": [
    "# 5. Event\n",
    "# - Event is a specifc set of outcomes from a randome experiment or process. Essentially its a subset of the sample space.\n",
    "# - One random experiment can have multiple events.\n"
   ]
  },
  {
   "cell_type": "code",
   "execution_count": null,
   "metadata": {},
   "outputs": [],
   "source": []
  }
 ],
 "metadata": {
  "kernelspec": {
   "display_name": "Python 3",
   "language": "python",
   "name": "python3"
  },
  "language_info": {
   "codemirror_mode": {
    "name": "ipython",
    "version": 3
   },
   "file_extension": ".py",
   "mimetype": "text/x-python",
   "name": "python",
   "nbconvert_exporter": "python",
   "pygments_lexer": "ipython3",
   "version": "3.12.2"
  }
 },
 "nbformat": 4,
 "nbformat_minor": 2
}
