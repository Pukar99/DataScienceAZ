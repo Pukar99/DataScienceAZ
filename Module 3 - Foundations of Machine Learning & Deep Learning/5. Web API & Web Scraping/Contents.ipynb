{
 "cells": [
  {
   "cell_type": "code",
   "execution_count": null,
   "metadata": {},
   "outputs": [],
   "source": [
    "# Web API and Web Scraping with Python for data science\n",
    "# https://www.datacamp.com/courses/web-scraping-with-python\n",
    "\n",
    "# Contents:\n",
    "# 1. Introduction to APIs and JSONs\n",
    "# 2. Loading and exploring a JSON\n",
    "# 3. APIs and interacting with the world wide web\n",
    "# 4. API Authentication\n",
    "# 5. Diving deep into the Twitter API\n",
    "# 6. The Yelp API\n",
    "# 7. Project: What's in a name?\n",
    "\n"
   ]
  },
  {
   "cell_type": "code",
   "execution_count": 1,
   "metadata": {},
   "outputs": [
    {
     "name": "stdout",
     "output_type": "stream",
     "text": [
      "[{'ID': 1, 'Name': 'Alice Johnson', 'Age': 28, 'Department': 'HR'}, {'ID': 2, 'Name': 'Bob Smith', 'Age': 25, 'Department': 'Marketing'}, {'ID': 3, 'Name': 'Charlie Brown', 'Age': 30, 'Department': 'Sales'}, {'ID': 4, 'Name': 'David Wilson', 'Age': 34, 'Department': 'IT'}, {'ID': 5, 'Name': 'Eva Parker', 'Age': 29, 'Department': 'Operations'}]\n",
      "<class 'list'>\n"
     ]
    }
   ],
   "source": [
    "# 1. Introduction to APIs and JSONs\n",
    "# API: Application Programming Interface\n",
    "# JSON: JavaScript Object Notation\n",
    "# JSONs consist of key-value pairs\n",
    "# JSONs are human readable\n",
    "# JSONs are easy to parse and generate\n",
    "# JSONs are language independent\n",
    "\n",
    "# Loading a JSON in Python\n",
    "import json\n",
    "with open('data.json') as json_file:\n",
    "    json_data = json.load(json_file)\n",
    "print(json_data)\n",
    "print(type(json_data))\n",
    "\n"
   ]
  },
  {
   "cell_type": "code",
   "execution_count": 1,
   "metadata": {},
   "outputs": [],
   "source": [
    "# 2. Loading and exploring a JSON\n",
    "# Exploring JSONs\n",
    "# JSONs are dictionaries\n",
    "# JSONs are lists of dictionaries\n",
    "# JSONs are dictionaries of dictionaries\n",
    "# JSONs are dictionaries of lists of dictionaries\n",
    "\n",
    "# # Exploring JSONs\n",
    "# for key in json_data.keys():\n",
    "#     print(key + ': ', json_data[key])\n",
    "    \n",
    "# for key in json_data['people'][0].keys():\n",
    "#     print(key + ': ', json_data['people'][0][key])"
   ]
  },
  {
   "cell_type": "code",
   "execution_count": 2,
   "metadata": {},
   "outputs": [],
   "source": [
    "# 3. APIs and interacting with the world wide web\n",
    "# API: set of protocols and tools for building software applications\n",
    "# REST: Representational State Transfer\n",
    "# RESTful APIs: APIs that adhere to the REST architectural constraints\n",
    "# GET requests: requests data from a specified resource\n",
    "# POST requests: submits data to be processed to a specified resource\n",
    "# API endpoints: URLs that are the access points for the API\n",
    "# API parameters: key-value pairs sent with the URL\n",
    "# API authentication: APIs require authentication to verify access\n",
    "# API status codes: codes returned by the server to indicate the status of the request\n",
    "# API rate limits: limits to the number of requests that can be made in a certain amount of time\n",
    "\n"
   ]
  },
  {
   "cell_type": "code",
   "execution_count": null,
   "metadata": {},
   "outputs": [],
   "source": [
    "# 4. API Authentication\n",
    "# API Authentication\n",
    "# API key: a unique identifier passed to the API\n",
    "# OAuth: open standard for token-based authentication\n",
    "# Twitter API: requires authentication using OAuth\n",
    "# Creating a Twitter App\n",
    "# 1. Go to https://apps.twitter.com/\n",
    "# 2. Click on 'Create New App'\n",
    "# 3. Fill out the form and click on 'Create your Twitter application'\n",
    "# 4. Go to the 'Keys and Access Tokens' tab\n",
    "# 5. Copy the 'Consumer Key (API Key\n",
    "# 6. Copy the 'Consumer Secret (API Secret)\n",
    "# 7. Click on 'Create my access token'\n",
    "# 8. Copy the 'Access Token' and 'Access\n",
    "# 9. Copy the 'Access Token Secret'\n",
    "\n",
    "# 5. Diving deep into the Twitter API\n",
    "# The Twitter API\n",
    "# RESTful API\n",
    "# Access Twitter data\n",
    "# Twitter has a number of APIs\n",
    "# The Twitter API requires authentication\n",
    "# tweepy: Python library for accessing the Twitter API\n",
    "# Install tweepy: pip install tweepy\n",
    "\n",
    "# Import package\n",
    "\n",
    "\n"
   ]
  }
 ],
 "metadata": {
  "kernelspec": {
   "display_name": "Python 3",
   "language": "python",
   "name": "python3"
  },
  "language_info": {
   "codemirror_mode": {
    "name": "ipython",
    "version": 3
   },
   "file_extension": ".py",
   "mimetype": "text/x-python",
   "name": "python",
   "nbconvert_exporter": "python",
   "pygments_lexer": "ipython3",
   "version": "3.12.2"
  }
 },
 "nbformat": 4,
 "nbformat_minor": 2
}
