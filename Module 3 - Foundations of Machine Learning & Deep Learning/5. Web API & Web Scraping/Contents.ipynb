{
 "cells": [
  {
   "cell_type": "code",
   "execution_count": null,
   "metadata": {},
   "outputs": [],
   "source": [
    "# Web API and Web Scraping with Python for data science\n",
    "# https://www.datacamp.com/courses/web-scraping-with-python\n",
    "\n",
    "# Contents:\n",
    "# 1. Introduction to APIs and JSONs\n",
    "# 2. Loading and exploring a JSON\n",
    "# 3. APIs and interacting with the world wide web\n",
    "# 4. API Authentication\n",
    "# 5. Diving deep into the Twitter API\n",
    "# 6. The Yelp API\n",
    "# 7. Project: What's in a name?\n",
    "\n"
   ]
  },
  {
   "cell_type": "code",
   "execution_count": 1,
   "metadata": {},
   "outputs": [
    {
     "name": "stdout",
     "output_type": "stream",
     "text": [
      "[{'ID': 1, 'Name': 'Alice Johnson', 'Age': 28, 'Department': 'HR'}, {'ID': 2, 'Name': 'Bob Smith', 'Age': 25, 'Department': 'Marketing'}, {'ID': 3, 'Name': 'Charlie Brown', 'Age': 30, 'Department': 'Sales'}, {'ID': 4, 'Name': 'David Wilson', 'Age': 34, 'Department': 'IT'}, {'ID': 5, 'Name': 'Eva Parker', 'Age': 29, 'Department': 'Operations'}]\n",
      "<class 'list'>\n"
     ]
    }
   ],
   "source": [
    "# 1. Introduction to APIs and JSONs\n",
    "# API: Application Programming Interface\n",
    "# JSON: JavaScript Object Notation\n",
    "# JSONs consist of key-value pairs\n",
    "# JSONs are human readable\n",
    "# JSONs are easy to parse and generate\n",
    "# JSONs are language independent\n",
    "\n",
    "# Loading a JSON in Python\n",
    "import json\n",
    "with open('data.json') as json_file:\n",
    "    json_data = json.load(json_file)\n",
    "print(json_data)\n",
    "print(type(json_data))\n",
    "\n"
   ]
  },
  {
   "cell_type": "code",
   "execution_count": 2,
   "metadata": {},
   "outputs": [
    {
     "ename": "AttributeError",
     "evalue": "'list' object has no attribute 'keys'",
     "output_type": "error",
     "traceback": [
      "\u001b[1;31m---------------------------------------------------------------------------\u001b[0m",
      "\u001b[1;31mAttributeError\u001b[0m                            Traceback (most recent call last)",
      "Cell \u001b[1;32mIn[2], line 14\u001b[0m\n\u001b[0;32m     10\u001b[0m     json_data \u001b[38;5;241m=\u001b[39m json\u001b[38;5;241m.\u001b[39mload(json_file)\n\u001b[0;32m     13\u001b[0m \u001b[38;5;66;03m# Exploring JSONs\u001b[39;00m\n\u001b[1;32m---> 14\u001b[0m \u001b[38;5;28;01mfor\u001b[39;00m key \u001b[38;5;129;01min\u001b[39;00m \u001b[43mjson_data\u001b[49m\u001b[38;5;241;43m.\u001b[39;49m\u001b[43mkeys\u001b[49m():\n\u001b[0;32m     15\u001b[0m     \u001b[38;5;28mprint\u001b[39m(key \u001b[38;5;241m+\u001b[39m \u001b[38;5;124m'\u001b[39m\u001b[38;5;124m: \u001b[39m\u001b[38;5;124m'\u001b[39m, json_data[key])\n\u001b[0;32m     17\u001b[0m \u001b[38;5;28;01mfor\u001b[39;00m key \u001b[38;5;129;01min\u001b[39;00m json_data[\u001b[38;5;124m'\u001b[39m\u001b[38;5;124mpeople\u001b[39m\u001b[38;5;124m'\u001b[39m][\u001b[38;5;241m0\u001b[39m]\u001b[38;5;241m.\u001b[39mkeys():\n",
      "\u001b[1;31mAttributeError\u001b[0m: 'list' object has no attribute 'keys'"
     ]
    },
    {
     "ename": "",
     "evalue": "",
     "output_type": "error",
     "traceback": [
      "\u001b[1;31mThe Kernel crashed while executing code in the current cell or a previous cell. \n",
      "\u001b[1;31mPlease review the code in the cell(s) to identify a possible cause of the failure. \n",
      "\u001b[1;31mClick <a href='https://aka.ms/vscodeJupyterKernelCrash'>here</a> for more info. \n",
      "\u001b[1;31mView Jupyter <a href='command:jupyter.viewOutput'>log</a> for further details."
     ]
    }
   ],
   "source": [
    "# 2. Loading and exploring a JSON\n",
    "# Exploring JSONs\n",
    "# JSONs are dictionaries\n",
    "# JSONs are lists of dictionaries\n",
    "# JSONs are dictionaries of dictionaries\n",
    "# JSONs are dictionaries of lists of dictionaries\n",
    "\n",
    "# Exploring JSONs\n",
    "for key in json_data.keys():\n",
    "    print(key + ': ', json_data[key])\n",
    "    \n",
    "for key in json_data['people'][0].keys():\n",
    "    print(key + ': ', json_data['people'][0][key])"
   ]
  },
  {
   "cell_type": "code",
   "execution_count": null,
   "metadata": {},
   "outputs": [],
   "source": []
  }
 ],
 "metadata": {
  "kernelspec": {
   "display_name": "Python 3",
   "language": "python",
   "name": "python3"
  },
  "language_info": {
   "codemirror_mode": {
    "name": "ipython",
    "version": 3
   },
   "file_extension": ".py",
   "mimetype": "text/x-python",
   "name": "python",
   "nbconvert_exporter": "python",
   "pygments_lexer": "ipython3",
   "version": "3.12.2"
  }
 },
 "nbformat": 4,
 "nbformat_minor": 2
}
