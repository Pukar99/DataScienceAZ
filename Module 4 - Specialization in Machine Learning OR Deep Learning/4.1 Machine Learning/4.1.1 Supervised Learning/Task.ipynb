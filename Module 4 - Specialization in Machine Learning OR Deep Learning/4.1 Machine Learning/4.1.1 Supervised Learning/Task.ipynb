{
 "cells": [
  {
   "cell_type": "code",
   "execution_count": 1,
   "metadata": {},
   "outputs": [],
   "source": [
    "#- Task: Implement Maximum Likelihood Estimation (MLE) and Maximum A Posteriori (MAP) estimation for a given dataset. Calculate confidence intervals for model parameters.\n",
    "#  - Deliverable: Python script or Jupyter Notebook demonstrating MLE, MAP, and confidence interval calculations.\n"
   ]
  },
  {
   "cell_type": "code",
   "execution_count": 2,
   "metadata": {},
   "outputs": [],
   "source": [
    "# Importing required libraries\n",
    "import numpy as np\n",
    "import pandas as pd\n",
    "import matplotlib.pyplot as plt\n",
    "from scipy.stats import norm\n",
    "from scipy.optimize import minimize\n",
    "from scipy.optimize import minimize_scalar\n"
   ]
  },
  {
   "cell_type": "code",
   "execution_count": 3,
   "metadata": {},
   "outputs": [],
   "source": [
    "# Function to calculate the log likelihood\n",
    "def log_likelihood(theta, x):\n",
    "    return -np.sum(np.log(norm.pdf(x, theta[0], theta[1])))\n"
   ]
  },
  {
   "cell_type": "code",
   "execution_count": 4,
   "metadata": {},
   "outputs": [],
   "source": [
    "# Function to calculate the log prior\n",
    "def log_prior(theta):\n",
    "    return -np.log(theta[1])\n"
   ]
  },
  {
   "cell_type": "code",
   "execution_count": 5,
   "metadata": {},
   "outputs": [],
   "source": [
    "# Function to calculate the log posterior\n",
    "def log_posterior(theta, x):\n",
    "    return log_prior(theta) + log_likelihood(theta, x)\n"
   ]
  },
  {
   "cell_type": "code",
   "execution_count": 6,
   "metadata": {},
   "outputs": [],
   "source": [
    "# Function to calculate the maximum likelihood estimate\n",
    "def MLE(x):\n",
    "    return minimize(log_likelihood, [0, 1], args=(x,))\n"
   ]
  },
  {
   "cell_type": "code",
   "execution_count": 7,
   "metadata": {},
   "outputs": [],
   "source": [
    "# Function to calculate the maximum a posteriori estimate\n",
    "def MAP(x):\n",
    "    return minimize(log_posterior, [0, 1], args=(x,))"
   ]
  },
  {
   "cell_type": "code",
   "execution_count": 8,
   "metadata": {},
   "outputs": [],
   "source": [
    "# Function to calculate the confidence interval\n",
    "def confidence_interval(theta, x):\n",
    "    hessian = np.zeros((2, 2))\n",
    "    hessian[0, 0] = np.sum(1 / theta[1]**2)\n",
    "    hessian[1, 1] = np.sum((x - theta[0])**2 / theta[1]**4)\n",
    "    hessian[0, 1] = np.sum((x - theta[0]) / theta[1]**3)\n",
    "    hessian[1, 0] = hessian[0, 1]\n",
    "    covariance = np.linalg.inv(hessian)\n",
    "    return np.sqrt(np.diag(covariance))"
   ]
  },
  {
   "cell_type": "code",
   "execution_count": null,
   "metadata": {},
   "outputs": [],
   "source": [
    "# Load the dataset\n",
    "data = pd.read_csv('data.csv')\n",
    "x = data['x'].values\n"
   ]
  }
 ],
 "metadata": {
  "kernelspec": {
   "display_name": "Python 3",
   "language": "python",
   "name": "python3"
  },
  "language_info": {
   "codemirror_mode": {
    "name": "ipython",
    "version": 3
   },
   "file_extension": ".py",
   "mimetype": "text/x-python",
   "name": "python",
   "nbconvert_exporter": "python",
   "pygments_lexer": "ipython3",
   "version": "3.12.2"
  }
 },
 "nbformat": 4,
 "nbformat_minor": 2
}
