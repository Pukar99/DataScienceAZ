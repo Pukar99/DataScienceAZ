{
 "cells": [
  {
   "cell_type": "code",
   "execution_count": null,
   "metadata": {},
   "outputs": [],
   "source": [
    "# This is the day 2 of Learning Python:\n",
    "# The Question are :\n",
    "# 1. Write a Python program to find the second largest number in a list.\n",
    "# 2. Write a Python program to find the second smallest number in a list.\n",
    "# 3. Write a Python program to get the frequency of the elements in a list.\n",
    "# 4. Write a Python program to check whether a list contains a sublist.\n",
    "# 5. Write a Python program to generate all sublists of a list.\n",
    "# 6. Write a Python program to find common items from two lists.\n",
    "# 7. Write a Python program to split a list based on first character of word.\n",
    "# 8. Write a Python program to create a list by concatenating a given list which range goes from 1 to n.\n",
    "# 9. Write a Python program to get variable unique identification number or string.\n",
    "# 10. Write a Python program to get the n copies of the first n elements of a given list."
   ]
  },
  {
   "cell_type": "code",
   "execution_count": 9,
   "metadata": {},
   "outputs": [
    {
     "name": "stdout",
     "output_type": "stream",
     "text": [
      "9\n"
     ]
    }
   ],
   "source": [
    "# 1. Write a Python program to find the second largest number in a list.\n",
    "def second_largest_number_in_list(list):\n",
    "    list.sort()\n",
    "    return list[-2]\n",
    "print(second_largest_number_in_list([1, 2, 3, 4, 5, 6, 7, 8, 9, 10]))"
   ]
  },
  {
   "cell_type": "code",
   "execution_count": 10,
   "metadata": {},
   "outputs": [
    {
     "name": "stdout",
     "output_type": "stream",
     "text": [
      "{1: 2, 2: 2, 3: 2, 4: 2, 5: 2, 6: 1, 7: 1, 8: 1, 9: 1, 10: 1}\n"
     ]
    }
   ],
   "source": [
    "# 3. Write a Python program to get the frequency of the elements in a list.\n",
    "def frequency_of_elements_in_list(list):\n",
    "    dict = {}\n",
    "    for i in list:\n",
    "        if i in dict:\n",
    "            dict[i] += 1\n",
    "        else:\n",
    "            dict[i] = 1\n",
    "    return dict\n",
    "print(frequency_of_elements_in_list([1, 2, 3, 4, 5, 6, 7, 8, 9, 10, 1, 2, 3, 4, 5]))"
   ]
  },
  {
   "cell_type": "code",
   "execution_count": 11,
   "metadata": {},
   "outputs": [
    {
     "name": "stdout",
     "output_type": "stream",
     "text": [
      "True\n"
     ]
    }
   ],
   "source": [
    "# 4. Write a Python program to check whether a list contains a sublist.\n",
    "def check_sublist_in_list(list, sublist):\n",
    "    if set(sublist).issubset(set(list)):\n",
    "        return True\n",
    "    else:\n",
    "        return False\n",
    "print(check_sublist_in_list([1, 2, 3, 4, 5, 6, 7, 8, 9, 10], [1, 2, 3, 4, 5]))"
   ]
  },
  {
   "cell_type": "code",
   "execution_count": 14,
   "metadata": {},
   "outputs": [
    {
     "name": "stdout",
     "output_type": "stream",
     "text": [
      "{10}\n",
      "True\n"
     ]
    }
   ],
   "source": [
    "#WAP to find the common items from two lists and return the common item\n",
    "def common_items_from_two_lists(list1, list2):\n",
    "    return set(list1).intersection(set(list2))\n",
    "print(common_items_from_two_lists([1, 2, 3, 4, 5, 6, 7, 8, 9, 10], [10, 12, 13, 14, 15, 16, 17, 18, 19, 20]))\n",
    "def common(list1,list2):\n",
    "    if set(list1).intersection(set(list2)):\n",
    "        return True\n",
    "    else:\n",
    "        return False\n",
    "print(common([1, 2, 3, 4, 5, 6, 7, 8, 9, 10], [10, 12, 13, 14, 15, 16, 17, 18, 19, 20]))"
   ]
  },
  {
   "cell_type": "code",
   "execution_count": 5,
   "metadata": {},
   "outputs": [
    {
     "name": "stdout",
     "output_type": "stream",
     "text": [
      "{'a': ['apple'], 'b': ['banana'], 'c': ['cherry'], 'd': ['date'], 'f': ['fig'], 'g': ['grape'], 'k': ['kiwi'], 'l': ['lemon'], 'm': ['mango'], 'o': ['orange'], 'p': ['papaya'], 'q': ['quince'], 'r': ['raspberry'], 's': ['strawberry'], 't': ['tangerine'], 'w': ['watermelon']}\n"
     ]
    }
   ],
   "source": [
    "# 7. Write a Python program to split a list based on first character of word.Write the code very clear explaining each steps:\n",
    "def split_list_based_on_first_character_of_word(list):\n",
    "    dict = {}\n",
    "    for i in list:\n",
    "        if i[0] in dict:\n",
    "            dict[i[0]].append(i)\n",
    "        else:\n",
    "            dict[i[0]] = [i]\n",
    "    return dict\n",
    "\n",
    "print(split_list_based_on_first_character_of_word(['apple', 'banana', 'cherry', 'date', 'fig', 'grape', 'kiwi', 'lemon', 'mango', 'orange', 'papaya', 'quince', 'raspberry', 'strawberry', 'tangerine', 'watermelon']))\n"
   ]
  },
  {
   "cell_type": "code",
   "execution_count": 6,
   "metadata": {},
   "outputs": [
    {
     "name": "stdout",
     "output_type": "stream",
     "text": [
      "[1, 2, 3, 4, 5, 1, 2, 3, 4, 5, 1, 2, 3, 4, 5]\n"
     ]
    }
   ],
   "source": [
    "# 8. Write a Python program to create a list by concatenating a given list which range goes from 1 to n.\n",
    "def create_list_by_concatenating_given_list(list, n):\n",
    "    return list * n\n",
    "print(create_list_by_concatenating_given_list([1, 2, 3, 4, 5], 3))\n"
   ]
  },
  {
   "cell_type": "code",
   "execution_count": 7,
   "metadata": {},
   "outputs": [
    {
     "name": "stdout",
     "output_type": "stream",
     "text": [
      "7ffa546ea618\n",
      "140713135089176\n"
     ]
    }
   ],
   "source": [
    "# 9. Write a Python program to get variable unique identification number or string.\n",
    "x = 100 # x is a variable\n",
    "print(format(id(x), 'x')) # id() function returns the identity of the object. and 'x' gives the hexadecimal value of the identity. It is the memory address of the object.\n",
    "print(format(id(x), 'd')) # id() function returns the identity of the object. and 'd' gives the decimal value of the identity.\n"
   ]
  },
  {
   "cell_type": "code",
   "execution_count": 8,
   "metadata": {},
   "outputs": [
    {
     "name": "stdout",
     "output_type": "stream",
     "text": [
      "[1, 2, 3, 1, 2, 3, 1, 2, 3]\n"
     ]
    }
   ],
   "source": [
    "# 10. Write a Python program to get the n copies of the first n elements of a given list.\n",
    "\n",
    "def n_copies_of_first_n_elements_of_list(list, n):\n",
    "    return list[:n] * n\n",
    "\n",
    "print(n_copies_of_first_n_elements_of_list([1, 2, 3, 4, 5], 3))"
   ]
  },
  {
   "cell_type": "code",
   "execution_count": null,
   "metadata": {},
   "outputs": [],
   "source": [
    "#"
   ]
  }
 ],
 "metadata": {
  "kernelspec": {
   "display_name": "Python 3",
   "language": "python",
   "name": "python3"
  },
  "language_info": {
   "codemirror_mode": {
    "name": "ipython",
    "version": 3
   },
   "file_extension": ".py",
   "mimetype": "text/x-python",
   "name": "python",
   "nbconvert_exporter": "python",
   "pygments_lexer": "ipython3",
   "version": "3.12.2"
  }
 },
 "nbformat": 4,
 "nbformat_minor": 2
}
