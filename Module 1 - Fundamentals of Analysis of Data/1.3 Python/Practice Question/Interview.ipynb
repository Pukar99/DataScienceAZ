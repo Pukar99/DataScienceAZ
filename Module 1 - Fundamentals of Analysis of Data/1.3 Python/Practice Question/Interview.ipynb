{
 "cells": [
  {
   "cell_type": "code",
   "execution_count": 2,
   "metadata": {},
   "outputs": [
    {
     "name": "stdout",
     "output_type": "stream",
     "text": [
      "Before swapping: a = 5 b = 10\n",
      "After swapping: a = 10 b = 5\n"
     ]
    }
   ],
   "source": [
    "# Swaping two numbers without using a temporary variable in Python\n",
    "\n",
    "a = 5\n",
    "b = 10\n",
    "\n",
    "print(\"Before swapping: a =\", a, \"b =\", b)\n",
    "\n",
    "a = a + b\n",
    "b = a - b\n",
    "a = a - b\n",
    "\n",
    "print(\"After swapping: a =\", a, \"b =\", b)"
   ]
  },
  {
   "cell_type": "code",
   "execution_count": 3,
   "metadata": {},
   "outputs": [
    {
     "name": "stdout",
     "output_type": "stream",
     "text": [
      "Before swapping: a = 5 b = 10\n",
      "After swapping: a = 10.0 b = 5.0\n"
     ]
    }
   ],
   "source": [
    "# Swapint two numbers without adding or subtracting\n",
    "\n",
    "a = 5\n",
    "b = 10\n",
    "\n",
    "print(\"Before swapping: a =\", a, \"b =\", b)\n",
    "\n",
    "a = a * b\n",
    "b = a / b\n",
    "a = a / b\n",
    "\n",
    "print(\"After swapping: a =\", a, \"b =\", b)\n",
    "\n"
   ]
  },
  {
   "cell_type": "code",
   "execution_count": 4,
   "metadata": {},
   "outputs": [
    {
     "name": "stdout",
     "output_type": "stream",
     "text": [
      "Before swapping: a = 5 b = 10\n",
      "After swapping: a = 10 b = 5\n",
      "Before swapping: a = 5 b = 10\n",
      "After swapping: a = 10 b = 5\n",
      "Before swapping: a = 5 b = 10\n",
      "After swapping: a = 10 b = 5\n"
     ]
    }
   ],
   "source": [
    "# Swaping two numbers without arthimetic operators\n",
    "\n",
    "a = 5\n",
    "b = 10\n",
    "\n",
    "print(\"Before swapping: a =\", a, \"b =\", b)\n",
    "\n",
    "a = a ^ b\n",
    "b = a ^ b\n",
    "a = a ^ b\n",
    "\n",
    "print(\"After swapping: a =\", a, \"b =\", b)\n",
    "\n",
    "# Swaping two numbers using tuple unpacking\n",
    "\n",
    "a = 5\n",
    "b = 10\n",
    "\n",
    "print(\"Before swapping: a =\", a, \"b =\", b)\n",
    "\n",
    "a, b = b, a\n",
    "\n",
    "print(\"After swapping: a =\", a, \"b =\", b)\n",
    "\n",
    "# Swaping two numbers using multiple assignment\n",
    "\n",
    "a = 5\n",
    "b = 10\n",
    "\n",
    "print(\"Before swapping: a =\", a, \"b =\", b)\n",
    "\n",
    "a = a + b\n",
    "b = a - b\n",
    "a = a - b\n",
    "\n",
    "print(\"After swapping: a =\", a, \"b =\", b)"
   ]
  },
  {
   "cell_type": "code",
   "execution_count": 5,
   "metadata": {},
   "outputs": [
    {
     "name": "stdout",
     "output_type": "stream",
     "text": [
      "Before reversing: Hello, World!\n",
      "After reversing: !dlroW ,olleH\n",
      "Before reversing: Hello, World!\n",
      "After reversing: !dlroW ,olleH\n"
     ]
    }
   ],
   "source": [
    "# Reversing a string \n",
    "\n",
    "string = \"Hello, World!\"\n",
    "print(\"Before reversing:\", string)\n",
    "\n",
    "string = string[::-1]\n",
    "print(\"After reversing:\", string)\n",
    "\n",
    "# Reversing a string using loop\n",
    "\n",
    "string = \"Hello, World!\"\n",
    "print(\"Before reversing:\", string)\n",
    "\n",
    "reversed_string = \"\"\n",
    "for char in string:\n",
    "    reversed_string = char + reversed_string    \n",
    "print(\"After reversing:\", reversed_string)\n"
   ]
  },
  {
   "cell_type": "code",
   "execution_count": null,
   "metadata": {},
   "outputs": [],
   "source": []
  }
 ],
 "metadata": {
  "kernelspec": {
   "display_name": "Python 3",
   "language": "python",
   "name": "python3"
  },
  "language_info": {
   "codemirror_mode": {
    "name": "ipython",
    "version": 3
   },
   "file_extension": ".py",
   "mimetype": "text/x-python",
   "name": "python",
   "nbconvert_exporter": "python",
   "pygments_lexer": "ipython3",
   "version": "3.12.2"
  }
 },
 "nbformat": 4,
 "nbformat_minor": 2
}
