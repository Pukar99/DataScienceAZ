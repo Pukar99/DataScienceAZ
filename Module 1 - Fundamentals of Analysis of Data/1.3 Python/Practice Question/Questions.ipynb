{
 "cells": [
  {
   "cell_type": "code",
   "execution_count": 3,
   "metadata": {},
   "outputs": [],
   "source": [
    "# Day 3 Python Practice Questions:\n",
    "# Practice Python Exercise:\n",
    "\n",
    "# Function - 2 qns\n",
    "# 1. Write a function that takes a list of numbers and returns the sum of all the numbers in the list.\n",
    "# 2. Write a function that takes a list of numbers and returns the largest number in the list.\n",
    "\n",
    "#OOPs - 2 qns\n",
    "# 1. Create a class called 'Student' with attributes name, age, and grade. Create a method that returns the student's name.\n",
    "# 2. Create a class called 'Car' with attributes make, model, and year. Create a method that returns the make, model, and year of the car.\n",
    "\n",
    "# Recursion - 2 qns\n",
    "# 1. Write a recursive function that takes an integer and computes the factorial of that integer.\n",
    "# 2. Write a recursive function that takes an integer and returns the sum of all the numbers from 0 to that integer.\n",
    "\n",
    "#DSA - 2 qns\n",
    "# 1. Write a function that takes a list of numbers and returns the largest number in the list.\n",
    "# 2. Write a function that takes a list of numbers and returns the sum of all the numbers in the list.\n",
    "\n",
    "#Pandas+Numpy - 2 qns\n",
    "# 1. Create a pandas dataframe with the following data:\n",
    "#    Name Age Grade\n",
    "#    John 12  A\n",
    "#    Jane 13  B\n",
    "#    Jack 14  C\n",
    "#    Jill 15  A\n",
    "# 2. Create a numpy array with the following data:\n",
    "#    1 2 3 4 5\n",
    "#    6 7 8 9 10\n",
    "#    11 12 13 14 15\n",
    "#    16 17 18 19 20\n",
    "#    21 22 23 24 25"
   ]
  },
  {
   "cell_type": "code",
   "execution_count": 4,
   "metadata": {},
   "outputs": [],
   "source": [
    "# Day 4 Python Practice Questions:\n",
    "# Practice Python Exercise:\n",
    "\n",
    "# Function - 2 questions\n",
    "\n",
    "# Write a function that takes a list of numbers and returns the average of all the numbers in the list.\n",
    "# Write a function that takes a list of numbers and returns a new list containing only the even numbers from the original list.\n",
    "\n",
    "# OOP - 2 questions\n",
    "# Modify the 'Student' class to include a method that returns the student's details in the format \"Name: [name], Age: [age], Grade: [grade]\".\n",
    "# Extend the 'Car' class with a method that checks if the car is more than 10 years old. If so, the method should return True; otherwise, False.\n",
    "\n",
    "# Recursion - 2 questions\n",
    "# Write a recursive function that computes the nth Fibonacci number.\n",
    "# Write a recursive function that takes a list of integers and returns the sum of all even numbers in the list.\n",
    "\n",
    "# DSA - 2 questions\n",
    "# Write a function that takes a list of strings and returns the string that appears most frequently in the list. If there are multiple strings with the same highest frequency, return any one of them.\n",
    "# Write a function that takes a list of integers and returns a tuple containing the smallest and largest numbers in the list.\n",
    "\n",
    "# Pandas+Numpy - 2 questions\n",
    "# Using the dataframe from Day 3, add a column 'Sports' with values 'Football', 'Basketball', 'Volleyball', 'Tennis', 'Hockey' respectively. Then, write a function that filters and returns names of students who play either 'Football' or 'Tennis'.\n",
    "# Create a numpy array that represents a 5x5 matrix of random numbers between 1 and 100. Write a function that returns the sum of the diagonal elements of this matrix."
   ]
  },
  {
   "cell_type": "markdown",
   "metadata": {},
   "source": [
    "prompt:this is the day three question for python daily pratice can you give me question for day 4 on the baisis of it and make little bit harder not too much that is going increase day by day:# Day 3 Python Practice Questions:"
   ]
  },
  {
   "cell_type": "markdown",
   "metadata": {},
   "source": []
  }
 ],
 "metadata": {
  "kernelspec": {
   "display_name": "Python 3",
   "language": "python",
   "name": "python3"
  },
  "language_info": {
   "codemirror_mode": {
    "name": "ipython",
    "version": 3
   },
   "file_extension": ".py",
   "mimetype": "text/x-python",
   "name": "python",
   "nbconvert_exporter": "python",
   "pygments_lexer": "ipython3",
   "version": "3.12.2"
  }
 },
 "nbformat": 4,
 "nbformat_minor": 2
}
