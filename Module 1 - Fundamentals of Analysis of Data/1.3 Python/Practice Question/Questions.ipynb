{
 "cells": [
  {
   "cell_type": "code",
   "execution_count": 3,
   "metadata": {},
   "outputs": [],
   "source": [
    "# Day 3 Python Practice Questions:\n",
    "# Practice Python Exercise:\n",
    "\n",
    "# Function - 2 qns\n",
    "# 1. Write a function that takes a list of numbers and returns the sum of all the numbers in the list.\n",
    "# 2. Write a function that takes a list of numbers and returns the largest number in the list.\n",
    "\n",
    "#OOPs - 2 qns\n",
    "# 1. Create a class called 'Student' with attributes name, age, and grade. Create a method that returns the student's name.\n",
    "# 2. Create a class called 'Car' with attributes make, model, and year. Create a method that returns the make, model, and year of the car.\n",
    "\n",
    "# Recursion - 2 qns\n",
    "# 1. Write a recursive function that takes an integer and computes the factorial of that integer.\n",
    "# 2. Write a recursive function that takes an integer and returns the sum of all the numbers from 0 to that integer.\n",
    "\n",
    "#DSA - 2 qns\n",
    "# 1. Write a function that takes a list of numbers and returns the largest number in the list.\n",
    "# 2. Write a function that takes a list of numbers and returns the sum of all the numbers in the list.\n",
    "\n",
    "#Pandas+Numpy - 2 qns\n",
    "# 1. Create a pandas dataframe with the following data:\n",
    "#    Name Age Grade\n",
    "#    John 12  A\n",
    "#    Jane 13  B\n",
    "#    Jack 14  C\n",
    "#    Jill 15  A\n",
    "# 2. Create a numpy array with the following data:\n",
    "#    1 2 3 4 5\n",
    "#    6 7 8 9 10\n",
    "#    11 12 13 14 15\n",
    "#    16 17 18 19 20\n",
    "#    21 22 23 24 25"
   ]
  },
  {
   "cell_type": "code",
   "execution_count": 4,
   "metadata": {},
   "outputs": [],
   "source": [
    "# Day 4 Python Practice Questions:\n",
    "# Practice Python Exercise:\n",
    "\n",
    "# Function - 2 questions\n",
    "\n",
    "# Write a function that takes a list of numbers and returns the average of all the numbers in the list.\n",
    "# Write a function that takes a list of numbers and returns a new list containing only the even numbers from the original list.\n",
    "\n",
    "# OOP - 2 questions\n",
    "# Modify the 'Student' class to include a method that returns the student's details in the format \"Name: [name], Age: [age], Grade: [grade]\".\n",
    "# Extend the 'Car' class with a method that checks if the car is more than 10 years old. If so, the method should return True; otherwise, False.\n",
    "\n",
    "# Recursion - 2 questions\n",
    "# Write a recursive function that computes the nth Fibonacci number.\n",
    "# Write a recursive function that takes a list of integers and returns the sum of all even numbers in the list.\n",
    "\n",
    "# DSA - 2 questions\n",
    "# Write a function that takes a list of strings and returns the string that appears most frequently in the list. If there are multiple strings with the same highest frequency, return any one of them.\n",
    "# Write a function that takes a list of integers and returns a tuple containing the smallest and largest numbers in the list.\n",
    "\n",
    "# Pandas+Numpy - 2 questions\n",
    "# Using the dataframe from Day 3, add a column 'Sports' with values 'Football', 'Basketball', 'Volleyball', 'Tennis', 'Hockey' respectively. Then, write a function that filters and returns names of students who play either 'Football' or 'Tennis'.\n",
    "# Create a numpy array that represents a 5x5 matrix of random numbers between 1 and 100. Write a function that returns the sum of the diagonal elements of this matrix."
   ]
  },
  {
   "cell_type": "markdown",
   "metadata": {},
   "source": [
    "prompt:this is the day three question for python daily pratice can you give me question for day 4 on the baisis of it and make little bit harder not too much that is going increase day by day:# Day 3 Python Practice Questions:"
   ]
  },
  {
   "cell_type": "markdown",
   "metadata": {},
   "source": []
  },
  {
   "cell_type": "code",
   "execution_count": 1,
   "metadata": {},
   "outputs": [],
   "source": [
    "# this is the day five question for python daily pratice can you give me question for day 6 on the baisis of it and make little bit harder not too much that is going increase day by day:\n",
    "\n",
    "# # Day 5 Python Practice Questions:\n",
    "# # Practice Python Exercise:\n",
    "# # Function - 2 questions\n",
    "# # Write a function that takes a list of integers and returns the smallest difference between any two numbers in the list.\n",
    "# # Write a function that takes a string and returns the most frequent character in the string. If there is a tie, return any of the most frequent characters.\n",
    "# # OOP - 2 questions\n",
    "# # Modify the 'Employee' class to include a method that increments the employee's salary by a given percentage. The method should return the new salary.\n",
    "# # Create a 'Rectangle' class with methods to calculate the area and perimeter. Include checks to ensure that the lengths and widths provided are positive numbers.\n",
    "# # Recursion - 2 questions\n",
    "# # Write a recursive function that calculates the greatest common divisor (GCD) of two numbers.\n",
    "# # Write a recursive function that reverses a string.\n",
    "# # DSA - 2 questions\n",
    "# # Write a function that takes a list of integers and sorts them using a selection sort algorithm.\n",
    "# # Implement a function to perform binary search on a sorted list of integers to find a specific value. If the value is found, return its index; otherwise, return -1.\n",
    "# # Pandas+Numpy - 2 questions\n",
    "# # Using a given DataFrame, replace all NaN values with the mean of their respective columns, then return a DataFrame that contains only columns where the mean value is greater than 50.\n",
    "# # Create a numpy array that represents a 5x5 matrix with values ranging from 1 to 25. Write a function that calculates and returns the sum of the elements above the main diagonal."
   ]
  },
  {
   "cell_type": "code",
   "execution_count": 2,
   "metadata": {},
   "outputs": [],
   "source": [
    "# this is the day six question for python daily pratice can you give me question for day 7 on the baisis of it and make little bit harder not too much that is going increase day by day:\n",
    "\n",
    "# Day 6 Python Practice Questions:\n",
    "# Practice Python Exercise:\n",
    "# Function - 2 questions\n",
    "# Write a function that takes a list of integers and returns the two numbers with the smallest difference without using any built-in sorting methods. The function should return a tuple of these two numbers.\n",
    "# Write a function that takes a string and returns the least frequent character in the string. If there is a tie, return any of the least frequent characters.\n",
    "# OOP - 2 questions\n",
    "# Enhance the 'Employee' class to include a method that calculates the annual bonus for the employee as 10% of their salary, but only if the employee has been with the company for more than 2 years. The method should return the bonus amount.\n",
    "# Create a 'Circle' class with methods to calculate the area and circumference. Include checks to ensure that the radius provided is a positive number and throw an exception if it's not.\n",
    "# Recursion - 2 questions\n",
    "# Write a recursive function that calculates the sum of all even numbers from 1 to n.\n",
    "# Write a recursive function that checks if a word is a palindrome.\n",
    "# DSA - 2 questions\n",
    "# Write a function that takes a list of integers and sorts them using the insertion sort algorithm.\n",
    "# Implement a function to perform a linear search on an unsorted list of integers to find a specific value. If the value is found, return its index; otherwise, return -1.\n",
    "# Pandas+Numpy - 2 questions\n",
    "# Using a given DataFrame, replace all NaN values with the median of their respective columns, then return a DataFrame that contains only columns where the median value is greater than 30.\n",
    "# Create a numpy array that represents a 4x4 matrix with values ranging from 16 to 1 (in descending order). Write a function that calculates and returns the sum of the elements on the main diagonal."
   ]
  },
  {
   "cell_type": "code",
   "execution_count": 1,
   "metadata": {},
   "outputs": [],
   "source": [
    "# New Question Design After Day 6:\n",
    "# Previous Designs:\n",
    "\n",
    "# 6 Python Questions: \n",
    "# Function - 2 questions\n",
    "# Recursion - 2 questions\n",
    "# OOP - 2 questions\n",
    "# DSA - 2 questions\n",
    "# Pandas+Numpy - 2 questions\n",
    "\n",
    "# New Design:\n",
    "\n",
    "# Function and Recursion - 3 questions\n",
    "# DSA - 1 question\n",
    "# OOP - 1 question\n",
    "# Pandas+Numpy Combined  - 1 question\n"
   ]
  },
  {
   "cell_type": "code",
   "execution_count": null,
   "metadata": {},
   "outputs": [],
   "source": [
    "# Day 7 Python Practice Questions:\n",
    "\n",
    "# Function and Recursion - 3 questions\n",
    "# Function: Write a function that takes two lists of integers and returns a list containing the elements that appear in both lists. Do not use any built-in set operations.\n",
    "\n",
    "# Function: Write a function that takes a string and returns a dictionary with the counts of each vowel ('a', 'e', 'i', 'o', 'u') in the string. The function should be case-insensitive.\n",
    "\n",
    "# Recursion: Write a recursive function to calculate the greatest common divisor (GCD) of two positive integers using the Euclidean algorithm.\n",
    "\n",
    "# DSA - 1 question\n",
    "# DSA: Write a function that takes a list of integers and sorts them using the merge sort algorithm. Do not use any built-in sorting functions.\n",
    "# OOP - 1 question\n",
    "# OOP: Create a 'BankAccount' class with methods to deposit, withdraw, and check the balance. Ensure that the balance cannot go negative and throw an exception if a withdrawal is attempted with insufficient funds. Include a method to transfer money between two BankAccount instances.\n",
    "# Pandas+Numpy Combined - 1 question\n",
    "# Pandas+Numpy: Using a given DataFrame, normalize each column (i.e., rescale the values to be between 0 and 1). Return a DataFrame containing only the columns where the maximum value before normalization was greater than 50.\n",
    "\n",
    "\n",
    "\n",
    "\n",
    "\n"
   ]
  }
 ],
 "metadata": {
  "kernelspec": {
   "display_name": "Python 3",
   "language": "python",
   "name": "python3"
  },
  "language_info": {
   "codemirror_mode": {
    "name": "ipython",
    "version": 3
   },
   "file_extension": ".py",
   "mimetype": "text/x-python",
   "name": "python",
   "nbconvert_exporter": "python",
   "pygments_lexer": "ipython3",
   "version": "3.12.2"
  }
 },
 "nbformat": 4,
 "nbformat_minor": 2
}
