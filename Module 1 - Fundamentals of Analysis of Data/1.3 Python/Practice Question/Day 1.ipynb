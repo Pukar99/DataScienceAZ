{
 "cells": [
  {
   "cell_type": "code",
   "execution_count": 1,
   "metadata": {},
   "outputs": [],
   "source": [
    "# In this directory i will solve Question from basic to advance level\n",
    "# This is my first week of learning python\n",
    "# 5 question each day\n",
    "# List of Question:\n",
    "# 1. Write a Python program to print the following string in a specific format (see the output).\n",
    "# 2. Write a Python program to get the Python version you are using.\n",
    "# 3. Write a Python program to display the current date and time.\n",
    "# 4. Write a Python program which accepts the radius of a circle from the user and compute the area.\n",
    "# 5. Write a Python program which accepts the user's first and last name and print them in reverse order with a space between them.\n",
    "\n"
   ]
  },
  {
   "cell_type": "code",
   "execution_count": 4,
   "metadata": {},
   "outputs": [
    {
     "name": "stdout",
     "output_type": "stream",
     "text": [
      "Hello sir I am very Happy today. Today i am going to learn python. I am very excited to learn python.\n"
     ]
    }
   ],
   "source": [
    "# Question 1\n",
    "# Write a Python program to print the following string in a specific format (see the output).\n",
    "\n",
    "def print_string():\n",
    "    print(\"Hello sir I am very Happy today. Today i am going to learn python. I am very excited to learn python.\")\n",
    "    \n",
    "print_string()"
   ]
  },
  {
   "cell_type": "code",
   "execution_count": 6,
   "metadata": {},
   "outputs": [
    {
     "name": "stdout",
     "output_type": "stream",
     "text": [
      "Python Version:  3.12.2 | packaged by Anaconda, Inc. | (main, Feb 27 2024, 17:28:07) [MSC v.1916 64 bit (AMD64)]\n",
      "<class 'NoneType'>\n"
     ]
    }
   ],
   "source": [
    "# Question 2\n",
    "# Write a Python program to get the Python version you are using.\n",
    "\n",
    "def python_version():\n",
    "    import sys\n",
    "    print(\"Python Version: \", sys.version)\n",
    "    \n",
    "print(type(python_version()))"
   ]
  },
  {
   "cell_type": "code",
   "execution_count": 11,
   "metadata": {},
   "outputs": [
    {
     "name": "stdout",
     "output_type": "stream",
     "text": [
      "Current Date and Time:  2024-05-07 14:42:19.335179\n",
      "Current Time:  14:42:19.335179\n",
      "Current Date:  2024-05-07\n"
     ]
    }
   ],
   "source": [
    "# Question 3\n",
    "# Write a Python program to display the current date and time.\n",
    "\n",
    "def date_time():\n",
    "    import datetime\n",
    "    print(\"Current Date and Time: \", datetime.datetime.now())\n",
    "    \n",
    "date_time()\n",
    "\n",
    "# only print the time \n",
    "def time():\n",
    "    import datetime\n",
    "    print(\"Current Time: \", datetime.datetime.now().time())\n",
    "    \n",
    "time()\n",
    "\n",
    "# only print the date\n",
    "def date():\n",
    "    import datetime\n",
    "    print(\"Current Date: \", datetime.datetime.now().date())\n",
    "    \n",
    "date()"
   ]
  },
  {
   "cell_type": "code",
   "execution_count": 5,
   "metadata": {},
   "outputs": [
    {
     "name": "stdout",
     "output_type": "stream",
     "text": [
      "Enter the radius of circle  5\n"
     ]
    },
    {
     "name": "stdout",
     "output_type": "stream",
     "text": [
      "The area of Circle is 31.7\n"
     ]
    }
   ],
   "source": [
    "# 4. Write a Python program which accepts the radius of a circle from the user and compute the area.\n",
    "\n",
    "def area_circle(r):\n",
    "    return 2*3.17*r\n",
    "\n",
    "r = int(input(\"Enter the radius of circle \"))\n",
    "print(f\"The area of Circle is\",area_circle(r))"
   ]
  },
  {
   "cell_type": "code",
   "execution_count": 10,
   "metadata": {},
   "outputs": [
    {
     "name": "stdout",
     "output_type": "stream",
     "text": [
      " Enter your first name and last name  Pukar Sharma\n"
     ]
    },
    {
     "data": {
      "text/plain": [
       "'amrahS rakuP'"
      ]
     },
     "execution_count": 10,
     "metadata": {},
     "output_type": "execute_result"
    }
   ],
   "source": [
    "# 5. Write a Python program which accepts the user's first and last name and print them in reverse order with a space between them.\n",
    "\n",
    "def reverse(string):\n",
    "    return string[::-1]\n",
    "\n",
    "string = input(\" Enter your first name and last name \")\n",
    "reverse(string)"
   ]
  },
  {
   "cell_type": "code",
   "execution_count": 13,
   "metadata": {},
   "outputs": [
    {
     "name": "stdout",
     "output_type": "stream",
     "text": [
      "['Pukar', 'Sharma']\n",
      "Rakup Amrahs "
     ]
    }
   ],
   "source": [
    "# In the above code the first letter of revresed word should be capital for first name and last name as well and the last letter should be small \n",
    "\n",
    "string = input(\"Enter your First name and Last name \")\n",
    "\n",
    "ls_string = string.split()\n",
    "print(ls_string)\n",
    "\n",
    "def rev(string):\n",
    "    return string[::-1]\n",
    "\n",
    "\n",
    "for i in ls_string:\n",
    "    print(rev(i).capitalize(), end = \" \")\n"
   ]
  },
  {
   "cell_type": "code",
   "execution_count": null,
   "metadata": {},
   "outputs": [],
   "source": []
  }
 ],
 "metadata": {
  "kernelspec": {
   "display_name": "Python 3 (ipykernel)",
   "language": "python",
   "name": "python3"
  },
  "language_info": {
   "codemirror_mode": {
    "name": "ipython",
    "version": 3
   },
   "file_extension": ".py",
   "mimetype": "text/x-python",
   "name": "python",
   "nbconvert_exporter": "python",
   "pygments_lexer": "ipython3",
   "version": "3.12.2"
  }
 },
 "nbformat": 4,
 "nbformat_minor": 4
}
