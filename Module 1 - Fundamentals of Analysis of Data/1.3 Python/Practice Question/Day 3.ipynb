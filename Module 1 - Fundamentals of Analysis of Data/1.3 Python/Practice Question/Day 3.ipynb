{
 "cells": [
  {
   "cell_type": "code",
   "execution_count": null,
   "metadata": {},
   "outputs": [],
   "source": [
    "# Practice Python Exercise:\n",
    "\n",
    "# Function - 2 qns\n",
    "# 1. Write a function that takes a list of numbers and returns the sum of all the numbers in the list.\n",
    "# 2. Write a function that takes a list of numbers and returns the largest number in the list.\n",
    "\n",
    "#OOPs - 2 qns\n",
    "# 1. Create a class called 'Student' with attributes name, age, and grade. Create a method that returns the student's name.\n",
    "# 2. Create a class called 'Car' with attributes make, model, and year. Create a method that returns the make, model, and year of the car.\n",
    "\n",
    "# Recursion - 2 qns\n",
    "# 1. Write a recursive function that takes an integer and computes the factorial of that integer.\n",
    "# 2. Write a recursive function that takes an integer and returns the sum of all the numbers from 0 to that integer.\n",
    "\n",
    "#DSA - 2 qns\n",
    "# 1. Write a function that takes a list of numbers and returns the largest number in the list.\n",
    "# 2. Write a function that takes a list of numbers and returns the sum of all the numbers in the list.\n",
    "\n",
    "#Pandas+Numpy - 2 qns\n",
    "# 1. Create a pandas dataframe with the following data:\n",
    "#    Name Age Grade\n",
    "#    John 12  A\n",
    "#    Jane 13  B\n",
    "#    Jack 14  C\n",
    "#    Jill 15  A\n",
    "# 2. Create a numpy array with the following data:\n",
    "#    1 2 3 4 5\n",
    "#    6 7 8 9 10\n",
    "#    11 12 13 14 15\n",
    "#    16 17 18 19 20\n",
    "#    21 22 23 24 25\n",
    "\n",
    "#\n",
    "#"
   ]
  },
  {
   "cell_type": "code",
   "execution_count": null,
   "metadata": {},
   "outputs": [],
   "source": []
  }
 ],
 "metadata": {
  "language_info": {
   "name": "python"
  }
 },
 "nbformat": 4,
 "nbformat_minor": 2
}
