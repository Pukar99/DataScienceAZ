{
 "cells": [
  {
   "cell_type": "code",
   "execution_count": null,
   "metadata": {},
   "outputs": [],
   "source": [
    "# Practice Python Exercise:\n",
    "\n",
    "# Function - 2 qns\n",
    "# 1. Write a function that takes a list of numbers and returns the sum of all the numbers in the list.\n",
    "# 2. Write a function that takes a list of numbers and returns the largest number in the list.\n",
    "\n",
    "#OOPs - 2 qns\n",
    "# 1. Create a class called 'Student' with attributes name, age, and grade. Create a method that returns the student's name.\n",
    "# 2. Create a class called 'Car' with attributes make, model, and year. Create a method that returns the make, model, and year of the car.\n",
    "\n",
    "# Recursion - 2 qns\n",
    "# 1. Write a recursive function that takes an integer and computes the factorial of that integer.\n",
    "# 2. Write a recursive function that takes an integer and returns the sum of all the numbers from 0 to that integer.\n",
    "\n",
    "#DSA - 2 qns\n",
    "# 1. Write a function that takes a list of numbers and returns the largest number in the list.\n",
    "# 2. Write a function that takes a list of numbers and returns the sum of all the numbers in the list.\n",
    "\n",
    "#Pandas+Numpy - 2 qns\n",
    "# 1. Create a pandas dataframe with the following data:\n",
    "#    Name Age Grade\n",
    "#    John 12  A\n",
    "#    Jane 13  B\n",
    "#    Jack 14  C\n",
    "#    Jill 15  A\n",
    "# 2. Create a numpy array with the following data:\n",
    "#    1 2 3 4 5\n",
    "#    6 7 8 9 10\n",
    "#    11 12 13 14 15\n",
    "#    16 17 18 19 20\n",
    "#    21 22 23 24 25\n",
    "\n",
    "#\n",
    "#"
   ]
  },
  {
   "cell_type": "code",
   "execution_count": 1,
   "metadata": {},
   "outputs": [
    {
     "name": "stdout",
     "output_type": "stream",
     "text": [
      "15\n"
     ]
    }
   ],
   "source": [
    "# Q1. Write a function that takes a list of numbers and returns the sum of all the numbers in the list.\n",
    "def add(list):\n",
    "    return sum(list)\n",
    "print(add([1,2,3,4,5]))"
   ]
  },
  {
   "cell_type": "code",
   "execution_count": 2,
   "metadata": {},
   "outputs": [
    {
     "name": "stdout",
     "output_type": "stream",
     "text": [
      "5\n"
     ]
    }
   ],
   "source": [
    "# Q2. Write a function that takes a list of numbers and returns the largest number in the list.\n",
    "def large(list):\n",
    "    list.sort()\n",
    "    return list[-1]\n",
    "print(large([1,2,3,4,5]))"
   ]
  },
  {
   "cell_type": "code",
   "execution_count": 6,
   "metadata": {},
   "outputs": [
    {
     "name": "stdout",
     "output_type": "stream",
     "text": [
      "John\n"
     ]
    }
   ],
   "source": [
    "#3. Create a class called 'Student' with attributes name, age, and grade. Create a method that returns the student's name.\n",
    "class Student:\n",
    "    def __init__(self, name, age, grade ):\n",
    "        self.name = name\n",
    "        self.age = age\n",
    "        self.grade = grade\n",
    "    def get_name(self):\n",
    "        return self.name\n",
    "    \n",
    "    student1 = Student('John', 12, 'A')\n",
    "    y =student1.get_name()\n",
    "    print(y)"
   ]
  },
  {
   "cell_type": "code",
   "execution_count": 10,
   "metadata": {},
   "outputs": [
    {
     "name": "stdout",
     "output_type": "stream",
     "text": [
      "Toyota\n",
      "Camry\n",
      "2021\n"
     ]
    }
   ],
   "source": [
    "#4. Create a class called 'Car' with attributes make, model, and year. Create a method that returns the make, model, and year of the car.\n",
    "\n",
    "class Car:\n",
    "    def __init__(self,make,model,year):\n",
    "        self.make = make\n",
    "        self.model = model\n",
    "        self.year = year\n",
    "        \n",
    "    def car_make(self):\n",
    "        return self.make\n",
    "    def car_model(self):\n",
    "        return self.model\n",
    "    def car_year(self):\n",
    "        return self.year\n",
    "    \n",
    "car1 = Car('Toyota','Camry',2021)\n",
    "print(car1.car_make())\n",
    "print(car1.car_model())\n",
    "print(car1.car_year())"
   ]
  },
  {
   "cell_type": "code",
   "execution_count": 12,
   "metadata": {},
   "outputs": [
    {
     "name": "stdout",
     "output_type": "stream",
     "text": [
      "120\n"
     ]
    }
   ],
   "source": [
    "# Q5. Write a recursive function that takes an integer and computes the factorial of that integer.\n",
    "def fact(n):\n",
    "    if n ==0 or n==1:\n",
    "        return 1\n",
    "    else:\n",
    "        return n*fact(n-1)\n",
    "    \n",
    "print(fact(5))"
   ]
  },
  {
   "cell_type": "code",
   "execution_count": 13,
   "metadata": {},
   "outputs": [
    {
     "name": "stdout",
     "output_type": "stream",
     "text": [
      "15\n"
     ]
    }
   ],
   "source": [
    "# Q6. Write a recursive function that takes an integer and returns the sum of all the numbers from 0 to that integer.\n",
    "def sum_n(n):\n",
    "    if n == 1:\n",
    "        return 1\n",
    "    else:\n",
    "        return n + sum_n(n-1)\n",
    "    \n",
    "print(sum_n(5))"
   ]
  },
  {
   "cell_type": "code",
   "execution_count": 29,
   "metadata": {},
   "outputs": [
    {
     "name": "stdout",
     "output_type": "stream",
     "text": [
      "2\n",
      "4\n",
      "6\n",
      "6\n"
     ]
    }
   ],
   "source": [
    "# Q7. Write a function that takes a list of numbers and returns the largest number in the list.\n",
    "def large(list):\n",
    "    n = len(list)\n",
    "    # print(n)\n",
    "    max = list[0]\n",
    "    for i in range(1,n):\n",
    "        if list[i] > max:\n",
    "            print(list[i])\n",
    "            max = list[i]\n",
    "        else:\n",
    "            max = max\n",
    "    return max\n",
    "print(large([1,1,2,2,1,4,6,5]))"
   ]
  },
  {
   "cell_type": "code",
   "execution_count": 30,
   "metadata": {},
   "outputs": [
    {
     "name": "stdout",
     "output_type": "stream",
     "text": [
      "15\n"
     ]
    }
   ],
   "source": [
    "# Q8. Write a function that takes a list of numbers and returns the sum of all the numbers in the list.\n",
    "def sumof(list):\n",
    "    l = len(list)\n",
    "    sum = list[0]\n",
    "    for i in range(1,l):\n",
    "        sum = sum + list[i]\n",
    "    return sum \n",
    "print(sumof([1,2,3,4,5]))"
   ]
  },
  {
   "cell_type": "code",
   "execution_count": 31,
   "metadata": {},
   "outputs": [
    {
     "name": "stdout",
     "output_type": "stream",
     "text": [
      "   Name  Age Grade\n",
      "0  John   12     A\n",
      "1  Jane   13     B\n",
      "2  Jack   14     C\n",
      "3  Jill   15     A\n"
     ]
    }
   ],
   "source": [
    "# Q9. Create a pandas dataframe with the following data:\n",
    "#    Name Age Grade\n",
    "#    John 12  A\n",
    "#    Jane 13  B\n",
    "#    Jack 14  C\n",
    "#    Jill 15  A\n",
    "\n",
    "import pandas as pd \n",
    "data = {'Name':['John','Jane','Jack','Jill'],\n",
    "        'Age':[12,13,14,15],\n",
    "        'Grade':['A','B','C','A']}\n",
    "df = pd.DataFrame(data)\n",
    "print(df)"
   ]
  },
  {
   "cell_type": "code",
   "execution_count": 32,
   "metadata": {},
   "outputs": [
    {
     "name": "stdout",
     "output_type": "stream",
     "text": [
      "[[ 1  2  3  4  5]\n",
      " [ 6  7  8  9 10]\n",
      " [11 12 13 14 15]\n",
      " [16 17 18 19 20]\n",
      " [21 22 23 24 25]]\n"
     ]
    }
   ],
   "source": [
    "# Q10. Create a numpy array with the following data:\n",
    "#    1 2 3 4 5\n",
    "#    6 7 8 9 10\n",
    "#    11 12 13 14 15\n",
    "#    16 17 18 19 20\n",
    "#    21 22 23 24 25\n",
    "\n",
    "import numpy as np\n",
    "data = [[1,2,3,4,5],\n",
    "        [6,7,8,9,10],\n",
    "        [11,12,13,14,15],\n",
    "        [16,17,18,19,20],\n",
    "        [21,22,23,24,25]]\n",
    "arr = np.array(data)\n",
    "print(arr)"
   ]
  },
  {
   "cell_type": "code",
   "execution_count": null,
   "metadata": {},
   "outputs": [],
   "source": []
  }
 ],
 "metadata": {
  "kernelspec": {
   "display_name": "Python 3",
   "language": "python",
   "name": "python3"
  },
  "language_info": {
   "codemirror_mode": {
    "name": "ipython",
    "version": 3
   },
   "file_extension": ".py",
   "mimetype": "text/x-python",
   "name": "python",
   "nbconvert_exporter": "python",
   "pygments_lexer": "ipython3",
   "version": "3.12.2"
  }
 },
 "nbformat": 4,
 "nbformat_minor": 2
}
