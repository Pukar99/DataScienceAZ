{
 "cells": [
  {
   "cell_type": "code",
   "execution_count": null,
   "metadata": {},
   "outputs": [],
   "source": [
    "# Day 4 Python Practice Questions:\n",
    "\n",
    "# Practice Python Exercise:\n",
    "\n",
    "# Function - 2 questions\n",
    "\n",
    "# Write a function that takes a list of numbers and returns the average of all the numbers in the list.\n",
    "# Write a function that takes a list of numbers and returns a new list containing only the even numbers from the original list.\n",
    "\n",
    "\n",
    "# OOP - 2 questions\n",
    "\n",
    "# Modify the 'Student' class to include a method that returns the student's details in the format \"Name: [name], Age: [age], Grade: [grade]\".\n",
    "# Extend the 'Car' class with a method that checks if the car is more than 10 years old. If so, the method should return True; otherwise, False.\n",
    "\n",
    "# Recursion - 2 questions\n",
    "\n",
    "# Write a recursive function that computes the nth Fibonacci number.\n",
    "# Write a recursive function that takes a list of integers and returns the sum of all even numbers in the list.\n",
    "\n",
    "\n",
    "# DSA - 2 questions\n",
    "\n",
    "# Write a function that takes a list of strings and returns the string that appears most frequently in the list. If there are multiple strings with the same highest frequency, return any one of them.\n",
    "# Write a function that takes a list of integers and returns a tuple containing the smallest and largest numbers in the list.\n",
    "\n",
    "\n",
    "# Pandas+Numpy - 2 questions\n",
    "\n",
    "# Using the dataframe from Day 3, add a column 'Sports' with values 'Football', 'Basketball', 'Volleyball', 'Tennis', 'Hockey' respectively. Then, write a function that filters and returns names of students who play either 'Football' or 'Tennis'.\n",
    "# Create a numpy array that represents a 5x5 matrix of random numbers between 1 and 100. Write a function that returns the sum of the diagonal elements of this matrix."
   ]
  },
  {
   "cell_type": "markdown",
   "metadata": {},
   "source": [
    "<!-- # Day 4 Python Practice Questions:\n",
    "\n",
    "# Practice Python Exercise:\n",
    "\n",
    "# Function - 2 questions\n",
    "\n",
    "# Write a function that takes a list of numbers and returns the average of all the numbers in the list.\n",
    "# Write a function that takes a list of numbers and returns a new list containing only the even numbers from the original list.\n",
    "\n",
    "\n",
    "# OOP - 2 questions\n",
    "\n",
    "# Modify the 'Student' class to include a method that returns the student's details in the format \"Name: [name], Age: [age], Grade: [grade]\".\n",
    "# Extend the 'Car' class with a method that checks if the car is more than 10 years old. If so, the method should return True; otherwise, False.\n",
    "\n",
    "# Recursion - 2 questions\n",
    "\n",
    "# Write a recursive function that computes the nth Fibonacci number.\n",
    "# Write a recursive function that takes a list of integers and returns the sum of all even numbers in the list.\n",
    "\n",
    "\n",
    "# DSA - 2 questions\n",
    "\n",
    "# Write a function that takes a list of strings and returns the string that appears most frequently in the list. If there are multiple strings with the same highest frequency, return any one of them.\n",
    "# Write a function that takes a list of integers and returns a tuple containing the smallest and largest numbers in the list.\n",
    "\n",
    "\n",
    "# Pandas+Numpy - 2 questions\n",
    "\n",
    "# Using the dataframe from Day 3, add a column 'Sports' with values 'Football', 'Basketball', 'Volleyball', 'Tennis', 'Hockey' respectively. Then, write a function that filters and returns names of students who play either 'Football' or 'Tennis'.\n",
    "# Create a numpy array that represents a 5x5 matrix of random numbers between 1 and 100. Write a function that returns the sum of the diagonal elements of this matrix. -->"
   ]
  },
  {
   "cell_type": "code",
   "execution_count": null,
   "metadata": {},
   "outputs": [],
   "source": []
  }
 ],
 "metadata": {
  "kernelspec": {
   "display_name": "Python 3",
   "language": "python",
   "name": "python3"
  },
  "language_info": {
   "name": "python",
   "version": "3.12.2"
  }
 },
 "nbformat": 4,
 "nbformat_minor": 2
}
