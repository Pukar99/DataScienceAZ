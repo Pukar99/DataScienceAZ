{
 "cells": [
  {
   "cell_type": "code",
   "execution_count": null,
   "metadata": {},
   "outputs": [],
   "source": [
    "# Day 4 Python Practice Questions:\n",
    "\n",
    "# Practice Python Exercise:\n",
    "\n",
    "# Function - 2 questions\n",
    "\n",
    "# Write a function that takes a list of numbers and returns the average of all the numbers in the list.\n",
    "# Write a function that takes a list of numbers and returns a new list containing only the even numbers from the original list.\n",
    "\n",
    "\n",
    "# OOP - 2 questions\n",
    "\n",
    "# Modify the 'Student' class to include a method that returns the student's details in the format \"Name: [name], Age: [age], Grade: [grade]\".\n",
    "# Extend the 'Car' class with a method that checks if the car is more than 10 years old. If so, the method should return True; otherwise, False.\n",
    "\n",
    "# Recursion - 2 questions\n",
    "\n",
    "# Write a recursive function that computes the nth Fibonacci number.\n",
    "# Write a recursive function that takes a list of integers and returns the sum of all even numbers in the list.\n",
    "\n",
    "\n",
    "# DSA - 2 questions\n",
    "\n",
    "# Write a function that takes a list of strings and returns the string that appears most frequently in the list. If there are multiple strings with the same highest frequency, return any one of them.\n",
    "# Write a function that takes a list of integers and returns a tuple containing the smallest and largest numbers in the list.\n",
    "\n",
    "\n",
    "# Pandas+Numpy - 2 questions\n",
    "\n",
    "# Using the dataframe from Day 3, add a column 'Sports' with values 'Football', 'Basketball', 'Volleyball', 'Tennis', 'Hockey' respectively. Then, write a function that filters and returns names of students who play either 'Football' or 'Tennis'.\n",
    "# Create a numpy array that represents a 5x5 matrix of random numbers between 1 and 100. Write a function that returns the sum of the diagonal elements of this matrix."
   ]
  },
  {
   "cell_type": "markdown",
   "metadata": {},
   "source": [
    "<!-- # Day 4 Python Practice Questions:\n",
    "\n",
    "# Practice Python Exercise:\n",
    "\n",
    "# Function - 2 questions\n",
    "\n",
    "# Write a function that takes a list of numbers and returns the average of all the numbers in the list.\n",
    "# Write a function that takes a list of numbers and returns a new list containing only the even numbers from the original list.\n",
    "\n",
    "\n",
    "# OOP - 2 questions\n",
    "\n",
    "# Modify the 'Student' class to include a method that returns the student's details in the format \"Name: [name], Age: [age], Grade: [grade]\".\n",
    "# Extend the 'Car' class with a method that checks if the car is more than 10 years old. If so, the method should return True; otherwise, False.\n",
    "\n",
    "# Recursion - 2 questions\n",
    "\n",
    "# Write a recursive function that computes the nth Fibonacci number.\n",
    "# Write a recursive function that takes a list of integers and returns the sum of all even numbers in the list.\n",
    "\n",
    "\n",
    "# DSA - 2 questions\n",
    "\n",
    "# Write a function that takes a list of strings and returns the string that appears most frequently in the list. If there are multiple strings with the same highest frequency, return any one of them.\n",
    "# Write a function that takes a list of integers and returns a tuple containing the smallest and largest numbers in the list.\n",
    "\n",
    "\n",
    "# Pandas+Numpy - 2 questions\n",
    "\n",
    "# Using the dataframe from Day 3, add a column 'Sports' with values 'Football', 'Basketball', 'Volleyball', 'Tennis', 'Hockey' respectively. Then, write a function that filters and returns names of students who play either 'Football' or 'Tennis'.\n",
    "# Create a numpy array that represents a 5x5 matrix of random numbers between 1 and 100. Write a function that returns the sum of the diagonal elements of this matrix. -->"
   ]
  },
  {
   "cell_type": "code",
   "execution_count": 2,
   "metadata": {},
   "outputs": [
    {
     "name": "stdout",
     "output_type": "stream",
     "text": [
      "5.5\n"
     ]
    }
   ],
   "source": [
    "# 1. Write a function that takes a list of numbers and returns the average of all the numbers in the list.\n",
    "\n",
    "def avg(list):\n",
    "    list_sum = sum(list)/len(list)\n",
    "    return list_sum\n",
    "\n",
    "print(avg([1,2,3,4,5,6,7,8,9,10]))"
   ]
  },
  {
   "cell_type": "code",
   "execution_count": 3,
   "metadata": {},
   "outputs": [
    {
     "name": "stdout",
     "output_type": "stream",
     "text": [
      "[2, 4, 6, 8, 10]\n"
     ]
    }
   ],
   "source": [
    "# 2. Write a function that takes a list of numbers and returns a new list containing only the even numbers from the original list.\n",
    "\n",
    "def even_num(list):\n",
    "    even_num =[]\n",
    "    for i in range(len(list)):\n",
    "        if list[i] % 2 == 0:\n",
    "            even_num.append(list[i])\n",
    "    return even_num\n",
    "\n",
    "print(even_num([1,2,3,4,5,6,7,8,9,10]))\n",
    "    "
   ]
  },
  {
   "cell_type": "code",
   "execution_count": 9,
   "metadata": {},
   "outputs": [
    {
     "name": "stdout",
     "output_type": "stream",
     "text": [
      "Name=John, Age=20, Grade=A\n"
     ]
    }
   ],
   "source": [
    "# 3. Modify the 'Student' class to include a method that returns the student's details in the format \"Name: [name], Age: [age], Grade: [grade]\".\n",
    "\n",
    "class Student:\n",
    "    def __init__(self, name, age, grade):\n",
    "        self.name = name\n",
    "        self.age = age\n",
    "        self.grade = grade\n",
    "        self.details = f\"Name={self.name}, Age={self.age}, Grade={self.grade}\"\n",
    "        \n",
    "studnet1 = Student(\"John\", 20, \"A\")\n",
    "print(studnet1.details)"
   ]
  },
  {
   "cell_type": "code",
   "execution_count": 10,
   "metadata": {},
   "outputs": [
    {
     "name": "stdout",
     "output_type": "stream",
     "text": [
      "True\n"
     ]
    }
   ],
   "source": [
    "# 4. Extend the 'Car' class with a method that checks if the car is more than 10 years old. If so, the method should return True; otherwise, False.\n",
    "\n",
    "class Car:\n",
    "    def __init__(self, model, year):\n",
    "        self.model = model\n",
    "        self.year = year\n",
    "    def check_car(self):\n",
    "        if 2024-self.year>10:\n",
    "            return True \n",
    "        else :\n",
    "            return False\n",
    "car1 = Car(\"Toyota\", 2010)\n",
    "print(car1.check_car())"
   ]
  },
  {
   "cell_type": "code",
   "execution_count": null,
   "metadata": {},
   "outputs": [],
   "source": [
    "# 5. Write a recursive function that computes the nth Fibonacci number.\n"
   ]
  }
 ],
 "metadata": {
  "kernelspec": {
   "display_name": "Python 3",
   "language": "python",
   "name": "python3"
  },
  "language_info": {
   "codemirror_mode": {
    "name": "ipython",
    "version": 3
   },
   "file_extension": ".py",
   "mimetype": "text/x-python",
   "name": "python",
   "nbconvert_exporter": "python",
   "pygments_lexer": "ipython3",
   "version": "3.12.2"
  }
 },
 "nbformat": 4,
 "nbformat_minor": 2
}
