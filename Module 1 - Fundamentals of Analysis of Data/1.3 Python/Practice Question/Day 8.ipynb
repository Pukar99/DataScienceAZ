{
 "cells": [
  {
   "cell_type": "code",
   "execution_count": null,
   "metadata": {},
   "outputs": [],
   "source": [
    "# Day 8 Python Practice Questions:\n",
    "# Function and Recursion - 3 Questions\n",
    "# Function:\n",
    "# Write a function that takes a list of integers and returns a list containing the prime numbers in the original list.\n",
    "\n",
    "# Function:\n",
    "# Write a function that takes a string and returns the longest substring without repeating characters.\n",
    "\n",
    "# Recursion:\n",
    "# Write a recursive function to calculate the nth Fibonacci number, where the first two Fibonacci numbers are 0 and 1. Optimize it using memoization.\n",
    "\n",
    "# DSA - 1 Question\n",
    "# DSA:\n",
    "# Write a function that takes a list of integers and sorts them using the quicksort algorithm. Do not use any built-in sorting functions.\n",
    "# OOP - 1 Question\n",
    "# OOP:\n",
    "# Create a 'Library' class with methods to add a book, remove a book, and check out a book. Ensure that the books cannot be checked out if they are not available. Include a method to check the availability of a book.\n",
    "# Pandas + Numpy Combined - 1 Question\n",
    "# Pandas+Numpy:\n",
    "# Given a DataFrame, replace all the NaN values in numerical columns with the mean of that column. Return the modified DataFrame. Additionally, create a new column that shows the z-score (standard score) for each value in one of the numerical columns.\n"
   ]
  },
  {
   "cell_type": "code",
   "execution_count": null,
   "metadata": {},
   "outputs": [],
   "source": []
  }
 ],
 "metadata": {
  "language_info": {
   "name": "python"
  }
 },
 "nbformat": 4,
 "nbformat_minor": 2
}
