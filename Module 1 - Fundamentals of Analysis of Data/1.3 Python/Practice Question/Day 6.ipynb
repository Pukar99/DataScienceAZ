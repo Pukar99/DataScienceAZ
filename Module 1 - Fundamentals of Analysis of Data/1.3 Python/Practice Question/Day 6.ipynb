{
 "cells": [
  {
   "cell_type": "code",
   "execution_count": 4,
   "metadata": {},
   "outputs": [],
   "source": [
    "# Day 6 Python Practice Questions:\n",
    "# Practice Python Exercise:\n",
    "# Function - 2 questions\n",
    "# Write a function that takes a list of integers and returns the two numbers with the smallest difference without using any built-in sorting methods. The function should return a tuple of these two numbers.\n",
    "# Write a function that takes a string and returns the least frequent character in the string. If there is a tie, return any of the least frequent characters.\n",
    "# OOP - 2 questions\n",
    "# Enhance the 'Employee' class to include a method that calculates the annual bonus for the employee as 10% of their salary, but only if the employee has been with the company for more than 2 years. The method should return the bonus amount.\n",
    "# Create a 'Circle' class with methods to calculate the area and circumference. Include checks to ensure that the radius provided is a positive number and throw an exception if it's not.\n",
    "# Recursion - 2 questions\n",
    "# Write a recursive function that calculates the sum of all even numbers from 1 to n.\n",
    "# Write a recursive function that checks if a word is a palindrome.\n",
    "# DSA - 2 questions\n",
    "# Write a function that takes a list of integers and sorts them using the insertion sort algorithm.\n",
    "# Implement a function to perform a linear search on an unsorted list of integers to find a specific value. If the value is found, return its index; otherwise, return -1.\n",
    "# Pandas+Numpy - 2 questions\n",
    "# Using a given DataFrame, replace all NaN values with the median of their respective columns, then return a DataFrame that contains only columns where the median value is greater than 30.\n",
    "# Create a numpy array that represents a 4x4 matrix with values ranging from 16 to 1 (in descending order). Write a function that calculates and returns the sum of the elements on the main diagonal."
   ]
  },
  {
   "cell_type": "code",
   "execution_count": 12,
   "metadata": {},
   "outputs": [
    {
     "name": "stdout",
     "output_type": "stream",
     "text": [
      "(4, 3)\n"
     ]
    }
   ],
   "source": [
    "# Function - 2 questions\n",
    "# Write a function that takes a list of integers and returns the two numbers with the smallest difference without using any built-in sorting methods. The function should return a tuple of these two numbers.\n",
    "\n",
    "def smallest_difference(lst):\n",
    "    min_diff = float('inf')\n",
    "    result = None\n",
    "    for i in range(len(lst)):\n",
    "        for j in range(i+1, len(lst)):\n",
    "            diff = abs(lst[i] - lst[j])\n",
    "            if diff < min_diff:\n",
    "                min_diff = diff\n",
    "                result = (lst[i], lst[j])\n",
    "    return result\n",
    "\n",
    "print(smallest_difference([4, 2, 1, 3, 5]))  # (2, 3)"
   ]
  },
  {
   "cell_type": "code",
   "execution_count": 14,
   "metadata": {},
   "outputs": [
    {
     "name": "stdout",
     "output_type": "stream",
     "text": [
      "['h', 'e', 'o']\n"
     ]
    }
   ],
   "source": [
    "# Write a function that takes a string and returns the least frequent character in the string. If there is a tie, return any of the least frequent characters.\n",
    "\n",
    "def least_frequent_char(s):\n",
    "    freq = {}\n",
    "    for char in s:\n",
    "        if char in freq:\n",
    "            freq[char] += 1\n",
    "        else:\n",
    "            freq[char] = 1\n",
    "    min_freq = min(freq.values())\n",
    "    result = [char for char, count in freq.items() if count == min_freq]\n",
    "    return result\n",
    "\n",
    "print(least_frequent_char('hello'))  # ['h', 'e', 'o']\n",
    "# we can find the least frequent character in the string 'hello' is 'h', 'e', 'o' with frequency 1."
   ]
  },
  {
   "cell_type": "code",
   "execution_count": 15,
   "metadata": {},
   "outputs": [
    {
     "name": "stdout",
     "output_type": "stream",
     "text": [
      "5000.0\n"
     ]
    }
   ],
   "source": [
    "# OOP - 2 questions\n",
    "# Enhance the 'Employee' class to include a method that calculates the annual bonus for the employee as 10% of their salary, but only if the employee has been with the company for more than 2 years. The method should return the bonus amount.\n",
    "\n",
    "class Employee:\n",
    "    def __init__(self, name, salary, years):\n",
    "        self.name = name\n",
    "        self.salary = salary\n",
    "        self.years = years\n",
    "\n",
    "    def calculate_bonus(self):\n",
    "        if self.years > 2:\n",
    "            return 0.1 * self.salary\n",
    "        return 0\n",
    "    \n",
    "emp1 = Employee('Alice', 50000, 3)\n",
    "print(emp1.calculate_bonus())  # 5000\n"
   ]
  },
  {
   "cell_type": "code",
   "execution_count": 17,
   "metadata": {},
   "outputs": [
    {
     "name": "stdout",
     "output_type": "stream",
     "text": [
      "78.5\n"
     ]
    }
   ],
   "source": [
    "# Create a 'Circle' class with methods to calculate the area and circumference. Include checks to ensure that the radius provided is a positive number and throw an exception if it's not.\n",
    "\n",
    "class Circle:\n",
    "    def __init__(self, radius):\n",
    "        if radius <= 0:\n",
    "            raise ValueError('Radius must be a positive number')\n",
    "        self.radius = radius\n",
    "\n",
    "    def area(self):\n",
    "        return 3.14 * self.radius ** 2\n",
    "\n",
    "    def circumference(self):\n",
    "        return 2 * 3.14 * self.radius\n",
    "    \n",
    "circle1 = Circle(5)\n",
    "print(circle1.area())  # 78.5"
   ]
  },
  {
   "cell_type": "code",
   "execution_count": 18,
   "metadata": {},
   "outputs": [
    {
     "name": "stdout",
     "output_type": "stream",
     "text": [
      "30\n"
     ]
    }
   ],
   "source": [
    "# Recursion - 2 questions\n",
    "# Write a recursive function that calculates the sum of all even numbers from 1 to n.\n",
    "\n",
    "def sum_even(n):\n",
    "    if n == 0:\n",
    "        return 0\n",
    "    if n % 2 == 0:\n",
    "        return n + sum_even(n-2)\n",
    "    return sum_even(n-1)\n",
    "\n",
    "print(sum_even(10))  # 30\n"
   ]
  },
  {
   "cell_type": "code",
   "execution_count": 19,
   "metadata": {},
   "outputs": [
    {
     "name": "stdout",
     "output_type": "stream",
     "text": [
      "True\n"
     ]
    }
   ],
   "source": [
    "# Write a recursive function that checks if a word is a palindrome.\n",
    "\n",
    "def is_palindrome(word):\n",
    "    if len(word) <= 1:\n",
    "        return True\n",
    "    if word[0] != word[-1]:\n",
    "        return False\n",
    "    return is_palindrome(word[1:-1])\n",
    "\n",
    "print(is_palindrome('racecar'))  # True\n"
   ]
  },
  {
   "cell_type": "code",
   "execution_count": 20,
   "metadata": {},
   "outputs": [
    {
     "name": "stdout",
     "output_type": "stream",
     "text": [
      "[1, 2, 3, 4, 5]\n"
     ]
    }
   ],
   "source": [
    "# DSA - 2 questions\n",
    "# Write a function that takes a list of integers and sorts them using the insertion sort algorithm.\n",
    "\n",
    "def insertion_sort(lst):\n",
    "    for i in range(1, len(lst)):\n",
    "        key = lst[i]\n",
    "        j = i - 1\n",
    "        while j >= 0 and key < lst[j]:\n",
    "            lst[j + 1] = lst[j]\n",
    "            j -= 1\n",
    "        lst[j + 1] = key\n",
    "    return lst\n",
    "\n",
    "print(insertion_sort([4, 2, 1, 3, 5]))  # [1, 2, 3, 4, 5]"
   ]
  },
  {
   "cell_type": "code",
   "execution_count": 21,
   "metadata": {},
   "outputs": [
    {
     "name": "stdout",
     "output_type": "stream",
     "text": [
      "3\n"
     ]
    }
   ],
   "source": [
    "# Implement a function to perform a linear search on an unsorted list of integers to find a specific value. If the value is found, return its index; otherwise, return -1.\n",
    "\n",
    "def linear_search(lst, target):\n",
    "    for i in range(len(lst)):\n",
    "        if lst[i] == target:\n",
    "            return i\n",
    "    return -1\n",
    "\n",
    "print(linear_search([4, 2, 1, 3, 5], 3))  # 3\n"
   ]
  },
  {
   "cell_type": "code",
   "execution_count": 23,
   "metadata": {},
   "outputs": [
    {
     "name": "stdout",
     "output_type": "stream",
     "text": [
      "      B    C\n",
      "0  30.0   70\n",
      "1  50.0   80\n",
      "2  50.0   90\n",
      "3  60.0  100\n",
      "34\n"
     ]
    }
   ],
   "source": [
    "# Pandas+Numpy - 2 questions\n",
    "# Using a given DataFrame, replace all NaN values with the median of their respective columns, then return a DataFrame that contains only columns where the median value is greater than 30.\n",
    "import pandas as pd\n",
    "import numpy as np\n",
    "\n",
    "data = {\n",
    "    'A': [10, 20, np.nan, 40],\n",
    "    'B': [30, np.nan, 50, 60],\n",
    "    'C': [70, 80, 90, 100]\n",
    "}\n",
    "\n",
    "df = pd.DataFrame(data)\n",
    "\n",
    "# Fill NaN values with the median of their respective columns\n",
    "df.fillna(df.median(), inplace=True)\n",
    "\n",
    "# Filter columns where the median value is greater than 30\n",
    "filtered_columns = df.median() > 30\n",
    "result = df.loc[:, filtered_columns]\n",
    "\n",
    "print(result)\n",
    "\n",
    "# Create a numpy array that represents a 4x4 matrix with values ranging from 16 to 1 (in descending order). Write a function that calculates and returns the sum of the elements on the main diagonal.\n",
    "\n",
    "arr = np.arange(16, 0, -1).reshape(4, 4)\n",
    "\n",
    "def sum_diagonal(arr):\n",
    "    return np.trace(arr)\n",
    "\n",
    "print(sum_diagonal(arr))  # 34\n",
    "\n"
   ]
  },
  {
   "cell_type": "code",
   "execution_count": null,
   "metadata": {},
   "outputs": [],
   "source": []
  }
 ],
 "metadata": {
  "kernelspec": {
   "display_name": "Python 3",
   "language": "python",
   "name": "python3"
  },
  "language_info": {
   "codemirror_mode": {
    "name": "ipython",
    "version": 3
   },
   "file_extension": ".py",
   "mimetype": "text/x-python",
   "name": "python",
   "nbconvert_exporter": "python",
   "pygments_lexer": "ipython3",
   "version": "3.12.2"
  }
 },
 "nbformat": 4,
 "nbformat_minor": 2
}
