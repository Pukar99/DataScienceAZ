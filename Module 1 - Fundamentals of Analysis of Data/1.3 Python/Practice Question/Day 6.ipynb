{
 "cells": [
  {
   "cell_type": "code",
   "execution_count": null,
   "metadata": {},
   "outputs": [],
   "source": [
    "# Day 6 Python Practice Questions:\n",
    "# Practice Python Exercise:\n",
    "# Function - 2 questions\n",
    "# Write a function that takes a list of integers and returns the two numbers with the smallest difference without using any built-in sorting methods. The function should return a tuple of these two numbers.\n",
    "# Write a function that takes a string and returns the least frequent character in the string. If there is a tie, return any of the least frequent characters.\n",
    "# OOP - 2 questions\n",
    "# Enhance the 'Employee' class to include a method that calculates the annual bonus for the employee as 10% of their salary, but only if the employee has been with the company for more than 2 years. The method should return the bonus amount.\n",
    "# Create a 'Circle' class with methods to calculate the area and circumference. Include checks to ensure that the radius provided is a positive number and throw an exception if it's not.\n",
    "# Recursion - 2 questions\n",
    "# Write a recursive function that calculates the sum of all even numbers from 1 to n.\n",
    "# Write a recursive function that checks if a word is a palindrome.\n",
    "# DSA - 2 questions\n",
    "# Write a function that takes a list of integers and sorts them using the insertion sort algorithm.\n",
    "# Implement a function to perform a linear search on an unsorted list of integers to find a specific value. If the value is found, return its index; otherwise, return -1.\n",
    "# Pandas+Numpy - 2 questions\n",
    "# Using a given DataFrame, replace all NaN values with the median of their respective columns, then return a DataFrame that contains only columns where the median value is greater than 30.\n",
    "# Create a numpy array that represents a 4x4 matrix with values ranging from 16 to 1 (in descending order). Write a function that calculates and returns the sum of the elements on the main diagonal."
   ]
  },
  {
   "cell_type": "code",
   "execution_count": null,
   "metadata": {},
   "outputs": [],
   "source": []
  }
 ],
 "metadata": {
  "language_info": {
   "name": "python"
  }
 },
 "nbformat": 4,
 "nbformat_minor": 2
}
