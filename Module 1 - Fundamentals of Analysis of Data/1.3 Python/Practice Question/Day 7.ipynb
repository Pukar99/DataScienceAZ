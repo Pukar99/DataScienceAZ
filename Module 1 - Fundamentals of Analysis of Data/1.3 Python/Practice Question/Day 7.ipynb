{
 "cells": [
  {
   "cell_type": "code",
   "execution_count": 1,
   "metadata": {},
   "outputs": [],
   "source": [
    "# Day 7 Python Practice Questions:\n",
    "\n",
    "# Function and Recursion - 3 questions\n",
    "# Function: Write a function that takes two lists of integers and returns a list containing the elements that appear in both lists. Do not use any built-in set operations.\n",
    "\n",
    "# Function: Write a function that takes a string and returns a dictionary with the counts of each vowel ('a', 'e', 'i', 'o', 'u') in the string. The function should be case-insensitive.\n",
    "\n",
    "# Recursion: Write a recursive function to calculate the greatest common divisor (GCD) of two positive integers using the Euclidean algorithm.\n",
    "\n",
    "# DSA - 1 question\n",
    "# DSA: Write a function that takes a list of integers and sorts them using the merge sort algorithm. Do not use any built-in sorting functions.\n",
    "# OOP - 1 question\n",
    "# OOP: Create a 'BankAccount' class with methods to deposit, withdraw, and check the balance. Ensure that the balance cannot go negative and throw an exception if a withdrawal is attempted with insufficient funds. Include a method to transfer money between two BankAccount instances.\n",
    "# Pandas+Numpy Combined - 1 question\n",
    "# Pandas+Numpy: Using a given DataFrame, normalize each column (i.e., rescale the values to be between 0 and 1). Return a DataFrame containing only the columns where the maximum value before normalization was greater than 50.\n",
    "\n",
    "\n",
    "\n"
   ]
  },
  {
   "cell_type": "code",
   "execution_count": 4,
   "metadata": {},
   "outputs": [
    {
     "name": "stdout",
     "output_type": "stream",
     "text": [
      "[4, 5]\n"
     ]
    }
   ],
   "source": [
    "# Function and Recursion - 3 questions\n",
    "# Function: Write a function that takes two lists of integers and returns a list containing the elements that appear in both lists. Do not use any built-in set operations.\n",
    "\n",
    "def common_elements(list1, list2):\n",
    "    common = []\n",
    "    for i in list1:\n",
    "        if i in list2:\n",
    "            common.append(i)\n",
    "    return common\n",
    "\n",
    "list1 = [1, 2, 3, 4, 5]\n",
    "list2 = [4, 5, 6, 7, 8]\n",
    "print(common_elements(list1, list2))"
   ]
  },
  {
   "cell_type": "code",
   "execution_count": 5,
   "metadata": {},
   "outputs": [
    {
     "name": "stdout",
     "output_type": "stream",
     "text": [
      "{'a': 0, 'e': 1, 'i': 0, 'o': 2, 'u': 0}\n"
     ]
    }
   ],
   "source": [
    "# Function: Write a function that takes a string and returns a dictionary with the counts of each vowel ('a', 'e', 'i', 'o', 'u') in the string. The function should be case-insensitive.\n",
    "\n",
    "def count_vowels(s):\n",
    "    vowels = {'a': 0, 'e': 0, 'i': 0, 'o': 0, 'u': 0}\n",
    "    for char in s.lower():\n",
    "        if char in vowels:\n",
    "            vowels[char] += 1\n",
    "    return vowels\n",
    "\n",
    "s = \"Hello, World!\"\n",
    "print(count_vowels(s))"
   ]
  },
  {
   "cell_type": "code",
   "execution_count": 6,
   "metadata": {},
   "outputs": [
    {
     "name": "stdout",
     "output_type": "stream",
     "text": [
      "12\n"
     ]
    }
   ],
   "source": [
    "# Recursion: Write a recursive function to calculate the greatest common divisor (GCD) of two positive integers using the Euclidean algorithm.\n",
    "\n",
    "def gcd(a, b):\n",
    "    if b == 0:\n",
    "        return a\n",
    "    return gcd(b, a % b)\n",
    "\n",
    "a = 24\n",
    "b = 36\n",
    "print(gcd(a, b))"
   ]
  },
  {
   "cell_type": "code",
   "execution_count": 7,
   "metadata": {},
   "outputs": [
    {
     "name": "stdout",
     "output_type": "stream",
     "text": [
      "[1, 1, 2, 3, 3, 4, 5, 5, 5, 6, 9]\n"
     ]
    }
   ],
   "source": [
    "# DSA - 1 question\n",
    "# DSA: Write a function that takes a list of integers and sorts them using the merge sort algorithm. Do not use any built-in sorting functions.\n",
    "\n",
    "def merge_sort(arr):\n",
    "    if len(arr) <= 1:\n",
    "        return arr\n",
    "    mid = len(arr) // 2\n",
    "    left = merge_sort(arr[:mid])\n",
    "    right = merge_sort(arr[mid:])\n",
    "    return merge(left, right)\n",
    "\n",
    "def merge(left, right):\n",
    "    result = []\n",
    "    i = j = 0\n",
    "    while i < len(left) and j < len(right):\n",
    "        if left[i] < right[j]:\n",
    "            result.append(left[i])\n",
    "            i += 1\n",
    "        else:\n",
    "            result.append(right[j])\n",
    "            j += 1\n",
    "    result.extend(left[i:])\n",
    "    result.extend(right[j:])\n",
    "    return result\n",
    "\n",
    "arr = [3, 1, 4, 1, 5, 9, 2, 6, 5, 3, 5]\n",
    "print(merge_sort(arr))"
   ]
  },
  {
   "cell_type": "code",
   "execution_count": 8,
   "metadata": {},
   "outputs": [
    {
     "name": "stdout",
     "output_type": "stream",
     "text": [
      "75\n",
      "75\n"
     ]
    }
   ],
   "source": [
    "# OOP - 1 question\n",
    "\n",
    "# OOP: Create a 'BankAccount' class with methods to deposit, withdraw, and check the balance. Ensure that the balance cannot go negative and throw an exception if a withdrawal is attempted with insufficient funds. Include a method to transfer money between two BankAccount instances.\n",
    "\n",
    "class BankAccount:\n",
    "    def __init__(self, balance=0):\n",
    "        self.balance = balance\n",
    "\n",
    "    def deposit(self, amount):\n",
    "        self.balance += amount\n",
    "\n",
    "    def withdraw(self, amount):\n",
    "        if self.balance < amount:\n",
    "            raise ValueError(\"Insufficient funds\")\n",
    "        self.balance -= amount\n",
    "\n",
    "    def check_balance(self):\n",
    "        return self.balance\n",
    "\n",
    "    def transfer(self, other, amount):\n",
    "        self.withdraw(amount)\n",
    "        other.deposit(amount)\n",
    "        \n",
    "account1 = BankAccount(100)\n",
    "account2 = BankAccount(50)\n",
    "account1.transfer(account2, 25)\n",
    "print(account1.check_balance())\n",
    "print(account2.check_balance())"
   ]
  },
  {
   "cell_type": "code",
   "execution_count": null,
   "metadata": {},
   "outputs": [],
   "source": []
  }
 ],
 "metadata": {
  "kernelspec": {
   "display_name": "Python 3",
   "language": "python",
   "name": "python3"
  },
  "language_info": {
   "codemirror_mode": {
    "name": "ipython",
    "version": 3
   },
   "file_extension": ".py",
   "mimetype": "text/x-python",
   "name": "python",
   "nbconvert_exporter": "python",
   "pygments_lexer": "ipython3",
   "version": "3.12.2"
  }
 },
 "nbformat": 4,
 "nbformat_minor": 2
}
