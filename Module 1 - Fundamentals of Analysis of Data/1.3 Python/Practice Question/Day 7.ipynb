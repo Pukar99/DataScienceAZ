{
 "cells": [
  {
   "cell_type": "code",
   "execution_count": 1,
   "metadata": {},
   "outputs": [],
   "source": [
    "# Day 7 Python Practice Questions:\n",
    "\n",
    "# Function and Recursion - 3 questions\n",
    "# Function: Write a function that takes two lists of integers and returns a list containing the elements that appear in both lists. Do not use any built-in set operations.\n",
    "\n",
    "# Function: Write a function that takes a string and returns a dictionary with the counts of each vowel ('a', 'e', 'i', 'o', 'u') in the string. The function should be case-insensitive.\n",
    "\n",
    "# Recursion: Write a recursive function to calculate the greatest common divisor (GCD) of two positive integers using the Euclidean algorithm.\n",
    "\n",
    "# DSA - 1 question\n",
    "# DSA: Write a function that takes a list of integers and sorts them using the merge sort algorithm. Do not use any built-in sorting functions.\n",
    "# OOP - 1 question\n",
    "# OOP: Create a 'BankAccount' class with methods to deposit, withdraw, and check the balance. Ensure that the balance cannot go negative and throw an exception if a withdrawal is attempted with insufficient funds. Include a method to transfer money between two BankAccount instances.\n",
    "# Pandas+Numpy Combined - 1 question\n",
    "# Pandas+Numpy: Using a given DataFrame, normalize each column (i.e., rescale the values to be between 0 and 1). Return a DataFrame containing only the columns where the maximum value before normalization was greater than 50.\n",
    "\n",
    "\n",
    "\n"
   ]
  },
  {
   "cell_type": "code",
   "execution_count": 3,
   "metadata": {},
   "outputs": [
    {
     "name": "stdout",
     "output_type": "stream",
     "text": [
      "[4, 5]\n"
     ]
    }
   ],
   "source": [
    "# Function and Recursion - 3 questions\n",
    "# Function: Write a function that takes two lists of integers and returns a list containing the elements that appear in both lists. Do not use any built-in set operations.\n",
    "\n",
    "def common_elements(list1, list2):\n",
    "    common = []\n",
    "    for i in list1:\n",
    "        if i in list2:\n",
    "            common.append(i)\n",
    "    return common\n",
    "\n",
    "list1 = [1, 2, 3, 4, 5]\n",
    "list2 = [4, 5, 6, 7, 8]\n",
    "print(common_elements(list1, list2))"
   ]
  },
  {
   "cell_type": "code",
   "execution_count": null,
   "metadata": {},
   "outputs": [],
   "source": [
    "# How "
   ]
  }
 ],
 "metadata": {
  "kernelspec": {
   "display_name": "Python 3",
   "language": "python",
   "name": "python3"
  },
  "language_info": {
   "codemirror_mode": {
    "name": "ipython",
    "version": 3
   },
   "file_extension": ".py",
   "mimetype": "text/x-python",
   "name": "python",
   "nbconvert_exporter": "python",
   "pygments_lexer": "ipython3",
   "version": "3.12.2"
  }
 },
 "nbformat": 4,
 "nbformat_minor": 2
}
