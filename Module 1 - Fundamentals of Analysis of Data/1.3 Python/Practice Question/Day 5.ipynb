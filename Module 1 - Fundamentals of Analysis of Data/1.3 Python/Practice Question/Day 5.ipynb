{
 "cells": [
  {
   "cell_type": "code",
   "execution_count": 1,
   "metadata": {},
   "outputs": [],
   "source": [
    "# # Day 5 Python Practice Questions:\n",
    "# # Practice Python Exercise:\n",
    "# # Function - 2 questions\n",
    "# # Write a function that takes a list of integers and returns the smallest difference between any two numbers in the list.\n",
    "# # Write a function that takes a string and returns the most frequent character in the string. If there is a tie, return any of the most frequent characters.\n",
    "# # OOP - 2 questions\n",
    "# # Modify the 'Employee' class to include a method that increments the employee's salary by a given percentage. The method should return the new salary.\n",
    "# # Create a 'Rectangle' class with methods to calculate the area and perimeter. Include checks to ensure that the lengths and widths provided are positive numbers.\n",
    "# # Recursion - 2 questions\n",
    "# # Write a recursive function that calculates the greatest common divisor (GCD) of two numbers.\n",
    "# # Write a recursive function that reverses a string.\n",
    "# # DSA - 2 questions\n",
    "# # Write a function that takes a list of integers and sorts them using a selection sort algorithm.\n",
    "# # Implement a function to perform binary search on a sorted list of integers to find a specific value. If the value is found, return its index; otherwise, return -1.\n",
    "# # Pandas+Numpy - 2 questions\n",
    "# # Using a given DataFrame, replace all NaN values with the mean of their respective columns, then return a DataFrame that contains only columns where the mean value is greater than 50.\n",
    "# # Create a numpy array that represents a 5x5 matrix with values ranging from 1 to 25. Write a function that calculates and returns the sum of the elements above the main diagonal."
   ]
  },
  {
   "cell_type": "code",
   "execution_count": 8,
   "metadata": {},
   "outputs": [
    {
     "name": "stdout",
     "output_type": "stream",
     "text": [
      "1\n"
     ]
    }
   ],
   "source": [
    "# # Function - 2 questions\n",
    "# # Write a function that takes a list of integers and returns the smallest difference between any two numbers in the list.\n",
    "\n",
    "def sm_dif(list):\n",
    "    list.sort()\n",
    "    min_dif = list[1] - list[0]\n",
    "    for i in range(1, len(list)-1):\n",
    "        if list[i+1] - list[i] < min_dif:\n",
    "            min_dif = list[i+1] - list[i]\n",
    "            return min_dif\n",
    "        return min_dif\n",
    "\n",
    "print(sm_dif([1, 2, 3, 4, 5, 6, 7, 8, 9, 10]))"
   ]
  },
  {
   "cell_type": "code",
   "execution_count": 13,
   "metadata": {},
   "outputs": [
    {
     "name": "stdout",
     "output_type": "stream",
     "text": [
      "2\n",
      "['l']\n"
     ]
    }
   ],
   "source": [
    "# # Write a function that takes a string and returns the most frequent character in the string. If there is a tie, return any of the most frequent characters.\n",
    "\n",
    "def freq(string):\n",
    "    freq = {}\n",
    "    for char in string:\n",
    "        if char in freq:\n",
    "            freq[char] += 1\n",
    "        else:\n",
    "            freq[char] = 1\n",
    "    max_freq = max(freq.values())\n",
    "    print(max_freq)\n",
    "    most_freq  =[]\n",
    "    for key, value in freq.items():\n",
    "        if value == max_freq:\n",
    "            most_freq.append(key)\n",
    "    return most_freq\n",
    "\n",
    "print(freq(\"hello\"))"
   ]
  },
  {
   "cell_type": "code",
   "execution_count": 16,
   "metadata": {},
   "outputs": [
    {
     "name": "stdout",
     "output_type": "stream",
     "text": [
      "55000.0\n"
     ]
    }
   ],
   "source": [
    "# # OOP - 2 questions\n",
    "# # Modify the 'Employee' class to include a method that increments the employee's salary by a given percentage. The method should return the new salary.\n",
    "\n",
    "class Employee:\n",
    "    def __init__(self, name, salary):\n",
    "        self.name = name\n",
    "        self.salary = salary\n",
    "    def inc_salary(self,percentage):\n",
    "        self.salary = self.salary +(self.salary*percentage/100)\n",
    "        return self.salary\n",
    "    \n",
    "emp = Employee(\"Shyam\", 50000)\n",
    "print(emp.inc_salary(10))\n"
   ]
  },
  {
   "cell_type": "code",
   "execution_count": 17,
   "metadata": {},
   "outputs": [
    {
     "name": "stdout",
     "output_type": "stream",
     "text": [
      "50\n",
      "30\n"
     ]
    }
   ],
   "source": [
    "# # Create a 'Rectangle' class with methods to calculate the area and perimeter. Include checks to ensure that the lengths and widths provided are positive numbers.\n",
    "\n",
    "class Rectangle:\n",
    "    def __init__(self, length, width):\n",
    "        if length <= 0 or width <= 0:\n",
    "            print(\"Length and width should be positive numbers\")\n",
    "        else:\n",
    "            self.length = length\n",
    "            self.width = width\n",
    "    def area(self):\n",
    "        return self.length * self.width\n",
    "    def perimeter(self):\n",
    "        return 2*(self.length + self.width)\n",
    "    \n",
    "rect = Rectangle(5, 10)\n",
    "print(rect.area())\n",
    "print(rect.perimeter())\n"
   ]
  },
  {
   "cell_type": "code",
   "execution_count": 18,
   "metadata": {},
   "outputs": [
    {
     "name": "stdout",
     "output_type": "stream",
     "text": [
      "3\n"
     ]
    }
   ],
   "source": [
    "# # Recursion - 2 questions\n",
    "# # Write a recursive function that calculates the greatest common divisor (GCD) of two numbers.\n",
    "\n",
    "def gcd(a, b):\n",
    "    if b == 0:\n",
    "        return a\n",
    "    else:\n",
    "        return gcd(b, a%b) \n",
    "    \n",
    "print(gcd(12, 15))"
   ]
  },
  {
   "cell_type": "code",
   "execution_count": 21,
   "metadata": {},
   "outputs": [
    {
     "name": "stdout",
     "output_type": "stream",
     "text": [
      "olleh\n"
     ]
    }
   ],
   "source": [
    "# # Write a recursive function that reverses a string.\n",
    "\n",
    "def reverse(string):\n",
    "    if len(string) == 0:\n",
    "        return string\n",
    "    else:\n",
    "        return reverse(string[1:]) + string[0]\n",
    "    \n",
    "print(reverse(\"hello\"))"
   ]
  },
  {
   "cell_type": "code",
   "execution_count": 23,
   "metadata": {},
   "outputs": [
    {
     "data": {
      "text/plain": [
       "[2, 3, 5, 6, 7, 8]"
      ]
     },
     "execution_count": 23,
     "metadata": {},
     "output_type": "execute_result"
    }
   ],
   "source": [
    "# # DSA - 2 questions\n",
    "# # Write a function that takes a list of integers and sorts them using a selection sort algorithm.\n",
    "\n",
    "def selection_sort(arr):\n",
    "    n = len(arr)\n",
    "    for i in range(n):\n",
    "        min_index =i\n",
    "        for j in range(i+1, n):\n",
    "            if arr[j] < arr[min_index]:\n",
    "                min_index = j\n",
    "        arr[i], arr[min_index] = arr[min_index], arr[i]\n",
    "    return arr\n",
    "\n",
    "selection_sort([5, 3, 8, 6, 7, 2])"
   ]
  },
  {
   "cell_type": "code",
   "execution_count": 26,
   "metadata": {},
   "outputs": [
    {
     "name": "stdout",
     "output_type": "stream",
     "text": [
      "After iteration 1: [2, 3, 8, 6, 7, 5]\n",
      "After iteration 2: [2, 3, 8, 6, 7, 5]\n",
      "After iteration 3: [2, 3, 5, 6, 7, 8]\n",
      "After iteration 4: [2, 3, 5, 6, 7, 8]\n",
      "After iteration 5: [2, 3, 5, 6, 7, 8]\n",
      "After iteration 6: [2, 3, 5, 6, 7, 8]\n"
     ]
    },
    {
     "data": {
      "text/plain": [
       "[2, 3, 5, 6, 7, 8]"
      ]
     },
     "execution_count": 26,
     "metadata": {},
     "output_type": "execute_result"
    }
   ],
   "source": [
    "def selection_sort(arr):\n",
    "    n = len(arr)\n",
    "    for i in range(n):\n",
    "        min_index = i\n",
    "        for j in range(i+1, n):\n",
    "            if arr[j] < arr[min_index]:\n",
    "                min_index = j\n",
    "        arr[i], arr[min_index] = arr[min_index], arr[i]\n",
    "        print(f'After iteration {i+1}: {arr}')  # print array after each iteration\n",
    "    return arr\n",
    "\n",
    "selection_sort([5, 3, 8, 6, 7, 2])"
   ]
  },
  {
   "cell_type": "code",
   "execution_count": 27,
   "metadata": {},
   "outputs": [
    {
     "data": {
      "text/plain": [
       "4"
      ]
     },
     "execution_count": 27,
     "metadata": {},
     "output_type": "execute_result"
    }
   ],
   "source": [
    "# # # Implement a function to perform binary search on a sorted list of integers to find a specific value. If the value is found, return its index; otherwise, return -1.\n",
    "\n",
    "# def binary_search(arr, target):\n",
    "#     left, right = 0, len(arr)-1\n",
    "#     while left <= right:\n",
    "#         mid = (left + right)//2\n",
    "#         if arr[mid] == target:\n",
    "#             return mid\n",
    "#         elif arr[mid] < target:\n",
    "#             left = mid + 1\n",
    "#         else:\n",
    "#             right = mid - 1\n",
    "#     return -1\n",
    "\n",
    "# binary_search([2, 4, 6, 8, 10, 12, 14, 16, 18, 20], 10)"
   ]
  },
  {
   "cell_type": "code",
   "execution_count": 36,
   "metadata": {},
   "outputs": [
    {
     "name": "stdout",
     "output_type": "stream",
     "text": [
      "      A     B     C\n",
      "0  10.0   5.0   NaN\n",
      "1  20.0   NaN  10.0\n",
      "2   NaN  15.0  20.0\n",
      "3  40.0  20.0  30.0\n",
      "4  50.0  25.0  40.0\n",
      "      A      B     C\n",
      "0  10.0   5.00  25.0\n",
      "1  20.0  16.25  10.0\n",
      "2  30.0  15.00  20.0\n",
      "3  40.0  20.00  30.0\n",
      "4  50.0  25.00  40.0\n",
      "      A      B     C\n",
      "0  10.0   5.00  25.0\n",
      "1  20.0  16.25  10.0\n",
      "2  30.0  15.00  20.0\n",
      "3  40.0  20.00  30.0\n",
      "4  50.0  25.00  40.0\n"
     ]
    }
   ],
   "source": [
    "# # Pandas+Numpy - 2 questions\n",
    "# # Using a given DataFrame, replace all NaN values with the mean of their respective columns, then return a DataFrame that contains only columns where the mean value is greater than 50.\n",
    "\n",
    "import pandas as pd\n",
    "import numpy as np\n",
    "\n",
    "data = {'A': [10, 20, np.nan, 40, 50],\n",
    "        'B': [5, np.nan, 15, 20, 25],\n",
    "        'C': [np.nan, 10, 20, 30, 40]}\n",
    "df = pd.DataFrame(data)\n",
    "print(df)\n",
    "\n",
    "df.fillna(df.mean(), inplace=True)\n",
    "print(df)\n",
    "\n",
    "df = df.loc[:, df.mean() > 2]\n",
    "print(df)\n"
   ]
  },
  {
   "cell_type": "code",
   "execution_count": 37,
   "metadata": {},
   "outputs": [
    {
     "name": "stdout",
     "output_type": "stream",
     "text": [
      "[[ 1  2  3  4  5]\n",
      " [ 6  7  8  9 10]\n",
      " [11 12 13 14 15]\n",
      " [16 17 18 19 20]\n",
      " [21 22 23 24 25]]\n",
      "90\n"
     ]
    }
   ],
   "source": [
    "# # Create a numpy array that represents a 5x5 matrix with values ranging from 1 to 25. Write a function that calculates and returns the sum of the elements above the main diagonal.\n",
    "\n",
    "import numpy as np\n",
    "\n",
    "arr = np.arange(1, 26).reshape(5, 5)\n",
    "print(arr)\n",
    "\n",
    "def sum_above_diagonal(arr):\n",
    "    sum = 0\n",
    "    for i in range(len(arr)):\n",
    "        for j in range(i+1, len(arr)):\n",
    "            sum += arr[i, j]\n",
    "    return sum\n",
    "\n",
    "print(sum_above_diagonal(arr))\n"
   ]
  },
  {
   "cell_type": "code",
   "execution_count": null,
   "metadata": {},
   "outputs": [],
   "source": []
  }
 ],
 "metadata": {
  "kernelspec": {
   "display_name": "Python 3",
   "language": "python",
   "name": "python3"
  },
  "language_info": {
   "codemirror_mode": {
    "name": "ipython",
    "version": 3
   },
   "file_extension": ".py",
   "mimetype": "text/x-python",
   "name": "python",
   "nbconvert_exporter": "python",
   "pygments_lexer": "ipython3",
   "version": "3.12.2"
  }
 },
 "nbformat": 4,
 "nbformat_minor": 2
}
