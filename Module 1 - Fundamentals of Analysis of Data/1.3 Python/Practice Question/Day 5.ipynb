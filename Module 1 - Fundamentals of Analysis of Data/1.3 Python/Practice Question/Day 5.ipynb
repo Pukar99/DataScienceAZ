{
 "cells": [
  {
   "cell_type": "code",
   "execution_count": null,
   "metadata": {},
   "outputs": [],
   "source": [
    "# # Day 5 Python Practice Questions:\n",
    "# # Practice Python Exercise:\n",
    "# # Function - 2 questions\n",
    "# # Write a function that takes a list of integers and returns the smallest difference between any two numbers in the list.\n",
    "# # Write a function that takes a string and returns the most frequent character in the string. If there is a tie, return any of the most frequent characters.\n",
    "# # OOP - 2 questions\n",
    "# # Modify the 'Employee' class to include a method that increments the employee's salary by a given percentage. The method should return the new salary.\n",
    "# # Create a 'Rectangle' class with methods to calculate the area and perimeter. Include checks to ensure that the lengths and widths provided are positive numbers.\n",
    "# # Recursion - 2 questions\n",
    "# # Write a recursive function that calculates the greatest common divisor (GCD) of two numbers.\n",
    "# # Write a recursive function that reverses a string.\n",
    "# # DSA - 2 questions\n",
    "# # Write a function that takes a list of integers and sorts them using a selection sort algorithm.\n",
    "# # Implement a function to perform binary search on a sorted list of integers to find a specific value. If the value is found, return its index; otherwise, return -1.\n",
    "# # Pandas+Numpy - 2 questions\n",
    "# # Using a given DataFrame, replace all NaN values with the mean of their respective columns, then return a DataFrame that contains only columns where the mean value is greater than 50.\n",
    "# # Create a numpy array that represents a 5x5 matrix with values ranging from 1 to 25. Write a function that calculates and returns the sum of the elements above the main diagonal."
   ]
  }
 ],
 "metadata": {
  "language_info": {
   "name": "python"
  }
 },
 "nbformat": 4,
 "nbformat_minor": 2
}
