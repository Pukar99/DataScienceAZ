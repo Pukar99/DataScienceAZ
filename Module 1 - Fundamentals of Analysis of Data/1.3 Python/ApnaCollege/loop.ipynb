{
 "cells": [
  {
   "cell_type": "code",
   "execution_count": null,
   "metadata": {},
   "outputs": [],
   "source": [
    "#Loops\n",
    "nums = [1,4,9,16,25,36,49,64,81,100]\n",
    "x =36\n",
    "\n",
    "i = 0\n",
    "\n",
    "while i < len(nums):\n",
    "    if nums[i] == x:\n",
    "        print(\"found\")\n",
    "        break\n",
    "    i += 1\n",
    "else:\n",
    "    print(\"not found\")\n",
    "    \n",
    "    "
   ]
  },
  {
   "cell_type": "code",
   "execution_count": null,
   "metadata": {},
   "outputs": [],
   "source": []
  },
  {
   "cell_type": "code",
   "execution_count": null,
   "metadata": {},
   "outputs": [],
   "source": []
  }
 ],
 "metadata": {
  "kernelspec": {
   "display_name": "Python 3",
   "language": "python",
   "name": "python3"
  },
  "language_info": {
   "name": "python",
   "version": "3.12.2"
  }
 },
 "nbformat": 4,
 "nbformat_minor": 2
}
